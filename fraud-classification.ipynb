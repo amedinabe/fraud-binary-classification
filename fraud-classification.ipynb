{
 "cells": [
  {
   "cell_type": "markdown",
   "id": "6d4b9a86",
   "metadata": {},
   "source": [
    " # Use case: Fraud Binary Classification"
   ]
  },
  {
   "cell_type": "markdown",
   "id": "e31ef92d",
   "metadata": {},
   "source": [
    "Helping the compliance team to identify fraudulent behaviour by predicting if a transaction is fraudulent using classification."
   ]
  },
  {
   "cell_type": "markdown",
   "id": "b75faa83",
   "metadata": {},
   "source": [
    "Content\n",
    "\n",
    "1. Introduction\n",
    "\n",
    "2. Used libraries\n",
    "\n",
    "3. Reading Clean Data from a CSV File\n",
    "\n",
    "4. Case of study and data understanding\n",
    "\n",
    "    [4.1] Hypothesis\n",
    "    \n",
    "\n",
    "5. Transforming variables\n",
    "\n",
    "    [5.1] Categorical variables\n",
    "\n",
    "        [5.1.1] Category\n",
    "\n",
    "        [5.1.2] Gender\n",
    "\n",
    "        [5.1.3] city\n",
    "\n",
    "        [5.1.4] state\n",
    "\n",
    "        [5.1.5] job\n",
    "\n",
    "        [5.1.6] zip code\n",
    "\n",
    "    [5.2] Merchant analysis\n",
    "\n",
    "    [5.3] Feature engineering\n",
    "\n",
    "        [5.3.1] Getting year and month\n",
    "\n",
    "        [5.3.2] Getting the day of the week\n",
    "\n",
    "        [5.3.3] Getting hour of the transaction\n",
    "\n",
    "        [5.3.4] Getting the type of purchase\n",
    "\n",
    "        [5.3.5] Decrease in coordinate precision – client\n",
    "\n",
    "        [5.3.6] Age by groups\n",
    "\n",
    "    [5.4] Ordinal encoder\n",
    "\n",
    "    [5.5] Geo-location features\n",
    "\n",
    "    [5.6] Delete columns\n",
    "\n",
    "    [5.7] Saving the data\n",
    "    \n",
    "\n",
    "6. Split the data\n",
    "\n",
    "    [6.1] Reading clean data\n",
    "\n",
    "    [6.2] Split data\n",
    "\n",
    "    [6.3] Split train and validation\n",
    "\n",
    "    [6.4] Count classes\n",
    "\n",
    "\n",
    "7. Assess Baseline Model\n",
    "\n",
    "    [7.1] base model\n",
    "\n",
    "    [7.2] confusion matrix\n",
    "\n",
    "    [7.3] Count classes\n",
    "    \n",
    "\n",
    "8. Training a model\n",
    "\n",
    "    [8.1] Decision Tree Classifier\n",
    "\n",
    "    [8.2] Decision Tree Classifier with different min_samples_split\n",
    "\n",
    "    [8.3] Decision Tree Classifier with different max_depth\n",
    "\n",
    "    [8.4] Decision Tree Classifier with different max_depth and min_samples_split\n",
    "\n",
    "    [8.5] Random Forest Classifier\n",
    "\n",
    "    [8.6] Random Forest Classifier with max_features\n",
    "\n",
    "    [8.7] Extra trees Classifier\n",
    "\n",
    "    [8.8] Decision Tree Classifier with Grid Search\n",
    "\n",
    "    [8.9] Default XGBoost Classifier\n",
    "\n",
    "    [8.10] XGBoost Classifier with scale_pos_weight\n",
    "\n",
    "    [8.11] XGBoost Classifier with grid search for scale_pos_weight\t\n",
    "\n",
    "    [8.12] XGBoost Classifier with random search\n",
    "\n",
    "    [8.13] Default XGBoost Classifier with different variables\n",
    "\n",
    "    [8.14] Grid search k value with SMOTE for imbalanced classification\n",
    "\n",
    "    [8.15] XGBoost Classifier with Grid Search and SMOTE   \n",
    "\n",
    "    \n",
    "9. Conclusion\n",
    "\n",
    "10. References"
   ]
  },
  {
   "cell_type": "markdown",
   "id": "5422fb9f",
   "metadata": {},
   "source": [
    "## 1. Introduction"
   ]
  },
  {
   "cell_type": "markdown",
   "id": "67b8b574",
   "metadata": {},
   "source": [
    "In the following study, we will fit a binary classification model using Decision tree,  random forest and extra trees and XGbosots classifiers to predict if a transaction is a fraud or not as accurate as possible."
   ]
  },
  {
   "cell_type": "markdown",
   "id": "7b4cd5a1",
   "metadata": {},
   "source": [
    "## 2. Used libraries "
   ]
  },
  {
   "cell_type": "code",
   "execution_count": null,
   "id": "c3b9a4c1",
   "metadata": {},
   "outputs": [],
   "source": [
    "import pandas as pd\n",
    "import numpy as np\n",
    "\n",
    "import seaborn as sns\n",
    "import matplotlib.pyplot as plt \n",
    "\n",
    "from datetime import datetime\n",
    "from statistics import mode\n",
    "from math import radians, sin, cos, sqrt\n",
    "from collections import Counter\n",
    "from scipy.stats import randint\n",
    "from scipy.stats import uniform\n",
    "from numpy import mean\n",
    "from array import array\n",
    "\n",
    "from sklearn.metrics import accuracy_score, precision_score, recall_score, f1_score, average_precision_score, fbeta_score\n",
    "from sklearn.metrics import auc, precision_recall_curve\n",
    "from sklearn.metrics import confusion_matrix\n",
    "from sklearn.metrics import fbeta_score, make_scorer\n",
    "\n",
    "from sklearn.tree import DecisionTreeClassifier\n",
    "from sklearn.ensemble import RandomForestClassifier\n",
    "from sklearn.ensemble import ExtraTreesClassifier\n",
    "import xgboost as xgb\n",
    "from xgboost import XGBClassifier\n",
    "\n",
    "from sklearn.preprocessing import OrdinalEncoder\n",
    "\n",
    "from sklearn.model_selection import train_test_split\n",
    "from sklearn.model_selection import GridSearchCV\n",
    "from sklearn.model_selection import StratifiedKFold\n",
    "from sklearn.model_selection import cross_val_score\n",
    "from sklearn.model_selection import RepeatedStratifiedKFold\n",
    "from sklearn.model_selection import RandomizedSearchCV\n",
    "\n",
    "from sklearn.metrics import auc, precision_recall_curve\n",
    "from sklearn.metrics import precision_recall_curve\n",
    "from sklearn.metrics import auc\n",
    "from sklearn.metrics import precision_recall_curve\n",
    "from sklearn.metrics import auc\n",
    "from sklearn.metrics import fbeta_score\n",
    "\n",
    "\n",
    "from imblearn.pipeline import Pipeline\n",
    "from imblearn.over_sampling import SMOTE\n",
    "from imblearn.under_sampling import RandomUnderSampler"
   ]
  },
  {
   "cell_type": "code",
   "execution_count": 40,
   "id": "38952dd4",
   "metadata": {},
   "outputs": [],
   "source": [
    "import warnings\n",
    "warnings.filterwarnings('ignore')"
   ]
  },
  {
   "cell_type": "code",
   "execution_count": 41,
   "id": "b907b29d",
   "metadata": {},
   "outputs": [],
   "source": [
    "import warnings\n",
    "warnings.simplefilter(action='ignore', category=FutureWarning)"
   ]
  },
  {
   "cell_type": "code",
   "execution_count": 42,
   "id": "6ad70f45",
   "metadata": {},
   "outputs": [],
   "source": [
    "#!pip install xgboost\n",
    "#!pip install imbalanced-learn"
   ]
  },
  {
   "cell_type": "markdown",
   "id": "a01b38c1",
   "metadata": {},
   "source": [
    "## 3. Reading Data from a CSV File"
   ]
  },
  {
   "cell_type": "markdown",
   "id": "a7b90b0d",
   "metadata": {},
   "source": [
    "transactional data:"
   ]
  },
  {
   "cell_type": "code",
   "execution_count": 6,
   "id": "bf3776f9",
   "metadata": {},
   "outputs": [],
   "source": [
    "df = pd.read_csv(\"txn_df.csv\")"
   ]
  },
  {
   "cell_type": "code",
   "execution_count": 7,
   "id": "c5c9eb4d",
   "metadata": {},
   "outputs": [
    {
     "data": {
      "text/plain": [
       "(4260904, 19)"
      ]
     },
     "execution_count": 7,
     "metadata": {},
     "output_type": "execute_result"
    }
   ],
   "source": [
    "df.shape"
   ]
  },
  {
   "cell_type": "code",
   "execution_count": 8,
   "id": "a8e50d06",
   "metadata": {},
   "outputs": [
    {
     "data": {
      "text/html": [
       "<div>\n",
       "<style scoped>\n",
       "    .dataframe tbody tr th:only-of-type {\n",
       "        vertical-align: middle;\n",
       "    }\n",
       "\n",
       "    .dataframe tbody tr th {\n",
       "        vertical-align: top;\n",
       "    }\n",
       "\n",
       "    .dataframe thead th {\n",
       "        text-align: right;\n",
       "    }\n",
       "</style>\n",
       "<table border=\"1\" class=\"dataframe\">\n",
       "  <thead>\n",
       "    <tr style=\"text-align: right;\">\n",
       "      <th></th>\n",
       "      <th>cc_num</th>\n",
       "      <th>acct_num</th>\n",
       "      <th>trans_num</th>\n",
       "      <th>category</th>\n",
       "      <th>amt</th>\n",
       "      <th>is_fraud</th>\n",
       "      <th>merchant</th>\n",
       "      <th>merch_lat</th>\n",
       "      <th>merch_long</th>\n",
       "      <th>timestamp</th>\n",
       "      <th>gender</th>\n",
       "      <th>city</th>\n",
       "      <th>state</th>\n",
       "      <th>zip</th>\n",
       "      <th>lat</th>\n",
       "      <th>long</th>\n",
       "      <th>city_pop</th>\n",
       "      <th>job</th>\n",
       "      <th>age</th>\n",
       "    </tr>\n",
       "  </thead>\n",
       "  <tbody>\n",
       "    <tr>\n",
       "      <th>0</th>\n",
       "      <td>4218196001337</td>\n",
       "      <td>888022315787</td>\n",
       "      <td>91ab12e73ef38206e1121e9648d2408d</td>\n",
       "      <td>gas_transport</td>\n",
       "      <td>69.12</td>\n",
       "      <td>0</td>\n",
       "      <td>Phillips Group</td>\n",
       "      <td>39.491416</td>\n",
       "      <td>-75.588522</td>\n",
       "      <td>2019-05-24 17:39:10</td>\n",
       "      <td>M</td>\n",
       "      <td>Ambler</td>\n",
       "      <td>PA</td>\n",
       "      <td>19002</td>\n",
       "      <td>40.1809</td>\n",
       "      <td>-75.2156</td>\n",
       "      <td>32412</td>\n",
       "      <td>Accounting technician</td>\n",
       "      <td>63.0</td>\n",
       "    </tr>\n",
       "    <tr>\n",
       "      <th>1</th>\n",
       "      <td>4218196001337</td>\n",
       "      <td>888022315787</td>\n",
       "      <td>071553d533a6822a4431c354c434ddcb</td>\n",
       "      <td>grocery_pos</td>\n",
       "      <td>68.11</td>\n",
       "      <td>0</td>\n",
       "      <td>Tucker Ltd</td>\n",
       "      <td>40.890319</td>\n",
       "      <td>-75.573359</td>\n",
       "      <td>2019-09-25 15:31:59</td>\n",
       "      <td>M</td>\n",
       "      <td>Ambler</td>\n",
       "      <td>PA</td>\n",
       "      <td>19002</td>\n",
       "      <td>40.1809</td>\n",
       "      <td>-75.2156</td>\n",
       "      <td>32412</td>\n",
       "      <td>Accounting technician</td>\n",
       "      <td>63.0</td>\n",
       "    </tr>\n",
       "    <tr>\n",
       "      <th>2</th>\n",
       "      <td>4218196001337</td>\n",
       "      <td>888022315787</td>\n",
       "      <td>0cfad38ef15e4749eff68dc83f62c151</td>\n",
       "      <td>misc_net</td>\n",
       "      <td>40.35</td>\n",
       "      <td>0</td>\n",
       "      <td>Dixon PLC</td>\n",
       "      <td>39.244958</td>\n",
       "      <td>-74.475327</td>\n",
       "      <td>2019-12-24 16:40:01</td>\n",
       "      <td>M</td>\n",
       "      <td>Ambler</td>\n",
       "      <td>PA</td>\n",
       "      <td>19002</td>\n",
       "      <td>40.1809</td>\n",
       "      <td>-75.2156</td>\n",
       "      <td>32412</td>\n",
       "      <td>Accounting technician</td>\n",
       "      <td>63.0</td>\n",
       "    </tr>\n",
       "    <tr>\n",
       "      <th>3</th>\n",
       "      <td>4218196001337</td>\n",
       "      <td>888022315787</td>\n",
       "      <td>5782693d7c70f062f258cb30bfa8900f</td>\n",
       "      <td>grocery_pos</td>\n",
       "      <td>96.22</td>\n",
       "      <td>0</td>\n",
       "      <td>Lambert-Cooper</td>\n",
       "      <td>39.656925</td>\n",
       "      <td>-75.802342</td>\n",
       "      <td>2019-10-18 19:50:38</td>\n",
       "      <td>M</td>\n",
       "      <td>Ambler</td>\n",
       "      <td>PA</td>\n",
       "      <td>19002</td>\n",
       "      <td>40.1809</td>\n",
       "      <td>-75.2156</td>\n",
       "      <td>32412</td>\n",
       "      <td>Accounting technician</td>\n",
       "      <td>63.0</td>\n",
       "    </tr>\n",
       "    <tr>\n",
       "      <th>4</th>\n",
       "      <td>4218196001337</td>\n",
       "      <td>888022315787</td>\n",
       "      <td>35fd7db657d7e30dd608c37f7798186e</td>\n",
       "      <td>gas_transport</td>\n",
       "      <td>71.89</td>\n",
       "      <td>0</td>\n",
       "      <td>Griffith LLC</td>\n",
       "      <td>40.313342</td>\n",
       "      <td>-74.220434</td>\n",
       "      <td>2019-02-10 23:13:20</td>\n",
       "      <td>M</td>\n",
       "      <td>Ambler</td>\n",
       "      <td>PA</td>\n",
       "      <td>19002</td>\n",
       "      <td>40.1809</td>\n",
       "      <td>-75.2156</td>\n",
       "      <td>32412</td>\n",
       "      <td>Accounting technician</td>\n",
       "      <td>63.0</td>\n",
       "    </tr>\n",
       "    <tr>\n",
       "      <th>...</th>\n",
       "      <td>...</td>\n",
       "      <td>...</td>\n",
       "      <td>...</td>\n",
       "      <td>...</td>\n",
       "      <td>...</td>\n",
       "      <td>...</td>\n",
       "      <td>...</td>\n",
       "      <td>...</td>\n",
       "      <td>...</td>\n",
       "      <td>...</td>\n",
       "      <td>...</td>\n",
       "      <td>...</td>\n",
       "      <td>...</td>\n",
       "      <td>...</td>\n",
       "      <td>...</td>\n",
       "      <td>...</td>\n",
       "      <td>...</td>\n",
       "      <td>...</td>\n",
       "      <td>...</td>\n",
       "    </tr>\n",
       "    <tr>\n",
       "      <th>4260899</th>\n",
       "      <td>2704390552958068</td>\n",
       "      <td>756767582811</td>\n",
       "      <td>1f091e64bd3f2382b3a4f90889329c32</td>\n",
       "      <td>health_fitness</td>\n",
       "      <td>8.21</td>\n",
       "      <td>0</td>\n",
       "      <td>Anderson-King</td>\n",
       "      <td>33.831954</td>\n",
       "      <td>-116.587500</td>\n",
       "      <td>2022-09-06 02:24:36</td>\n",
       "      <td>F</td>\n",
       "      <td>Temecula</td>\n",
       "      <td>CA</td>\n",
       "      <td>92592</td>\n",
       "      <td>33.4983</td>\n",
       "      <td>-117.0958</td>\n",
       "      <td>114424</td>\n",
       "      <td>Transport planner</td>\n",
       "      <td>64.0</td>\n",
       "    </tr>\n",
       "    <tr>\n",
       "      <th>4260900</th>\n",
       "      <td>2704390552958068</td>\n",
       "      <td>756767582811</td>\n",
       "      <td>971aa63530f8f8fb1de28472e6aa53bc</td>\n",
       "      <td>home</td>\n",
       "      <td>4.79</td>\n",
       "      <td>0</td>\n",
       "      <td>Vang, Higgins and Decker</td>\n",
       "      <td>33.591525</td>\n",
       "      <td>-117.962834</td>\n",
       "      <td>2022-10-15 09:34:44</td>\n",
       "      <td>F</td>\n",
       "      <td>Temecula</td>\n",
       "      <td>CA</td>\n",
       "      <td>92592</td>\n",
       "      <td>33.4983</td>\n",
       "      <td>-117.0958</td>\n",
       "      <td>114424</td>\n",
       "      <td>Transport planner</td>\n",
       "      <td>64.0</td>\n",
       "    </tr>\n",
       "    <tr>\n",
       "      <th>4260901</th>\n",
       "      <td>2704390552958068</td>\n",
       "      <td>756767582811</td>\n",
       "      <td>555941e364d1f591a6ae4088557f8ed3</td>\n",
       "      <td>health_fitness</td>\n",
       "      <td>1.99</td>\n",
       "      <td>0</td>\n",
       "      <td>Ibarra LLC</td>\n",
       "      <td>34.370334</td>\n",
       "      <td>-117.628700</td>\n",
       "      <td>2022-09-04 12:00:53</td>\n",
       "      <td>F</td>\n",
       "      <td>Temecula</td>\n",
       "      <td>CA</td>\n",
       "      <td>92592</td>\n",
       "      <td>33.4983</td>\n",
       "      <td>-117.0958</td>\n",
       "      <td>114424</td>\n",
       "      <td>Transport planner</td>\n",
       "      <td>64.0</td>\n",
       "    </tr>\n",
       "    <tr>\n",
       "      <th>4260902</th>\n",
       "      <td>2704390552958068</td>\n",
       "      <td>756767582811</td>\n",
       "      <td>b756330bb5da439e28412f40e7a5f9e3</td>\n",
       "      <td>personal_care</td>\n",
       "      <td>6.64</td>\n",
       "      <td>0</td>\n",
       "      <td>Casey, Gonzales and Mueller</td>\n",
       "      <td>33.690374</td>\n",
       "      <td>-117.301976</td>\n",
       "      <td>2022-12-09 04:53:44</td>\n",
       "      <td>F</td>\n",
       "      <td>Temecula</td>\n",
       "      <td>CA</td>\n",
       "      <td>92592</td>\n",
       "      <td>33.4983</td>\n",
       "      <td>-117.0958</td>\n",
       "      <td>114424</td>\n",
       "      <td>Transport planner</td>\n",
       "      <td>64.0</td>\n",
       "    </tr>\n",
       "    <tr>\n",
       "      <th>4260903</th>\n",
       "      <td>2704390552958068</td>\n",
       "      <td>756767582811</td>\n",
       "      <td>d8b2caf59c06c36fea6980964f0a1fd6</td>\n",
       "      <td>travel</td>\n",
       "      <td>12.74</td>\n",
       "      <td>0</td>\n",
       "      <td>Cruz-Johnson</td>\n",
       "      <td>34.012253</td>\n",
       "      <td>-116.333944</td>\n",
       "      <td>2022-12-24 04:33:01</td>\n",
       "      <td>F</td>\n",
       "      <td>Temecula</td>\n",
       "      <td>CA</td>\n",
       "      <td>92592</td>\n",
       "      <td>33.4983</td>\n",
       "      <td>-117.0958</td>\n",
       "      <td>114424</td>\n",
       "      <td>Transport planner</td>\n",
       "      <td>64.0</td>\n",
       "    </tr>\n",
       "  </tbody>\n",
       "</table>\n",
       "<p>4260904 rows × 19 columns</p>\n",
       "</div>"
      ],
      "text/plain": [
       "                   cc_num      acct_num                         trans_num  \\\n",
       "0           4218196001337  888022315787  91ab12e73ef38206e1121e9648d2408d   \n",
       "1           4218196001337  888022315787  071553d533a6822a4431c354c434ddcb   \n",
       "2           4218196001337  888022315787  0cfad38ef15e4749eff68dc83f62c151   \n",
       "3           4218196001337  888022315787  5782693d7c70f062f258cb30bfa8900f   \n",
       "4           4218196001337  888022315787  35fd7db657d7e30dd608c37f7798186e   \n",
       "...                   ...           ...                               ...   \n",
       "4260899  2704390552958068  756767582811  1f091e64bd3f2382b3a4f90889329c32   \n",
       "4260900  2704390552958068  756767582811  971aa63530f8f8fb1de28472e6aa53bc   \n",
       "4260901  2704390552958068  756767582811  555941e364d1f591a6ae4088557f8ed3   \n",
       "4260902  2704390552958068  756767582811  b756330bb5da439e28412f40e7a5f9e3   \n",
       "4260903  2704390552958068  756767582811  d8b2caf59c06c36fea6980964f0a1fd6   \n",
       "\n",
       "               category    amt  is_fraud                     merchant  \\\n",
       "0         gas_transport  69.12         0               Phillips Group   \n",
       "1           grocery_pos  68.11         0                   Tucker Ltd   \n",
       "2              misc_net  40.35         0                    Dixon PLC   \n",
       "3           grocery_pos  96.22         0               Lambert-Cooper   \n",
       "4         gas_transport  71.89         0                 Griffith LLC   \n",
       "...                 ...    ...       ...                          ...   \n",
       "4260899  health_fitness   8.21         0                Anderson-King   \n",
       "4260900            home   4.79         0     Vang, Higgins and Decker   \n",
       "4260901  health_fitness   1.99         0                   Ibarra LLC   \n",
       "4260902   personal_care   6.64         0  Casey, Gonzales and Mueller   \n",
       "4260903          travel  12.74         0                 Cruz-Johnson   \n",
       "\n",
       "         merch_lat  merch_long            timestamp gender      city state  \\\n",
       "0        39.491416  -75.588522  2019-05-24 17:39:10      M    Ambler    PA   \n",
       "1        40.890319  -75.573359  2019-09-25 15:31:59      M    Ambler    PA   \n",
       "2        39.244958  -74.475327  2019-12-24 16:40:01      M    Ambler    PA   \n",
       "3        39.656925  -75.802342  2019-10-18 19:50:38      M    Ambler    PA   \n",
       "4        40.313342  -74.220434  2019-02-10 23:13:20      M    Ambler    PA   \n",
       "...            ...         ...                  ...    ...       ...   ...   \n",
       "4260899  33.831954 -116.587500  2022-09-06 02:24:36      F  Temecula    CA   \n",
       "4260900  33.591525 -117.962834  2022-10-15 09:34:44      F  Temecula    CA   \n",
       "4260901  34.370334 -117.628700  2022-09-04 12:00:53      F  Temecula    CA   \n",
       "4260902  33.690374 -117.301976  2022-12-09 04:53:44      F  Temecula    CA   \n",
       "4260903  34.012253 -116.333944  2022-12-24 04:33:01      F  Temecula    CA   \n",
       "\n",
       "           zip      lat      long  city_pop                    job   age  \n",
       "0        19002  40.1809  -75.2156     32412  Accounting technician  63.0  \n",
       "1        19002  40.1809  -75.2156     32412  Accounting technician  63.0  \n",
       "2        19002  40.1809  -75.2156     32412  Accounting technician  63.0  \n",
       "3        19002  40.1809  -75.2156     32412  Accounting technician  63.0  \n",
       "4        19002  40.1809  -75.2156     32412  Accounting technician  63.0  \n",
       "...        ...      ...       ...       ...                    ...   ...  \n",
       "4260899  92592  33.4983 -117.0958    114424      Transport planner  64.0  \n",
       "4260900  92592  33.4983 -117.0958    114424      Transport planner  64.0  \n",
       "4260901  92592  33.4983 -117.0958    114424      Transport planner  64.0  \n",
       "4260902  92592  33.4983 -117.0958    114424      Transport planner  64.0  \n",
       "4260903  92592  33.4983 -117.0958    114424      Transport planner  64.0  \n",
       "\n",
       "[4260904 rows x 19 columns]"
      ]
     },
     "execution_count": 8,
     "metadata": {},
     "output_type": "execute_result"
    }
   ],
   "source": [
    "df"
   ]
  },
  {
   "cell_type": "code",
   "execution_count": 9,
   "id": "3a717664",
   "metadata": {
    "scrolled": true
   },
   "outputs": [
    {
     "data": {
      "text/html": [
       "<div>\n",
       "<style scoped>\n",
       "    .dataframe tbody tr th:only-of-type {\n",
       "        vertical-align: middle;\n",
       "    }\n",
       "\n",
       "    .dataframe tbody tr th {\n",
       "        vertical-align: top;\n",
       "    }\n",
       "\n",
       "    .dataframe thead th {\n",
       "        text-align: right;\n",
       "    }\n",
       "</style>\n",
       "<table border=\"1\" class=\"dataframe\">\n",
       "  <thead>\n",
       "    <tr style=\"text-align: right;\">\n",
       "      <th></th>\n",
       "      <th>cc_num</th>\n",
       "      <th>acct_num</th>\n",
       "      <th>amt</th>\n",
       "      <th>is_fraud</th>\n",
       "      <th>merch_lat</th>\n",
       "      <th>merch_long</th>\n",
       "      <th>zip</th>\n",
       "      <th>lat</th>\n",
       "      <th>long</th>\n",
       "      <th>city_pop</th>\n",
       "      <th>age</th>\n",
       "    </tr>\n",
       "  </thead>\n",
       "  <tbody>\n",
       "    <tr>\n",
       "      <th>count</th>\n",
       "      <td>4.260904e+06</td>\n",
       "      <td>4.260904e+06</td>\n",
       "      <td>4.260904e+06</td>\n",
       "      <td>4.260904e+06</td>\n",
       "      <td>4.260904e+06</td>\n",
       "      <td>4.260904e+06</td>\n",
       "      <td>4.260904e+06</td>\n",
       "      <td>4.260904e+06</td>\n",
       "      <td>4.260904e+06</td>\n",
       "      <td>4.260904e+06</td>\n",
       "      <td>4.260904e+06</td>\n",
       "    </tr>\n",
       "    <tr>\n",
       "      <th>mean</th>\n",
       "      <td>3.916811e+17</td>\n",
       "      <td>4.913599e+11</td>\n",
       "      <td>6.898790e+01</td>\n",
       "      <td>1.181439e-03</td>\n",
       "      <td>3.735276e+01</td>\n",
       "      <td>-9.247610e+01</td>\n",
       "      <td>5.190384e+04</td>\n",
       "      <td>3.735269e+01</td>\n",
       "      <td>-9.247593e+01</td>\n",
       "      <td>3.038011e+05</td>\n",
       "      <td>4.486595e+01</td>\n",
       "    </tr>\n",
       "    <tr>\n",
       "      <th>std</th>\n",
       "      <td>1.267805e+18</td>\n",
       "      <td>2.897749e+11</td>\n",
       "      <td>1.618467e+02</td>\n",
       "      <td>3.435177e-02</td>\n",
       "      <td>5.504630e+00</td>\n",
       "      <td>1.741603e+01</td>\n",
       "      <td>2.996720e+04</td>\n",
       "      <td>5.474364e+00</td>\n",
       "      <td>1.740613e+01</td>\n",
       "      <td>5.696231e+05</td>\n",
       "      <td>1.766078e+01</td>\n",
       "    </tr>\n",
       "    <tr>\n",
       "      <th>min</th>\n",
       "      <td>6.040027e+10</td>\n",
       "      <td>2.348758e+09</td>\n",
       "      <td>1.000000e+00</td>\n",
       "      <td>0.000000e+00</td>\n",
       "      <td>1.859001e+01</td>\n",
       "      <td>-1.603677e+02</td>\n",
       "      <td>1.571000e+03</td>\n",
       "      <td>1.958930e+01</td>\n",
       "      <td>-1.593683e+02</td>\n",
       "      <td>1.050000e+02</td>\n",
       "      <td>1.500000e+01</td>\n",
       "    </tr>\n",
       "    <tr>\n",
       "      <th>25%</th>\n",
       "      <td>1.800618e+14</td>\n",
       "      <td>2.568452e+11</td>\n",
       "      <td>9.100000e+00</td>\n",
       "      <td>0.000000e+00</td>\n",
       "      <td>3.370138e+01</td>\n",
       "      <td>-9.903072e+01</td>\n",
       "      <td>2.750500e+04</td>\n",
       "      <td>3.378360e+01</td>\n",
       "      <td>-9.868950e+01</td>\n",
       "      <td>2.010300e+04</td>\n",
       "      <td>3.000000e+01</td>\n",
       "    </tr>\n",
       "    <tr>\n",
       "      <th>50%</th>\n",
       "      <td>3.524238e+15</td>\n",
       "      <td>4.719310e+11</td>\n",
       "      <td>4.449000e+01</td>\n",
       "      <td>0.000000e+00</td>\n",
       "      <td>3.819365e+01</td>\n",
       "      <td>-8.727445e+01</td>\n",
       "      <td>4.920200e+04</td>\n",
       "      <td>3.824200e+01</td>\n",
       "      <td>-8.717940e+01</td>\n",
       "      <td>6.759300e+04</td>\n",
       "      <td>4.300000e+01</td>\n",
       "    </tr>\n",
       "    <tr>\n",
       "      <th>75%</th>\n",
       "      <td>4.604409e+15</td>\n",
       "      <td>7.518511e+11</td>\n",
       "      <td>8.158000e+01</td>\n",
       "      <td>0.000000e+00</td>\n",
       "      <td>4.120567e+01</td>\n",
       "      <td>-7.966098e+01</td>\n",
       "      <td>7.870400e+04</td>\n",
       "      <td>4.098200e+01</td>\n",
       "      <td>-7.994400e+01</td>\n",
       "      <td>2.420370e+05</td>\n",
       "      <td>5.600000e+01</td>\n",
       "    </tr>\n",
       "    <tr>\n",
       "      <th>max</th>\n",
       "      <td>4.986227e+18</td>\n",
       "      <td>9.993899e+11</td>\n",
       "      <td>4.130053e+04</td>\n",
       "      <td>1.000000e+00</td>\n",
       "      <td>6.577610e+01</td>\n",
       "      <td>-6.724632e+01</td>\n",
       "      <td>9.970500e+04</td>\n",
       "      <td>6.478050e+01</td>\n",
       "      <td>-6.824480e+01</td>\n",
       "      <td>2.906700e+06</td>\n",
       "      <td>9.500000e+01</td>\n",
       "    </tr>\n",
       "  </tbody>\n",
       "</table>\n",
       "</div>"
      ],
      "text/plain": [
       "             cc_num      acct_num           amt      is_fraud     merch_lat  \\\n",
       "count  4.260904e+06  4.260904e+06  4.260904e+06  4.260904e+06  4.260904e+06   \n",
       "mean   3.916811e+17  4.913599e+11  6.898790e+01  1.181439e-03  3.735276e+01   \n",
       "std    1.267805e+18  2.897749e+11  1.618467e+02  3.435177e-02  5.504630e+00   \n",
       "min    6.040027e+10  2.348758e+09  1.000000e+00  0.000000e+00  1.859001e+01   \n",
       "25%    1.800618e+14  2.568452e+11  9.100000e+00  0.000000e+00  3.370138e+01   \n",
       "50%    3.524238e+15  4.719310e+11  4.449000e+01  0.000000e+00  3.819365e+01   \n",
       "75%    4.604409e+15  7.518511e+11  8.158000e+01  0.000000e+00  4.120567e+01   \n",
       "max    4.986227e+18  9.993899e+11  4.130053e+04  1.000000e+00  6.577610e+01   \n",
       "\n",
       "         merch_long           zip           lat          long      city_pop  \\\n",
       "count  4.260904e+06  4.260904e+06  4.260904e+06  4.260904e+06  4.260904e+06   \n",
       "mean  -9.247610e+01  5.190384e+04  3.735269e+01 -9.247593e+01  3.038011e+05   \n",
       "std    1.741603e+01  2.996720e+04  5.474364e+00  1.740613e+01  5.696231e+05   \n",
       "min   -1.603677e+02  1.571000e+03  1.958930e+01 -1.593683e+02  1.050000e+02   \n",
       "25%   -9.903072e+01  2.750500e+04  3.378360e+01 -9.868950e+01  2.010300e+04   \n",
       "50%   -8.727445e+01  4.920200e+04  3.824200e+01 -8.717940e+01  6.759300e+04   \n",
       "75%   -7.966098e+01  7.870400e+04  4.098200e+01 -7.994400e+01  2.420370e+05   \n",
       "max   -6.724632e+01  9.970500e+04  6.478050e+01 -6.824480e+01  2.906700e+06   \n",
       "\n",
       "                age  \n",
       "count  4.260904e+06  \n",
       "mean   4.486595e+01  \n",
       "std    1.766078e+01  \n",
       "min    1.500000e+01  \n",
       "25%    3.000000e+01  \n",
       "50%    4.300000e+01  \n",
       "75%    5.600000e+01  \n",
       "max    9.500000e+01  "
      ]
     },
     "execution_count": 9,
     "metadata": {},
     "output_type": "execute_result"
    }
   ],
   "source": [
    "df.describe()"
   ]
  },
  {
   "cell_type": "code",
   "execution_count": 10,
   "id": "12326461",
   "metadata": {},
   "outputs": [
    {
     "name": "stdout",
     "output_type": "stream",
     "text": [
      "<class 'pandas.core.frame.DataFrame'>\n",
      "RangeIndex: 4260904 entries, 0 to 4260903\n",
      "Data columns (total 19 columns):\n",
      " #   Column      Dtype  \n",
      "---  ------      -----  \n",
      " 0   cc_num      int64  \n",
      " 1   acct_num    int64  \n",
      " 2   trans_num   object \n",
      " 3   category    object \n",
      " 4   amt         float64\n",
      " 5   is_fraud    int64  \n",
      " 6   merchant    object \n",
      " 7   merch_lat   float64\n",
      " 8   merch_long  float64\n",
      " 9   timestamp   object \n",
      " 10  gender      object \n",
      " 11  city        object \n",
      " 12  state       object \n",
      " 13  zip         int64  \n",
      " 14  lat         float64\n",
      " 15  long        float64\n",
      " 16  city_pop    int64  \n",
      " 17  job         object \n",
      " 18  age         float64\n",
      "dtypes: float64(6), int64(5), object(8)\n",
      "memory usage: 617.7+ MB\n"
     ]
    }
   ],
   "source": [
    "df.info()"
   ]
  },
  {
   "cell_type": "markdown",
   "id": "cc4b9505",
   "metadata": {},
   "source": [
    "## 4. Case of study and data understanding "
   ]
  },
  {
   "cell_type": "markdown",
   "id": "afd75be9",
   "metadata": {},
   "source": [
    "**[4.1]** Hypothesis"
   ]
  },
  {
   "cell_type": "markdown",
   "id": "c766bf9e",
   "metadata": {},
   "source": [
    "The case study has the following hypothesis:\n",
    "We will train several models based on decision trees, random forests, extra trees, and XGboost classifiers to predict if a transaction is a fraud. We assume that decision trees-based algorithms will perform better based on this dataset's predominant categorical features."
   ]
  },
  {
   "cell_type": "markdown",
   "id": "b89f3624",
   "metadata": {},
   "source": [
    "## 5. Transforming variables"
   ]
  },
  {
   "cell_type": "code",
   "execution_count": 11,
   "id": "1da3fb94",
   "metadata": {},
   "outputs": [],
   "source": [
    "df_cleaned = df.copy()"
   ]
  },
  {
   "cell_type": "markdown",
   "id": "33ab1467",
   "metadata": {},
   "source": [
    "**[5.1]** Categorical variables"
   ]
  },
  {
   "cell_type": "markdown",
   "id": "5b26818a",
   "metadata": {},
   "source": [
    "based on (Brownlee, 2020f) and (Saxena, 2020)"
   ]
  },
  {
   "cell_type": "markdown",
   "id": "7cc93e47",
   "metadata": {},
   "source": [
    "**[5.1.1]** Category:"
   ]
  },
  {
   "cell_type": "code",
   "execution_count": 13,
   "id": "37a7ca56",
   "metadata": {},
   "outputs": [
    {
     "data": {
      "text/plain": [
       "array(['gas_transport', 'grocery_pos', 'misc_net', 'misc_pos',\n",
       "       'entertainment', 'food_dining', 'shopping_pos', 'shopping_net',\n",
       "       'grocery_net', 'personal_care', 'health_fitness', 'travel', 'home',\n",
       "       'kids_pets'], dtype=object)"
      ]
     },
     "execution_count": 13,
     "metadata": {},
     "output_type": "execute_result"
    }
   ],
   "source": [
    "df_cleaned['category'].unique()"
   ]
  },
  {
   "cell_type": "code",
   "execution_count": 14,
   "id": "0f2f9e29",
   "metadata": {},
   "outputs": [],
   "source": [
    "#one hot encoding for category feature\n",
    "df_cat = pd.get_dummies(df_cleaned[\"category\"], drop_first=False)\n",
    "\n",
    "#join the one hot encoding in the clean dataset\n",
    "df_cleaned = pd.concat([df_cleaned, df_cat], axis=1)"
   ]
  },
  {
   "cell_type": "markdown",
   "id": "6c6423c6",
   "metadata": {},
   "source": [
    "**[5.1.2]** Gender:"
   ]
  },
  {
   "cell_type": "code",
   "execution_count": 15,
   "id": "11cc0db0",
   "metadata": {},
   "outputs": [
    {
     "data": {
      "text/plain": [
       "array(['M', 'F'], dtype=object)"
      ]
     },
     "execution_count": 15,
     "metadata": {},
     "output_type": "execute_result"
    }
   ],
   "source": [
    "df_cleaned['gender'].unique()"
   ]
  },
  {
   "cell_type": "code",
   "execution_count": 16,
   "id": "888b0d19",
   "metadata": {},
   "outputs": [],
   "source": [
    "#one hot encoding for category feature\n",
    "df_cat = pd.get_dummies(df_cleaned[\"gender\"], drop_first=False)\n",
    "\n",
    "#join the one hot encoding in the clean dataset\n",
    "df_cleaned = pd.concat([df_cleaned, df_cat], axis=1)"
   ]
  },
  {
   "cell_type": "markdown",
   "id": "c7e80911",
   "metadata": {},
   "source": [
    "**[5.1.3]** city:"
   ]
  },
  {
   "cell_type": "code",
   "execution_count": 17,
   "id": "6ba7a053",
   "metadata": {},
   "outputs": [
    {
     "data": {
      "text/plain": [
       "726"
      ]
     },
     "execution_count": 17,
     "metadata": {},
     "output_type": "execute_result"
    }
   ],
   "source": [
    "df_cleaned['city'].nunique()"
   ]
  },
  {
   "cell_type": "code",
   "execution_count": 18,
   "id": "9d3024f3",
   "metadata": {},
   "outputs": [],
   "source": [
    "counts_df = df_cleaned.groupby('city')['trans_num'].nunique()\n",
    "counts_df = counts_df.to_frame()"
   ]
  },
  {
   "cell_type": "code",
   "execution_count": 19,
   "id": "b6693b46",
   "metadata": {},
   "outputs": [],
   "source": [
    "#sort DataFrame by count descending\n",
    "counts_df = counts_df.sort_values(by='trans_num', ascending=False)\n",
    "\n",
    "#add column to display cumulative percentage\n",
    "counts_df['cumperc'] = counts_df['trans_num'].cumsum()/counts_df['trans_num'].sum()*100"
   ]
  },
  {
   "cell_type": "code",
   "execution_count": 20,
   "id": "de6191d2",
   "metadata": {},
   "outputs": [
    {
     "data": {
      "text/html": [
       "<div>\n",
       "<style scoped>\n",
       "    .dataframe tbody tr th:only-of-type {\n",
       "        vertical-align: middle;\n",
       "    }\n",
       "\n",
       "    .dataframe tbody tr th {\n",
       "        vertical-align: top;\n",
       "    }\n",
       "\n",
       "    .dataframe thead th {\n",
       "        text-align: right;\n",
       "    }\n",
       "</style>\n",
       "<table border=\"1\" class=\"dataframe\">\n",
       "  <thead>\n",
       "    <tr style=\"text-align: right;\">\n",
       "      <th></th>\n",
       "      <th>trans_num</th>\n",
       "      <th>cumperc</th>\n",
       "    </tr>\n",
       "    <tr>\n",
       "      <th>city</th>\n",
       "      <th></th>\n",
       "      <th></th>\n",
       "    </tr>\n",
       "  </thead>\n",
       "  <tbody>\n",
       "    <tr>\n",
       "      <th>Brooklyn</th>\n",
       "      <td>74282</td>\n",
       "      <td>1.743339</td>\n",
       "    </tr>\n",
       "    <tr>\n",
       "      <th>Denver</th>\n",
       "      <td>37474</td>\n",
       "      <td>2.622824</td>\n",
       "    </tr>\n",
       "    <tr>\n",
       "      <th>Austin</th>\n",
       "      <td>35307</td>\n",
       "      <td>3.451451</td>\n",
       "    </tr>\n",
       "    <tr>\n",
       "      <th>Houston</th>\n",
       "      <td>33889</td>\n",
       "      <td>4.246798</td>\n",
       "    </tr>\n",
       "    <tr>\n",
       "      <th>Dallas</th>\n",
       "      <td>33466</td>\n",
       "      <td>5.032219</td>\n",
       "    </tr>\n",
       "    <tr>\n",
       "      <th>...</th>\n",
       "      <td>...</td>\n",
       "      <td>...</td>\n",
       "    </tr>\n",
       "    <tr>\n",
       "      <th>Westchester</th>\n",
       "      <td>4708</td>\n",
       "      <td>79.584637</td>\n",
       "    </tr>\n",
       "    <tr>\n",
       "      <th>Inglewood</th>\n",
       "      <td>4392</td>\n",
       "      <td>79.687714</td>\n",
       "    </tr>\n",
       "    <tr>\n",
       "      <th>Beebe</th>\n",
       "      <td>4391</td>\n",
       "      <td>79.790767</td>\n",
       "    </tr>\n",
       "    <tr>\n",
       "      <th>Gold Hill</th>\n",
       "      <td>4390</td>\n",
       "      <td>79.893797</td>\n",
       "    </tr>\n",
       "    <tr>\n",
       "      <th>Galion</th>\n",
       "      <td>4387</td>\n",
       "      <td>79.996757</td>\n",
       "    </tr>\n",
       "  </tbody>\n",
       "</table>\n",
       "<p>391 rows × 2 columns</p>\n",
       "</div>"
      ],
      "text/plain": [
       "             trans_num    cumperc\n",
       "city                             \n",
       "Brooklyn         74282   1.743339\n",
       "Denver           37474   2.622824\n",
       "Austin           35307   3.451451\n",
       "Houston          33889   4.246798\n",
       "Dallas           33466   5.032219\n",
       "...                ...        ...\n",
       "Westchester       4708  79.584637\n",
       "Inglewood         4392  79.687714\n",
       "Beebe             4391  79.790767\n",
       "Gold Hill         4390  79.893797\n",
       "Galion            4387  79.996757\n",
       "\n",
       "[391 rows x 2 columns]"
      ]
     },
     "execution_count": 20,
     "metadata": {},
     "output_type": "execute_result"
    }
   ],
   "source": [
    "# 80% cumulative percentage of the values\n",
    "counts_df[counts_df['cumperc']<= 80]"
   ]
  },
  {
   "cell_type": "markdown",
   "id": "f65387c6",
   "metadata": {},
   "source": [
    "391 cities represent the 80% most common cities"
   ]
  },
  {
   "cell_type": "code",
   "execution_count": 22,
   "id": "be9148e8",
   "metadata": {},
   "outputs": [
    {
     "data": {
      "text/html": [
       "<div>\n",
       "<style scoped>\n",
       "    .dataframe tbody tr th:only-of-type {\n",
       "        vertical-align: middle;\n",
       "    }\n",
       "\n",
       "    .dataframe tbody tr th {\n",
       "        vertical-align: top;\n",
       "    }\n",
       "\n",
       "    .dataframe thead th {\n",
       "        text-align: right;\n",
       "    }\n",
       "</style>\n",
       "<table border=\"1\" class=\"dataframe\">\n",
       "  <thead>\n",
       "    <tr style=\"text-align: right;\">\n",
       "      <th></th>\n",
       "      <th>city</th>\n",
       "      <th>is_fraud</th>\n",
       "      <th>Transaction count</th>\n",
       "      <th>city_count</th>\n",
       "      <th>city_fraud_percentage</th>\n",
       "    </tr>\n",
       "  </thead>\n",
       "  <tbody>\n",
       "    <tr>\n",
       "      <th>759</th>\n",
       "      <td>Pensacola</td>\n",
       "      <td>1</td>\n",
       "      <td>9</td>\n",
       "      <td>9</td>\n",
       "      <td>100.0</td>\n",
       "    </tr>\n",
       "    <tr>\n",
       "      <th>979</th>\n",
       "      <td>Tallahassee</td>\n",
       "      <td>1</td>\n",
       "      <td>21</td>\n",
       "      <td>21</td>\n",
       "      <td>100.0</td>\n",
       "    </tr>\n",
       "    <tr>\n",
       "      <th>812</th>\n",
       "      <td>Radcliff</td>\n",
       "      <td>1</td>\n",
       "      <td>12</td>\n",
       "      <td>12</td>\n",
       "      <td>100.0</td>\n",
       "    </tr>\n",
       "    <tr>\n",
       "      <th>682</th>\n",
       "      <td>New Britain</td>\n",
       "      <td>1</td>\n",
       "      <td>7</td>\n",
       "      <td>7</td>\n",
       "      <td>100.0</td>\n",
       "    </tr>\n",
       "    <tr>\n",
       "      <th>578</th>\n",
       "      <td>Macomb</td>\n",
       "      <td>1</td>\n",
       "      <td>12</td>\n",
       "      <td>12</td>\n",
       "      <td>100.0</td>\n",
       "    </tr>\n",
       "  </tbody>\n",
       "</table>\n",
       "</div>"
      ],
      "text/plain": [
       "            city  is_fraud  Transaction count  city_count  \\\n",
       "759    Pensacola         1                  9           9   \n",
       "979  Tallahassee         1                 21          21   \n",
       "812     Radcliff         1                 12          12   \n",
       "682  New Britain         1                  7           7   \n",
       "578       Macomb         1                 12          12   \n",
       "\n",
       "     city_fraud_percentage  \n",
       "759                  100.0  \n",
       "979                  100.0  \n",
       "812                  100.0  \n",
       "682                  100.0  \n",
       "578                  100.0  "
      ]
     },
     "execution_count": 22,
     "metadata": {},
     "output_type": "execute_result"
    }
   ],
   "source": [
    "#city-transaction count distribution\n",
    "df_city = df_cleaned[['city','trans_num']].groupby(['city']).count().reset_index()\n",
    "df_city.columns = ['city', 'city_count']\n",
    "\n",
    "#city-fraud distribution\n",
    "df_fraud_city = df_cleaned[['city', 'trans_num', 'is_fraud']].groupby(['city','is_fraud']).count().reset_index()\n",
    "df_fraud_city.columns = ['city', 'is_fraud', 'Transaction count']\n",
    "\n",
    "df_fraud_city = df_fraud_city.merge(df_city[['city', 'city_count']], how='inner', on='city')\n",
    "\n",
    "df_fraud_city['city_fraud_percentage'] = (df_fraud_city['Transaction count']/df_fraud_city['city_count'])*100\n",
    "\n",
    "#top 5 cities with fraudulent transactions\n",
    "df_fraud_city[df_fraud_city['is_fraud'] == 1].sort_values(by = ['city_fraud_percentage'], ascending=False).head(5)"
   ]
  },
  {
   "cell_type": "code",
   "execution_count": 23,
   "id": "7d500f10",
   "metadata": {},
   "outputs": [],
   "source": [
    "percentage = df_fraud_city[df_fraud_city['is_fraud'] == 1][[\"city\",\"city_fraud_percentage\"]]"
   ]
  },
  {
   "cell_type": "code",
   "execution_count": 24,
   "id": "09cd7701",
   "metadata": {},
   "outputs": [],
   "source": [
    "df_cleaned=pd.merge(df_cleaned,percentage, left_on='city', right_on='city', how='left')"
   ]
  },
  {
   "cell_type": "code",
   "execution_count": 25,
   "id": "cad210e3",
   "metadata": {},
   "outputs": [],
   "source": [
    "df_cleaned['city_fraud_percentage'] = df_cleaned['city_fraud_percentage'].fillna(0)"
   ]
  },
  {
   "cell_type": "markdown",
   "id": "4700344a",
   "metadata": {},
   "source": [
    "**[5.1.4]** state:"
   ]
  },
  {
   "cell_type": "code",
   "execution_count": 27,
   "id": "6f61cce6",
   "metadata": {},
   "outputs": [
    {
     "data": {
      "text/plain": [
       "51"
      ]
     },
     "execution_count": 27,
     "metadata": {},
     "output_type": "execute_result"
    }
   ],
   "source": [
    "#number of unique values\n",
    "df_cleaned['state'].nunique()"
   ]
  },
  {
   "cell_type": "code",
   "execution_count": 28,
   "id": "05fe6b14",
   "metadata": {
    "scrolled": true
   },
   "outputs": [],
   "source": [
    "counts_df = df_cleaned.groupby('state')['trans_num'].nunique()\n",
    "counts_df = counts_df.to_frame()"
   ]
  },
  {
   "cell_type": "code",
   "execution_count": 29,
   "id": "4ba96d24",
   "metadata": {},
   "outputs": [],
   "source": [
    "#sort DataFrame by count descending\n",
    "counts_df = counts_df.sort_values(by='trans_num', ascending=False)\n",
    "\n",
    "#add column to display cumulative percentage\n",
    "counts_df['cumperc'] = counts_df['trans_num'].cumsum()/counts_df['trans_num'].sum()*100\n"
   ]
  },
  {
   "cell_type": "code",
   "execution_count": 30,
   "id": "2defbbca",
   "metadata": {},
   "outputs": [
    {
     "data": {
      "text/html": [
       "<div>\n",
       "<style scoped>\n",
       "    .dataframe tbody tr th:only-of-type {\n",
       "        vertical-align: middle;\n",
       "    }\n",
       "\n",
       "    .dataframe tbody tr th {\n",
       "        vertical-align: top;\n",
       "    }\n",
       "\n",
       "    .dataframe thead th {\n",
       "        text-align: right;\n",
       "    }\n",
       "</style>\n",
       "<table border=\"1\" class=\"dataframe\">\n",
       "  <thead>\n",
       "    <tr style=\"text-align: right;\">\n",
       "      <th></th>\n",
       "      <th>trans_num</th>\n",
       "      <th>cumperc</th>\n",
       "    </tr>\n",
       "    <tr>\n",
       "      <th>state</th>\n",
       "      <th></th>\n",
       "      <th></th>\n",
       "    </tr>\n",
       "  </thead>\n",
       "  <tbody>\n",
       "    <tr>\n",
       "      <th>CA</th>\n",
       "      <td>505426</td>\n",
       "      <td>11.861943</td>\n",
       "    </tr>\n",
       "    <tr>\n",
       "      <th>TX</th>\n",
       "      <td>379828</td>\n",
       "      <td>20.776201</td>\n",
       "    </tr>\n",
       "    <tr>\n",
       "      <th>NY</th>\n",
       "      <td>262841</td>\n",
       "      <td>26.944869</td>\n",
       "    </tr>\n",
       "    <tr>\n",
       "      <th>FL</th>\n",
       "      <td>241062</td>\n",
       "      <td>32.602401</td>\n",
       "    </tr>\n",
       "    <tr>\n",
       "      <th>PA</th>\n",
       "      <td>204570</td>\n",
       "      <td>37.403495</td>\n",
       "    </tr>\n",
       "    <tr>\n",
       "      <th>MI</th>\n",
       "      <td>186244</td>\n",
       "      <td>41.774492</td>\n",
       "    </tr>\n",
       "    <tr>\n",
       "      <th>IL</th>\n",
       "      <td>177966</td>\n",
       "      <td>45.951211</td>\n",
       "    </tr>\n",
       "    <tr>\n",
       "      <th>NJ</th>\n",
       "      <td>157268</td>\n",
       "      <td>49.642165</td>\n",
       "    </tr>\n",
       "    <tr>\n",
       "      <th>NC</th>\n",
       "      <td>143720</td>\n",
       "      <td>53.015158</td>\n",
       "    </tr>\n",
       "    <tr>\n",
       "      <th>VA</th>\n",
       "      <td>140075</td>\n",
       "      <td>56.302606</td>\n",
       "    </tr>\n",
       "    <tr>\n",
       "      <th>OH</th>\n",
       "      <td>117525</td>\n",
       "      <td>59.060824</td>\n",
       "    </tr>\n",
       "    <tr>\n",
       "      <th>AZ</th>\n",
       "      <td>116018</td>\n",
       "      <td>61.783673</td>\n",
       "    </tr>\n",
       "    <tr>\n",
       "      <th>GA</th>\n",
       "      <td>99998</td>\n",
       "      <td>64.130546</td>\n",
       "    </tr>\n",
       "    <tr>\n",
       "      <th>IN</th>\n",
       "      <td>92475</td>\n",
       "      <td>66.300860</td>\n",
       "    </tr>\n",
       "    <tr>\n",
       "      <th>WA</th>\n",
       "      <td>86960</td>\n",
       "      <td>68.341742</td>\n",
       "    </tr>\n",
       "    <tr>\n",
       "      <th>MA</th>\n",
       "      <td>82828</td>\n",
       "      <td>70.285648</td>\n",
       "    </tr>\n",
       "    <tr>\n",
       "      <th>SC</th>\n",
       "      <td>79623</td>\n",
       "      <td>72.154336</td>\n",
       "    </tr>\n",
       "    <tr>\n",
       "      <th>LA</th>\n",
       "      <td>72700</td>\n",
       "      <td>73.860547</td>\n",
       "    </tr>\n",
       "    <tr>\n",
       "      <th>MO</th>\n",
       "      <td>72328</td>\n",
       "      <td>75.558027</td>\n",
       "    </tr>\n",
       "    <tr>\n",
       "      <th>WI</th>\n",
       "      <td>72146</td>\n",
       "      <td>77.251236</td>\n",
       "    </tr>\n",
       "    <tr>\n",
       "      <th>CO</th>\n",
       "      <td>71633</td>\n",
       "      <td>78.932405</td>\n",
       "    </tr>\n",
       "  </tbody>\n",
       "</table>\n",
       "</div>"
      ],
      "text/plain": [
       "       trans_num    cumperc\n",
       "state                      \n",
       "CA        505426  11.861943\n",
       "TX        379828  20.776201\n",
       "NY        262841  26.944869\n",
       "FL        241062  32.602401\n",
       "PA        204570  37.403495\n",
       "MI        186244  41.774492\n",
       "IL        177966  45.951211\n",
       "NJ        157268  49.642165\n",
       "NC        143720  53.015158\n",
       "VA        140075  56.302606\n",
       "OH        117525  59.060824\n",
       "AZ        116018  61.783673\n",
       "GA         99998  64.130546\n",
       "IN         92475  66.300860\n",
       "WA         86960  68.341742\n",
       "MA         82828  70.285648\n",
       "SC         79623  72.154336\n",
       "LA         72700  73.860547\n",
       "MO         72328  75.558027\n",
       "WI         72146  77.251236\n",
       "CO         71633  78.932405"
      ]
     },
     "execution_count": 30,
     "metadata": {},
     "output_type": "execute_result"
    }
   ],
   "source": [
    "counts_df[counts_df['cumperc']<= 80]"
   ]
  },
  {
   "cell_type": "code",
   "execution_count": 31,
   "id": "b8f6416b",
   "metadata": {},
   "outputs": [],
   "source": [
    "#one hot encoding for category feature\n",
    "df_cat = pd.get_dummies(df_cleaned[\"state\"], drop_first=False)\n",
    "\n",
    "#join the one hot encoding in the clean dataset\n",
    "df_cleaned = pd.concat([df_cleaned, df_cat], axis=1)"
   ]
  },
  {
   "cell_type": "markdown",
   "id": "a6f89383",
   "metadata": {},
   "source": [
    "**[5.1.5]** job:"
   ]
  },
  {
   "cell_type": "code",
   "execution_count": 32,
   "id": "557aeffa",
   "metadata": {},
   "outputs": [
    {
     "data": {
      "text/plain": [
       "505"
      ]
     },
     "execution_count": 32,
     "metadata": {},
     "output_type": "execute_result"
    }
   ],
   "source": [
    "df_cleaned['job'].nunique()"
   ]
  },
  {
   "cell_type": "code",
   "execution_count": 33,
   "id": "5f6ba74c",
   "metadata": {
    "scrolled": true
   },
   "outputs": [],
   "source": [
    "counts_df = df_cleaned.groupby('job')['trans_num'].nunique()\n",
    "counts_df = counts_df.to_frame()"
   ]
  },
  {
   "cell_type": "code",
   "execution_count": 34,
   "id": "e4f4ad45",
   "metadata": {},
   "outputs": [],
   "source": [
    "#sort DataFrame descending\n",
    "counts_df = counts_df.sort_values(by='trans_num', ascending=False)\n",
    "\n",
    "counts_df['cumperc'] = counts_df['trans_num'].cumsum()/counts_df['trans_num'].sum()*100\n"
   ]
  },
  {
   "cell_type": "code",
   "execution_count": 35,
   "id": "2553ad5f",
   "metadata": {},
   "outputs": [
    {
     "data": {
      "text/html": [
       "<div>\n",
       "<style scoped>\n",
       "    .dataframe tbody tr th:only-of-type {\n",
       "        vertical-align: middle;\n",
       "    }\n",
       "\n",
       "    .dataframe tbody tr th {\n",
       "        vertical-align: top;\n",
       "    }\n",
       "\n",
       "    .dataframe thead th {\n",
       "        text-align: right;\n",
       "    }\n",
       "</style>\n",
       "<table border=\"1\" class=\"dataframe\">\n",
       "  <thead>\n",
       "    <tr style=\"text-align: right;\">\n",
       "      <th></th>\n",
       "      <th>trans_num</th>\n",
       "      <th>cumperc</th>\n",
       "    </tr>\n",
       "    <tr>\n",
       "      <th>job</th>\n",
       "      <th></th>\n",
       "      <th></th>\n",
       "    </tr>\n",
       "  </thead>\n",
       "  <tbody>\n",
       "    <tr>\n",
       "      <th>Computer games developer</th>\n",
       "      <td>33859</td>\n",
       "      <td>0.794644</td>\n",
       "    </tr>\n",
       "    <tr>\n",
       "      <th>Radio producer</th>\n",
       "      <td>28746</td>\n",
       "      <td>1.469289</td>\n",
       "    </tr>\n",
       "    <tr>\n",
       "      <th>Patent attorney</th>\n",
       "      <td>27990</td>\n",
       "      <td>2.126192</td>\n",
       "    </tr>\n",
       "    <tr>\n",
       "      <th>Teacher, adult education</th>\n",
       "      <td>27692</td>\n",
       "      <td>2.776101</td>\n",
       "    </tr>\n",
       "    <tr>\n",
       "      <th>General practice doctor</th>\n",
       "      <td>27279</td>\n",
       "      <td>3.416317</td>\n",
       "    </tr>\n",
       "    <tr>\n",
       "      <th>...</th>\n",
       "      <td>...</td>\n",
       "      <td>...</td>\n",
       "    </tr>\n",
       "    <tr>\n",
       "      <th>Applications developer</th>\n",
       "      <td>6901</td>\n",
       "      <td>79.309954</td>\n",
       "    </tr>\n",
       "    <tr>\n",
       "      <th>Conservator, furniture</th>\n",
       "      <td>6892</td>\n",
       "      <td>79.471704</td>\n",
       "    </tr>\n",
       "    <tr>\n",
       "      <th>Radiographer, diagnostic</th>\n",
       "      <td>6885</td>\n",
       "      <td>79.633289</td>\n",
       "    </tr>\n",
       "    <tr>\n",
       "      <th>Nutritional therapist</th>\n",
       "      <td>6565</td>\n",
       "      <td>79.787364</td>\n",
       "    </tr>\n",
       "    <tr>\n",
       "      <th>Aeronautical engineer</th>\n",
       "      <td>6564</td>\n",
       "      <td>79.941416</td>\n",
       "    </tr>\n",
       "  </tbody>\n",
       "</table>\n",
       "<p>272 rows × 2 columns</p>\n",
       "</div>"
      ],
      "text/plain": [
       "                          trans_num    cumperc\n",
       "job                                           \n",
       "Computer games developer      33859   0.794644\n",
       "Radio producer                28746   1.469289\n",
       "Patent attorney               27990   2.126192\n",
       "Teacher, adult education      27692   2.776101\n",
       "General practice doctor       27279   3.416317\n",
       "...                             ...        ...\n",
       "Applications developer         6901  79.309954\n",
       "Conservator, furniture         6892  79.471704\n",
       "Radiographer, diagnostic       6885  79.633289\n",
       "Nutritional therapist          6565  79.787364\n",
       "Aeronautical engineer          6564  79.941416\n",
       "\n",
       "[272 rows x 2 columns]"
      ]
     },
     "execution_count": 35,
     "metadata": {},
     "output_type": "execute_result"
    }
   ],
   "source": [
    "counts_df[counts_df['cumperc']<= 80]"
   ]
  },
  {
   "cell_type": "markdown",
   "id": "c53c3b7b",
   "metadata": {},
   "source": [
    "Getting Job_fraud_percentage based on the transactions history:"
   ]
  },
  {
   "cell_type": "code",
   "execution_count": 36,
   "id": "d8a0cdc2",
   "metadata": {},
   "outputs": [
    {
     "data": {
      "text/html": [
       "<div>\n",
       "<style scoped>\n",
       "    .dataframe tbody tr th:only-of-type {\n",
       "        vertical-align: middle;\n",
       "    }\n",
       "\n",
       "    .dataframe tbody tr th {\n",
       "        vertical-align: top;\n",
       "    }\n",
       "\n",
       "    .dataframe thead th {\n",
       "        text-align: right;\n",
       "    }\n",
       "</style>\n",
       "<table border=\"1\" class=\"dataframe\">\n",
       "  <thead>\n",
       "    <tr style=\"text-align: right;\">\n",
       "      <th></th>\n",
       "      <th>job</th>\n",
       "      <th>is_fraud</th>\n",
       "      <th>Transaction count</th>\n",
       "      <th>job_count</th>\n",
       "      <th>Job_fraud_percentage</th>\n",
       "    </tr>\n",
       "  </thead>\n",
       "  <tbody>\n",
       "    <tr>\n",
       "      <th>369</th>\n",
       "      <td>Geneticist, molecular</td>\n",
       "      <td>1</td>\n",
       "      <td>12</td>\n",
       "      <td>12</td>\n",
       "      <td>100.000000</td>\n",
       "    </tr>\n",
       "    <tr>\n",
       "      <th>671</th>\n",
       "      <td>Sales executive</td>\n",
       "      <td>1</td>\n",
       "      <td>7</td>\n",
       "      <td>7</td>\n",
       "      <td>100.000000</td>\n",
       "    </tr>\n",
       "    <tr>\n",
       "      <th>466</th>\n",
       "      <td>Loss adjuster, chartered</td>\n",
       "      <td>1</td>\n",
       "      <td>7</td>\n",
       "      <td>7</td>\n",
       "      <td>100.000000</td>\n",
       "    </tr>\n",
       "    <tr>\n",
       "      <th>327</th>\n",
       "      <td>Estate manager/land agent</td>\n",
       "      <td>1</td>\n",
       "      <td>18</td>\n",
       "      <td>376</td>\n",
       "      <td>4.787234</td>\n",
       "    </tr>\n",
       "    <tr>\n",
       "      <th>807</th>\n",
       "      <td>Transport planner</td>\n",
       "      <td>1</td>\n",
       "      <td>11</td>\n",
       "      <td>369</td>\n",
       "      <td>2.981030</td>\n",
       "    </tr>\n",
       "  </tbody>\n",
       "</table>\n",
       "</div>"
      ],
      "text/plain": [
       "                           job  is_fraud  Transaction count  job_count  \\\n",
       "369      Geneticist, molecular         1                 12         12   \n",
       "671            Sales executive         1                  7          7   \n",
       "466   Loss adjuster, chartered         1                  7          7   \n",
       "327  Estate manager/land agent         1                 18        376   \n",
       "807          Transport planner         1                 11        369   \n",
       "\n",
       "     Job_fraud_percentage  \n",
       "369            100.000000  \n",
       "671            100.000000  \n",
       "466            100.000000  \n",
       "327              4.787234  \n",
       "807              2.981030  "
      ]
     },
     "execution_count": 36,
     "metadata": {},
     "output_type": "execute_result"
    }
   ],
   "source": [
    "#counts\n",
    "df_job = df_cleaned[['job','trans_num']].groupby(['job']).count().reset_index()\n",
    "df_job.columns = ['job', 'job_count']\n",
    "\n",
    "#fraud distribution\n",
    "df_fraud_job = df_cleaned[['job', 'trans_num', 'is_fraud']].groupby(['job','is_fraud']).count().reset_index()\n",
    "df_fraud_job.columns = ['job', 'is_fraud', 'Transaction count']\n",
    "\n",
    "df_fraud_job = df_fraud_job.merge(df_job[['job', 'job_count']], how='inner', on='job')\n",
    "\n",
    "df_fraud_job['Job_fraud_percentage'] = (df_fraud_job['Transaction count']/df_fraud_job['job_count'])*100\n",
    "\n",
    "#fraudulent transactions\n",
    "df_fraud_job[df_fraud_job['is_fraud'] == 1].sort_values(by = ['Job_fraud_percentage'], ascending=False).head(5)"
   ]
  },
  {
   "cell_type": "code",
   "execution_count": 37,
   "id": "cca74c9c",
   "metadata": {},
   "outputs": [],
   "source": [
    "percentage = df_fraud_job[df_fraud_job['is_fraud'] == 1][[\"job\",\"Job_fraud_percentage\"]]"
   ]
  },
  {
   "cell_type": "code",
   "execution_count": 38,
   "id": "eb551ba7",
   "metadata": {},
   "outputs": [],
   "source": [
    "df_cleaned=pd.merge(df_cleaned,percentage, left_on='job', right_on='job', how='left')"
   ]
  },
  {
   "cell_type": "code",
   "execution_count": 39,
   "id": "5a50c671",
   "metadata": {},
   "outputs": [],
   "source": [
    "df_cleaned['Job_fraud_percentage'] = df_cleaned['Job_fraud_percentage'].fillna(0)"
   ]
  },
  {
   "cell_type": "markdown",
   "id": "e21de463",
   "metadata": {},
   "source": [
    "**[5.1.6]** zip code:"
   ]
  },
  {
   "cell_type": "code",
   "execution_count": 40,
   "id": "44748a5b",
   "metadata": {},
   "outputs": [
    {
     "data": {
      "text/plain": [
       "939"
      ]
     },
     "execution_count": 40,
     "metadata": {},
     "output_type": "execute_result"
    }
   ],
   "source": [
    "df_cleaned['zip'].nunique()"
   ]
  },
  {
   "cell_type": "code",
   "execution_count": 41,
   "id": "f4405dcb",
   "metadata": {},
   "outputs": [
    {
     "data": {
      "text/html": [
       "<div>\n",
       "<style scoped>\n",
       "    .dataframe tbody tr th:only-of-type {\n",
       "        vertical-align: middle;\n",
       "    }\n",
       "\n",
       "    .dataframe tbody tr th {\n",
       "        vertical-align: top;\n",
       "    }\n",
       "\n",
       "    .dataframe thead th {\n",
       "        text-align: right;\n",
       "    }\n",
       "</style>\n",
       "<table border=\"1\" class=\"dataframe\">\n",
       "  <thead>\n",
       "    <tr style=\"text-align: right;\">\n",
       "      <th></th>\n",
       "      <th>zip</th>\n",
       "      <th>is_fraud</th>\n",
       "      <th>Transaction count</th>\n",
       "      <th>zip_count</th>\n",
       "      <th>zip_fraud_percentage</th>\n",
       "    </tr>\n",
       "  </thead>\n",
       "  <tbody>\n",
       "    <tr>\n",
       "      <th>209</th>\n",
       "      <td>16143</td>\n",
       "      <td>1</td>\n",
       "      <td>10</td>\n",
       "      <td>10</td>\n",
       "      <td>100.0</td>\n",
       "    </tr>\n",
       "    <tr>\n",
       "      <th>441</th>\n",
       "      <td>32504</td>\n",
       "      <td>1</td>\n",
       "      <td>9</td>\n",
       "      <td>9</td>\n",
       "      <td>100.0</td>\n",
       "    </tr>\n",
       "    <tr>\n",
       "      <th>634</th>\n",
       "      <td>48044</td>\n",
       "      <td>1</td>\n",
       "      <td>12</td>\n",
       "      <td>12</td>\n",
       "      <td>100.0</td>\n",
       "    </tr>\n",
       "    <tr>\n",
       "      <th>860</th>\n",
       "      <td>68154</td>\n",
       "      <td>1</td>\n",
       "      <td>9</td>\n",
       "      <td>9</td>\n",
       "      <td>100.0</td>\n",
       "    </tr>\n",
       "    <tr>\n",
       "      <th>615</th>\n",
       "      <td>46814</td>\n",
       "      <td>1</td>\n",
       "      <td>7</td>\n",
       "      <td>7</td>\n",
       "      <td>100.0</td>\n",
       "    </tr>\n",
       "  </tbody>\n",
       "</table>\n",
       "</div>"
      ],
      "text/plain": [
       "       zip  is_fraud  Transaction count  zip_count  zip_fraud_percentage\n",
       "209  16143         1                 10         10                 100.0\n",
       "441  32504         1                  9          9                 100.0\n",
       "634  48044         1                 12         12                 100.0\n",
       "860  68154         1                  9          9                 100.0\n",
       "615  46814         1                  7          7                 100.0"
      ]
     },
     "execution_count": 41,
     "metadata": {},
     "output_type": "execute_result"
    }
   ],
   "source": [
    "#counts\n",
    "df_zip = df_cleaned[['zip','trans_num']].groupby(['zip']).count().reset_index()\n",
    "df_zip.columns = ['zip', 'zip_count']\n",
    "\n",
    "#fraud distribution\n",
    "df_fraud_zip = df_cleaned[['zip', 'trans_num', 'is_fraud']].groupby(['zip','is_fraud']).count().reset_index()\n",
    "df_fraud_zip.columns = ['zip', 'is_fraud', 'Transaction count']\n",
    "\n",
    "df_fraud_zip = df_fraud_zip.merge(df_zip[['zip', 'zip_count']], how='inner', on='zip')\n",
    "\n",
    "df_fraud_zip['zip_fraud_percentage'] = (df_fraud_zip['Transaction count']/df_fraud_zip['zip_count'])*100\n",
    "\n",
    "#fraudulent transactions\n",
    "df_fraud_zip[df_fraud_zip['is_fraud'] == 1].sort_values(by = ['zip_fraud_percentage'], ascending=False).head(5)"
   ]
  },
  {
   "cell_type": "code",
   "execution_count": 42,
   "id": "29d6ceb2",
   "metadata": {},
   "outputs": [],
   "source": [
    "percentage = df_fraud_zip[df_fraud_zip['is_fraud'] == 1][[\"zip\",\"zip_fraud_percentage\"]]"
   ]
  },
  {
   "cell_type": "code",
   "execution_count": 43,
   "id": "85489f54",
   "metadata": {},
   "outputs": [],
   "source": [
    "df_cleaned=pd.merge(df_cleaned,percentage, left_on='zip', right_on='zip', how='left')"
   ]
  },
  {
   "cell_type": "code",
   "execution_count": 44,
   "id": "6f70db90",
   "metadata": {},
   "outputs": [],
   "source": [
    "df_cleaned['zip_fraud_percentage'] = df_cleaned['zip_fraud_percentage'].fillna(0)"
   ]
  },
  {
   "cell_type": "markdown",
   "id": "71906498",
   "metadata": {},
   "source": [
    "**[5.2]** Merchant analysis"
   ]
  },
  {
   "cell_type": "markdown",
   "id": "864c7b3f",
   "metadata": {},
   "source": [
    "The number of merchants involved in fraud is similar to the total rows with fraud cases. It might indicate this is not a critical variable to discover fraud."
   ]
  },
  {
   "cell_type": "code",
   "execution_count": 45,
   "id": "7cf9cccf",
   "metadata": {},
   "outputs": [
    {
     "data": {
      "text/plain": [
       "21977"
      ]
     },
     "execution_count": 45,
     "metadata": {},
     "output_type": "execute_result"
    }
   ],
   "source": [
    "#unique merchant values in total\n",
    "df_cleaned['merchant'].nunique()"
   ]
  },
  {
   "cell_type": "code",
   "execution_count": 46,
   "id": "e4636e5f",
   "metadata": {},
   "outputs": [
    {
     "data": {
      "text/plain": [
       "3904"
      ]
     },
     "execution_count": 46,
     "metadata": {},
     "output_type": "execute_result"
    }
   ],
   "source": [
    "#unique merchant values for fraud\n",
    "df_cleaned[df_cleaned[\"is_fraud\"]==1]['merchant'].nunique()"
   ]
  },
  {
   "cell_type": "code",
   "execution_count": 47,
   "id": "4e0f662d",
   "metadata": {},
   "outputs": [
    {
     "data": {
      "text/plain": [
       "0    4255870\n",
       "1       5034\n",
       "Name: is_fraud, dtype: int64"
      ]
     },
     "execution_count": 47,
     "metadata": {},
     "output_type": "execute_result"
    }
   ],
   "source": [
    "#total fraud rows\n",
    "df_cleaned['is_fraud'].value_counts()"
   ]
  },
  {
   "cell_type": "markdown",
   "id": "8d99180a",
   "metadata": {},
   "source": [
    "**[5.3]** Feature engineering"
   ]
  },
  {
   "cell_type": "markdown",
   "id": "c43e1516",
   "metadata": {},
   "source": [
    "**[5.3.1]** Getting year and month:"
   ]
  },
  {
   "cell_type": "code",
   "execution_count": 48,
   "id": "2dd723f3",
   "metadata": {},
   "outputs": [],
   "source": [
    "df_cleaned['year'] = pd.DatetimeIndex(df_cleaned['timestamp']).year\n",
    "df_cleaned['month'] = pd.DatetimeIndex(df_cleaned['timestamp']).month"
   ]
  },
  {
   "cell_type": "markdown",
   "id": "8d858d80",
   "metadata": {},
   "source": [
    "**[5.3.2]**  Getting the day of the week:"
   ]
  },
  {
   "cell_type": "code",
   "execution_count": 49,
   "id": "c97fa9d2",
   "metadata": {},
   "outputs": [],
   "source": [
    "df_cleaned['weekday'] = pd.DatetimeIndex(df_cleaned['timestamp']).weekday"
   ]
  },
  {
   "cell_type": "markdown",
   "id": "23872fa5",
   "metadata": {},
   "source": [
    "**[5.3.3]**  Getting hour of the transaction:"
   ]
  },
  {
   "cell_type": "code",
   "execution_count": 50,
   "id": "808b1492",
   "metadata": {},
   "outputs": [],
   "source": [
    "df_cleaned['hour'] = pd.DatetimeIndex(df_cleaned['timestamp']).hour"
   ]
  },
  {
   "cell_type": "markdown",
   "id": "7bfab1dd",
   "metadata": {},
   "source": [
    "**[5.3.4]**  Getting the type of purchase:"
   ]
  },
  {
   "cell_type": "code",
   "execution_count": 51,
   "id": "536651aa",
   "metadata": {},
   "outputs": [],
   "source": [
    "df_cleaned['category_type'] = df_cleaned['category'].replace(['grocery_pos', 'misc_net', 'misc_pos', 'shopping_pos', 'shopping_net', 'grocery_net'], ['pos', 'net', 'pos', 'pos', 'net', 'net'])"
   ]
  },
  {
   "cell_type": "code",
   "execution_count": 52,
   "id": "f2f211b8",
   "metadata": {},
   "outputs": [],
   "source": [
    "df_cleaned['category_type'] = df_cleaned['category_type'].replace(['gas_transport', 'entertainment', 'food_dining', 'personal_care', 'health_fitness', 'travel', 'home', 'kids_pets'], ['other', 'other', 'other', 'other', 'other', 'other','other','other'])"
   ]
  },
  {
   "cell_type": "code",
   "execution_count": 53,
   "id": "2a409cbb",
   "metadata": {},
   "outputs": [
    {
     "data": {
      "text/plain": [
       "array(['other', 'pos', 'net'], dtype=object)"
      ]
     },
     "execution_count": 53,
     "metadata": {},
     "output_type": "execute_result"
    }
   ],
   "source": [
    "df_cleaned['category_type'].unique()"
   ]
  },
  {
   "cell_type": "code",
   "execution_count": 54,
   "id": "5d8ca9a2",
   "metadata": {},
   "outputs": [],
   "source": [
    "#one hot encoding for category type feature\n",
    "df_cat = pd.get_dummies(df_cleaned[\"category_type\"], drop_first=False)\n",
    "\n",
    "#join the one hot encoding in the clean dataset\n",
    "df_cleaned = pd.concat([df_cleaned, df_cat], axis=1)"
   ]
  },
  {
   "cell_type": "markdown",
   "id": "5882fbd5",
   "metadata": {},
   "source": [
    "**[5.3.5]**  Decrease in coordinate precision - client"
   ]
  },
  {
   "cell_type": "markdown",
   "id": "1cf62acd",
   "metadata": {},
   "source": [
    "The precision of the coordinates is decreased by rounding to its integer value to obtain a broader geographic area and reduce the number of categories of the variable. (Hmong.wiki, 2023)"
   ]
  },
  {
   "cell_type": "code",
   "execution_count": 55,
   "id": "0e2dba53",
   "metadata": {},
   "outputs": [],
   "source": [
    "df_cleaned[\"lat_2\"] = df_cleaned[\"lat\"].round(0)"
   ]
  },
  {
   "cell_type": "code",
   "execution_count": 56,
   "id": "cacc9c0e",
   "metadata": {},
   "outputs": [],
   "source": [
    "df_cleaned[\"long_2\"] = df_cleaned[\"long\"].round(0)"
   ]
  },
  {
   "cell_type": "markdown",
   "id": "9822f778",
   "metadata": {},
   "source": [
    "**[5.3.6]**  Age by groups"
   ]
  },
  {
   "cell_type": "code",
   "execution_count": 57,
   "id": "7cb879de",
   "metadata": {},
   "outputs": [],
   "source": [
    "df_cleaned[\"age_bin\"] = df_cleaned[\"age\"].copy()"
   ]
  },
  {
   "cell_type": "code",
   "execution_count": 58,
   "id": "862c3a5f",
   "metadata": {},
   "outputs": [
    {
     "data": {
      "text/plain": [
       "0    61-75\n",
       "1    61-75\n",
       "2    61-75\n",
       "3    61-75\n",
       "4    61-75\n",
       "Name: age_bin, dtype: object"
      ]
     },
     "execution_count": 58,
     "metadata": {},
     "output_type": "execute_result"
    }
   ],
   "source": [
    "#groupd definition\n",
    "\n",
    "for i in range(len(df_cleaned.age)):\n",
    "    if df_cleaned.age[i] <= 30:\n",
    "        df_cleaned.age_bin[i] = '< 30'\n",
    "    elif df_cleaned.age[i] > 30 and df_cleaned.age[i] <= 45:\n",
    "        df_cleaned.age_bin[i] = '30-45'\n",
    "    elif df.age[i] > 45 and df_cleaned.age[i] <= 60:\n",
    "        df_cleaned.age_bin[i] = '46-60'\n",
    "    elif df.age[i] > 60 and df_cleaned.age[i] <= 75:\n",
    "        df_cleaned.age_bin[i] = '61-75'\n",
    "    else:\n",
    "        df_cleaned.age_bin[i] = '> 75'\n",
    "    \n",
    "\n",
    "df_cleaned.age_bin.head()"
   ]
  },
  {
   "cell_type": "code",
   "execution_count": 59,
   "id": "7cb9b124",
   "metadata": {},
   "outputs": [
    {
     "data": {
      "image/png": "[encoded data removed]",
      "text/plain": [
       "<Figure size 640x480 with 1 Axes>"
      ]
     },
     "metadata": {},
     "output_type": "display_data"
    }
   ],
   "source": [
    "#plotting the age feature in the data\n",
    "plot = sns.countplot(df_cleaned.age_bin)\n",
    "\n",
    "plt.show()"
   ]
  },
  {
   "cell_type": "code",
   "execution_count": 60,
   "id": "80a7592c",
   "metadata": {},
   "outputs": [
    {
     "data": {
      "text/plain": [
       "0          61-75\n",
       "1          61-75\n",
       "2          61-75\n",
       "3          61-75\n",
       "4          61-75\n",
       "           ...  \n",
       "4260899    61-75\n",
       "4260900    61-75\n",
       "4260901    61-75\n",
       "4260902    61-75\n",
       "4260903    61-75\n",
       "Name: age_bin, Length: 4260904, dtype: object"
      ]
     },
     "execution_count": 60,
     "metadata": {},
     "output_type": "execute_result"
    }
   ],
   "source": [
    "df_cleaned[\"age_bin\"]"
   ]
  },
  {
   "cell_type": "code",
   "execution_count": 61,
   "id": "53c8b19c",
   "metadata": {},
   "outputs": [],
   "source": [
    "#one hot encoding for category type feature\n",
    "df_cat = pd.get_dummies(df_cleaned[\"age_bin\"], drop_first=False)\n",
    "\n",
    "#join the one hot encoding in the clean dataset\n",
    "df_cleaned = pd.concat([df_cleaned, df_cat], axis=1)"
   ]
  },
  {
   "cell_type": "markdown",
   "id": "63b53cb6",
   "metadata": {},
   "source": [
    "**[5.4]** Ordinal encoder"
   ]
  },
  {
   "cell_type": "markdown",
   "id": "5668a5b3",
   "metadata": {},
   "source": [
    "based on (Brownlee, 2020f) and (Saxena, 2020)"
   ]
  },
  {
   "cell_type": "code",
   "execution_count": 14,
   "id": "24c96bc1",
   "metadata": {},
   "outputs": [],
   "source": [
    "from sklearn.preprocessing import OrdinalEncoder"
   ]
  },
  {
   "cell_type": "code",
   "execution_count": 15,
   "id": "bf8db2ec",
   "metadata": {},
   "outputs": [],
   "source": [
    "enc = OrdinalEncoder()\n",
    "enc.fit(df_cleaned[[\"category\",\"merchant\", \"gender\", \"city\", \"state\", \"zip\", \"job\", \"age_bin\"]])\n",
    "df_cleaned[[\"category_oe\",\"merchant_oe\", \"gender_oe\", \"city_oe\", \"state_oe\", \"zip_oe\", \"job_oe\", \"age_bin_oe\"]] = enc.transform(df_cleaned[[\"category\",\"merchant\", \"gender\", \"city\", \"state\", \"zip\", \"job\", \"age_bin\"]])"
   ]
  },
  {
   "cell_type": "code",
   "execution_count": 16,
   "id": "833d39f1",
   "metadata": {},
   "outputs": [
    {
     "data": {
      "text/plain": [
       "[array(['entertainment', 'food_dining', 'gas_transport', 'grocery_net',\n",
       "        'grocery_pos', 'health_fitness', 'home', 'kids_pets', 'misc_net',\n",
       "        'misc_pos', 'personal_care', 'shopping_net', 'shopping_pos',\n",
       "        'travel'], dtype=object),\n",
       " array(['Abbott Group', 'Abbott LLC', 'Abbott Ltd', ...,\n",
       "        'Zuniga, Castillo and Pacheco', 'Zuniga, Conley and Shepherd',\n",
       "        'Zuniga, Hernandez and Berger'], dtype=object),\n",
       " array(['F', 'M'], dtype=object),\n",
       " array(['Abbottstown', 'Abilene', 'Acton', 'Ada', 'Adairville', 'Aiken',\n",
       "        'Albany', 'Albuquerque', 'Alexandria', 'Alma', 'Alton', 'Altoona',\n",
       "        'Alturas', 'Alva', 'Ambler', 'Amherst', 'Anchorage', 'Andalusia',\n",
       "        'Andover', 'Andrews', 'Ankeny', 'Ann Arbor', 'Annapolis',\n",
       "        'Arcadia', 'Arroyo Grande', 'Arverne', 'Ashland', 'Astoria',\n",
       "        'Athens', 'Atlanta', 'Aurora', 'Austin', 'Avondale', 'Bainbridge',\n",
       "        'Bainbridge Island', 'Bakersfield', 'Ball', 'Ballston Spa',\n",
       "        'Bancroft', 'Bangor', 'Bar Harbor', 'Barnwell', 'Bassett',\n",
       "        'Batavia', 'Batesville', 'Baton Rouge', 'Battle Creek', 'Baytown',\n",
       "        'Beachwood', 'Beaufort', 'Beaumont', 'Beaver', 'Beaverton',\n",
       "        'Beckley', 'Beebe', 'Bell', 'Belleville', 'Bellevue', 'Bellingham',\n",
       "        'Benicia', 'Bensenville', 'Big Rapids', 'Billings', 'Biloxi',\n",
       "        'Birmingham', 'Bishop', 'Black River Falls', 'Blackwood',\n",
       "        'Blairsville', 'Bloomfield', 'Boise', 'Bonham', 'Bordentown',\n",
       "        'Boston', 'Boulder', 'Boynton Beach', 'Brandenburg', 'Brandon',\n",
       "        'Branford', 'Bridgeport', 'Broadway', 'Bronx', 'Brooklyn',\n",
       "        'Brownsville', 'Broxton', 'Brunswick', 'Brussels', 'Buckeye',\n",
       "        'Buena Park', 'Buffalo', 'Bullhead City', 'Burke', 'Burleson',\n",
       "        'Burlington', 'Burnsville', 'Cairo', 'Calexico', 'Camden',\n",
       "        'Campbell', 'Campton', 'Candler', 'Cannelton', 'Canoga Park',\n",
       "        'Canon City', 'Canyon Country', 'Cape May', 'Carmel', 'Carson',\n",
       "        'Carson City', 'Cartersville', 'Casper', 'Casselberry', 'Celina',\n",
       "        'Centerville', 'Central Islip', 'Chambersburg', 'Chandler',\n",
       "        'Channelview', 'Chapmanville', 'Charlotte', 'Charlottesville',\n",
       "        'Chattanooga', 'Cherokee Village', 'Chesapeake', 'Cheshire',\n",
       "        'Chester', 'Chesterfield', 'Chicago', 'Chimayo', 'Chula Vista',\n",
       "        'Cincinnati', 'Circle Pines', 'Clare', 'Clarks Summit',\n",
       "        'Clarkston', 'Claypool', 'Clearwater', 'Cleveland', 'Clint',\n",
       "        'Clinton', 'Clinton Township', 'Clover', 'Clovis', 'Coalinga',\n",
       "        'Coarsegold', 'College Station', 'Collinsville',\n",
       "        'Colorado Springs', 'Columbus', 'Concord', 'Connellys Springs',\n",
       "        'Conway', 'Cordova', 'Corsicana', 'Cottage Grove', 'Cramerton',\n",
       "        'Cresson', 'Crooked Creek', 'Cross Plains', 'Crosswicks',\n",
       "        'Crownsville', 'Crozier', 'Cumming', 'Dallas', 'Dandridge',\n",
       "        'Danvers', 'Danville', 'Dawson', 'Dayton', 'De Soto',\n",
       "        'Dearborn Heights', 'Deland', 'Delano', 'Denison', 'Denver',\n",
       "        'Detroit', 'Donora', 'Dothan', 'Dover', 'Dry Ridge', 'Dublin',\n",
       "        'Dudley', 'Duluth', 'Dunkirk', 'Dunn', 'Dunnellon', 'Durham',\n",
       "        'Duson', 'Eagle Pass', 'Eagle Rock', 'Easley', 'East China',\n",
       "        'East Hanover', 'East Lansing', 'East Northport', 'Easton',\n",
       "        'Edison', 'Egg Harbor Township', 'El Mirage', 'Elizabeth',\n",
       "        'Elk Grove Village', 'Elko', 'Elkton', 'Elkville', 'Ellettsville',\n",
       "        'Elmont', 'Elyria', 'Emporia', 'Englewood', 'Erie', 'Escondido',\n",
       "        'Essex', 'Eugene', 'Evanston', 'Everett', 'Everson', 'Excelsior',\n",
       "        'Fair Oaks', 'Fairfax', 'Fairfield', 'Fall River', 'Fallbrook',\n",
       "        'Fargo', 'Farmington', 'Fayetteville', 'Fitzgerald', 'Florence',\n",
       "        'Floresville', 'Flushing', 'Forest Hills', 'Forks', 'Forsyth',\n",
       "        'Fort Bragg', 'Fort Huachuca', 'Fort Lauderdale', 'Fort Myers',\n",
       "        'Fort Stockton', 'Fort Wayne', 'Fort Worth', 'Fountain Hills',\n",
       "        'Franklin', 'Franklin Lakes', 'Freeport', 'Fremont', 'Fresno',\n",
       "        'Frisco', 'Fruitland Park', 'Fullerton', 'Fulton', 'Galion',\n",
       "        'Garden Grove', 'Gardena', 'Gardnerville', 'Gastonia', 'Gilbert',\n",
       "        'Girard', 'Gladstone', 'Glendale', 'Glendora', 'Gloucester',\n",
       "        'Gold Hill', 'Goldsboro', 'Grand Prairie', 'Grand Rapids',\n",
       "        'Granger', 'Great Falls', 'Green Bay', 'Greenwood', 'Greer',\n",
       "        'Gresham', 'Grinnell', 'Groveland', 'Gunnison', 'Guntown',\n",
       "        'Gurley', 'Hacienda Heights', 'Haledon', 'Hallandale',\n",
       "        'Haltom City', 'Hamburg', 'Hamden', 'Hampton', 'Harrisburg',\n",
       "        'Harrisonburg', 'Hattiesburg', 'Henderson', 'Herndon', 'Hialeah',\n",
       "        'Hibbing', 'Highland Park', 'Hillsboro', 'Hilo', 'Hodge',\n",
       "        'Hoffman Estates', 'Holland', 'Hollister', 'Hollywood', 'Holton',\n",
       "        'Honesdale', 'Honolulu', 'Hopewell', 'Hopwood', 'Hornbeck',\n",
       "        'Houston', 'Huntington Park', 'Hyattsville', 'Idaho Falls',\n",
       "        'Inglewood', 'Iowa City', 'Iron Mountain', 'Irwin', 'Ithaca',\n",
       "        'Jacksboro', 'Jackson', 'Jacksonville', 'Jamesburg',\n",
       "        'Jefferson City', 'Jersey City', 'Johnson City', 'Joplin',\n",
       "        'Junction City', 'Kahuku', 'Kahului', 'Kankakee', 'Kansas City',\n",
       "        'Kapaa', 'Keaau', 'Keansburg', 'Kearney', 'Keller', 'Kennedale',\n",
       "        'Kennett Square', 'Kenosha', 'Keyser', 'King', 'Kingston',\n",
       "        'Knoxville', 'Kunkletown', 'Kutztown', 'La Fargeville',\n",
       "        'La Fayette', 'La Grange', 'Lafayette', 'Laguna Niguel',\n",
       "        'Lake City', 'Lake Saint Louis', 'Lake Zurich', 'Lakeland',\n",
       "        'Lakeview', 'Lakewood', 'Lancaster', 'Langhorne', 'Lansing',\n",
       "        'Laredo', 'Las Vegas', 'Latham', 'Lawrenceville', 'Lebanon',\n",
       "        'Lees Summit', 'Leland', 'Levittown', 'Lewisburg', 'Lewiston',\n",
       "        'Lexington', 'Lexington Park', 'Lihue', 'Lincoln Park',\n",
       "        'Little Falls', 'Little Rock', 'Littleton', 'Livermore',\n",
       "        'Long Beach', 'Longwood', 'Lorton', 'Los Angeles', 'Louisville',\n",
       "        'Loveland', 'Lumberton', 'Lyndhurst', 'Lynnwood', 'Macomb',\n",
       "        'Madison', 'Manchester', 'Manistee', 'Mansfield', 'Maple Falls',\n",
       "        'Maple Shade', 'Maricopa', 'Marietta', 'Marinette', 'Marion',\n",
       "        'Marshfield', 'Martinsville', 'Marysville', 'Maryville',\n",
       "        'Massillon', 'Mattapan', 'Max Meadows', 'Mc Kinney', 'Mchenry',\n",
       "        'Mechanicville', 'Medfield', 'Melvindale', 'Memphis', 'Menomonie',\n",
       "        'Mesa', 'Mesick', 'Mesquite', 'Miami', 'Miccosukee Cpo',\n",
       "        'Middle River', 'Middletown', 'Mifflinburg', 'Milan', 'Millry',\n",
       "        'Milton', 'Milwaukee', 'Minneapolis', 'Mission', 'Missouri City',\n",
       "        'Mobile', 'Mobridge', 'Moline', 'Moncks Corner', 'Monroe',\n",
       "        'Montebello', 'Montgomery', 'Moreno Valley', 'Morgan Hill',\n",
       "        'Morgantown', 'Morristown', 'Mount Olive', 'Mount Pleasant',\n",
       "        'Mount Vernon', 'Mountain View', 'Mulberry', 'Muleshoe',\n",
       "        'Munising', 'Murfreesboro', 'Muskegon', 'Nacogdoches', 'Napoleon',\n",
       "        'Nashville', 'Navarre', 'Nederland', 'Neenah', 'Neosho',\n",
       "        'New Albin', 'New Bedford', 'New Bern', 'New Britain', 'New Haven',\n",
       "        'New Orleans', 'New Plymouth', 'New Port Richey', 'New Windsor',\n",
       "        'New York City', 'Newark', 'Newburgh', 'Newnan', 'Norfolk',\n",
       "        'Norris City', 'North Baltimore', 'North Hollywood',\n",
       "        'North Las Vegas', 'North Olmsted', 'North Pole', 'Northridge',\n",
       "        'Northumberland', 'Northville', 'Norwalk', 'Norwood', 'Oak Forest',\n",
       "        'Oakley', 'Ocala', 'Oceanside', 'Odenton', 'Odessa', 'Ojai',\n",
       "        'Oklahoma City', 'Omaha', 'Ontonagon', 'Orange', 'Orangeburg',\n",
       "        'Orland Park', 'Orlando', 'Oscoda', 'Owings', 'Oxford', 'Palatine',\n",
       "        'Palm Harbor', 'Palmer', 'Panorama City', 'Papillion', 'Paris',\n",
       "        'Park Hills', 'Parkville', 'Pasadena', 'Pasco', 'Patterson',\n",
       "        'Payette', 'Pearl City', 'Pelham', 'Pensacola', 'Peoria',\n",
       "        'Perryville', 'Pharr', 'Philadelphia', 'Phoenix', 'Phoenixville',\n",
       "        'Pierce City', 'Piscataway', 'Pittsburgh', 'Plainfield',\n",
       "        'Plainville', 'Plano', 'Plymouth', 'Pollock', 'Pomona',\n",
       "        'Pompano Beach', 'Pooler', 'Port Richey', 'Port Saint Lucie',\n",
       "        'Portage', 'Porterville', 'Portland', 'Portsmouth', 'Poughkeepsie',\n",
       "        'Prairie', 'Presidio', 'Princess Anne', 'Prineville', 'Providence',\n",
       "        'Pulaski', 'Pullman', 'Putnam Valley', 'Puyallup', 'Queen Creek',\n",
       "        'Racine', 'Radcliff', 'Raleigh', 'Rancho Cordova',\n",
       "        'Rancho Cucamonga', 'Randolph', 'Reading', 'Red Lodge',\n",
       "        'Redwood City', 'Refugio', 'Renton', 'Rice Lake',\n",
       "        'Richland Center', 'Richmond', 'Ridgefield', 'Ringgold', 'Ripley',\n",
       "        'River Falls', 'River Forest', 'Riverdale', 'Riverside', 'Roanoke',\n",
       "        'Robbinsville', 'Rochester', 'Rockford', 'Rockland', 'Rockville',\n",
       "        'Rockville Centre', 'Rocky Mount', 'Rocky River',\n",
       "        'Rolling Meadows', 'Roosevelt', 'Rosston', 'Rowland Heights',\n",
       "        'Ruffin', 'Russell', 'Ruston', 'Rutherford', 'Sacramento',\n",
       "        'Sag Harbor', 'Saginaw', 'Saint Augustine', 'Saint Charles',\n",
       "        'Saint Clairsville', 'Saint Cloud', 'Saint George',\n",
       "        'Saint Leonard', 'Saint Louis', 'Saint Paul', 'Saint Petersburg',\n",
       "        'Salem', 'Salina', 'Salt Lake City', 'San Antonio',\n",
       "        'San Bernardino', 'San Diego', 'San Francisco', 'San Jose',\n",
       "        'San Mateo', 'San Simon', 'Sandy', 'Sanford', 'Santa Clarita',\n",
       "        'Santa Cruz', 'Santa Rosa', 'Sauk City', 'Savannah', 'Scottsdale',\n",
       "        'Seattle', 'Selden', 'Sequim', 'Sewaren', 'Sharpsburg',\n",
       "        'Sharpsville', 'Shelbyville', 'Sherman', 'Sherwood', 'Simpson',\n",
       "        'Sioux Falls', 'Snohomish', 'Soddy Daisy', 'Soperton',\n",
       "        'South Bend', 'South Burlington', 'South Gate', 'South Jordan',\n",
       "        'South Pasadena', 'Southaven', 'Southfield', 'Southlake', 'Sparta',\n",
       "        'Springdale', 'Springfield', 'Springhill', 'Stanford', 'Stanley',\n",
       "        'Staten Island', 'Statham', 'Sterling Heights', 'Stillwater',\n",
       "        'Strongsville', 'Sugar Land', 'Sulphur', 'Sun City West',\n",
       "        'Sunbury', 'Sunnyvale', 'Sutton', 'Tacoma', 'Talala',\n",
       "        'Tallahassee', 'Tampa', 'Tatum', 'Tehachapi', 'Temecula', 'Tempe',\n",
       "        'Thomasville', 'Tinley Park', 'Torrance', 'Tracy', 'Trenton',\n",
       "        'Troy', 'Tucson', 'Tularosa', 'Tulsa', 'Turlock', 'Tuscola',\n",
       "        'Union Springs', 'Uniontown', 'Upland', 'Urbandale',\n",
       "        'Valley Stream', 'Vandalia', 'Vienna', 'Vincennes',\n",
       "        'Virginia Beach', 'Visalia', 'W Hartford', 'Waco', 'Wailuku',\n",
       "        'Walhalla', 'Wallingford', 'Wantagh', 'Wapakoneta', 'Wasco',\n",
       "        'Washington', 'Wasilla', 'Waterbury', 'Waterford', 'Watertown',\n",
       "        'Wauconda', 'West Bloomfield', 'West Cornwall', 'West Covina',\n",
       "        'West Hempstead', 'West Lafayette', 'West Palm Beach',\n",
       "        'Westborough', 'Westbury', 'Westchester', 'Westerville',\n",
       "        'Westford', 'Westminster', 'Weston', 'Whiting', 'Whittier',\n",
       "        'Wichita', 'Wildomar', 'Willimantic', 'Williston', 'Wilmington',\n",
       "        'Wilson', 'Windsor', 'Winnetka', 'Winnfield', 'Winston Salem',\n",
       "        'Winthrop', 'Woodbridge', 'Woodside', 'Worcester', 'Worton',\n",
       "        'Wright City', 'Xenia', 'York', 'York Haven', 'Youngtown',\n",
       "        'Yuba City', 'Zapata', 'Zolfo Springs'], dtype=object),\n",
       " array(['AK', 'AL', 'AR', 'AZ', 'CA', 'CO', 'CT', 'DC', 'DE', 'FL', 'GA',\n",
       "        'HI', 'IA', 'ID', 'IL', 'IN', 'KS', 'KY', 'LA', 'MA', 'MD', 'ME',\n",
       "        'MI', 'MN', 'MO', 'MS', 'MT', 'NC', 'ND', 'NE', 'NH', 'NJ', 'NM',\n",
       "        'NV', 'NY', 'OH', 'OK', 'OR', 'PA', 'RI', 'SC', 'SD', 'TN', 'TX',\n",
       "        'UT', 'VA', 'VT', 'WA', 'WI', 'WV', 'WY'], dtype=object),\n",
       " array([ 1571,  1581,  1605,  1720,  1742,  1810,  1886,  1923,  2050,\n",
       "         2052,  2062,  2118,  2122,  2126,  2163,  2370,  2723,  2740,\n",
       "         2907,  3867,  4011,  4240,  4609,  4951,  5060,  5401,  5403,\n",
       "         6053,  6117,  6226,  6234,  6405,  6410,  6443,  6492,  6518,\n",
       "         6610,  6705,  6796,  6877,  7063,  7070,  7071,  7077,  7108,\n",
       "         7109,  7202,  7302,  7310,  7417,  7424,  7508,  7734,  7869,\n",
       "         7936,  7960,  8012,  8052,  8075,  8104,  8204,  8234,  8505,\n",
       "         8515,  8638,  8690,  8722,  8759,  8817,  8831,  8854, 10025,\n",
       "        10310, 10453, 10469, 10471, 10579, 10803, 11003, 11103, 11208,\n",
       "        11212, 11214, 11216, 11218, 11220, 11226, 11229, 11237, 11238,\n",
       "        11358, 11375, 11377, 11552, 11570, 11575, 11580, 11590, 11692,\n",
       "        11722, 11731, 11756, 11784, 11793, 11963, 12020, 12110, 12118,\n",
       "        12222, 12401, 12413, 12550, 12553, 12601, 13160, 13601, 13656,\n",
       "        14048, 14075, 14215, 14218, 14221, 14224, 14226, 14469, 14606,\n",
       "        14609, 14621, 14850, 15009, 15033, 15202, 15221, 15237, 15401,\n",
       "        15417, 15445, 15717, 16143, 16150, 16417, 16509, 16601, 16699,\n",
       "        17057, 17110, 17201, 17301, 17370, 17406, 17601, 17801, 17844,\n",
       "        17857, 18013, 18042, 18058, 18411, 18431, 19002, 19013, 19047,\n",
       "        19086, 19145, 19348, 19460, 19530, 19606, 19608, 19802, 19810,\n",
       "        19901, 19950, 20007, 20015, 20037, 20170, 20653, 20685, 20736,\n",
       "        20737, 20785, 20850, 20851, 21032, 21113, 21220, 21221, 21234,\n",
       "        21403, 21678, 21853, 22015, 22033, 22079, 22180, 22192, 22304,\n",
       "        22314, 22801, 22901, 23039, 23061, 23237, 23325, 23451, 23455,\n",
       "        23456, 23462, 23508, 23704, 23832, 23836, 23860, 24055, 24151,\n",
       "        24301, 24360, 24521, 24901, 25508, 25801, 26505, 26726, 27021,\n",
       "        27104, 27360, 27371, 27505, 27523, 27530, 27565, 27613, 27713,\n",
       "        27856, 27893, 28027, 28032, 28054, 28110, 28205, 28206, 28208,\n",
       "        28227, 28277, 28304, 28307, 28311, 28334, 28350, 28358, 28451,\n",
       "        28562, 28612, 28715, 28771, 29039, 29054, 29072, 29118, 29461,\n",
       "        29464, 29475, 29477, 29505, 29510, 29642, 29650, 29691, 29710,\n",
       "        29805, 29812, 29906, 30041, 30046, 30096, 30097, 30120, 30263,\n",
       "        30277, 30309, 30312, 30318, 30349, 30457, 30605, 30666, 30728,\n",
       "        30733, 30736, 31029, 31322, 31404, 31519, 31631, 31750, 32084,\n",
       "        32205, 32218, 32224, 32303, 32309, 32439, 32504, 32566, 32570,\n",
       "        32571, 32707, 32724, 32771, 32779, 32807, 32817, 32821, 33009,\n",
       "        33010, 33012, 33015, 33021, 33060, 33062, 33068, 33125, 33161,\n",
       "        33181, 33316, 33319, 33326, 33407, 33415, 33436, 33510, 33609,\n",
       "        33610, 33613, 33705, 33710, 33762, 33809, 33860, 33890, 33919,\n",
       "        33966, 34432, 34481, 34655, 34668, 34684, 34731, 34983, 35117,\n",
       "        35216, 35242, 35243, 35619, 35748, 35963, 36301, 36420, 36558,\n",
       "        36617, 37049, 37127, 37215, 37321, 37379, 37411, 37421, 37604,\n",
       "        37725, 37804, 37919, 38106, 38127, 38663, 38671, 38849, 39213,\n",
       "        39401, 39532, 39756, 39817, 40031, 40108, 40160, 40205, 40211,\n",
       "        40216, 40517, 41035, 41042, 41101, 41301, 42202, 42220, 43016,\n",
       "        43050, 43081, 43205, 43545, 43950, 44035, 44070, 44106, 44116,\n",
       "        44136, 44216, 44405, 44646, 44833, 45036, 45042, 45205, 45311,\n",
       "        45377, 45385, 45654, 45750, 45872, 45895, 46032, 46151, 46510,\n",
       "        46613, 46774, 46806, 46814, 46952, 47006, 47023, 47031, 47330,\n",
       "        47424, 47429, 47520, 47591, 47906, 47909, 48038, 48044, 48054,\n",
       "        48076, 48108, 48122, 48127, 48146, 48168, 48170, 48205, 48207,\n",
       "        48235, 48307, 48313, 48322, 48328, 48336, 48346, 48414, 48617,\n",
       "        48638, 48750, 48823, 48911, 49015, 49017, 49024, 49037, 49202,\n",
       "        49203, 49301, 49307, 49345, 49424, 49445, 49525, 49660, 49668,\n",
       "        49801, 49837, 49862, 49953, 50021, 50109, 50112, 50138, 50322,\n",
       "        50441, 52057, 52160, 52240, 52245, 52302, 53132, 53142, 53216,\n",
       "        53223, 53224, 53404, 53581, 53583, 53703, 54022, 54143, 54311,\n",
       "        54313, 54615, 54751, 54868, 54956, 55014, 55041, 55104, 55117,\n",
       "        55129, 55331, 55337, 55403, 55746, 56303, 56304, 57108, 57601,\n",
       "        58801, 59068, 59102, 59404, 60007, 60008, 60035, 60047, 60050,\n",
       "        60074, 60084, 60106, 60154, 60169, 60202, 60305, 60452, 60462,\n",
       "        60487, 60510, 60538, 60611, 60618, 60641, 60645, 60901, 61104,\n",
       "        61108, 61265, 61535, 61602, 61606, 61614, 61953, 62002, 62013,\n",
       "        62565, 62837, 62864, 62869, 62932, 62985, 63020, 63121, 63123,\n",
       "        63304, 63367, 63390, 63601, 63640, 63775, 64063, 64116, 64123,\n",
       "        64801, 64850, 65109, 65251, 65275, 65723, 65807, 66104, 66801,\n",
       "        66968, 67211, 67401, 67665, 68005, 68046, 68102, 68104, 68127,\n",
       "        68154, 68845, 68979, 70117, 70119, 70131, 70392, 70501, 70529,\n",
       "        70663, 70816, 70818, 71075, 71203, 71247, 71270, 71405, 71439,\n",
       "        71467, 71483, 71858, 72012, 72031, 72032, 72120, 72157, 72211,\n",
       "        72529, 72764, 72921, 73135, 73162, 73717, 74021, 74078, 74080,\n",
       "        74136, 74365, 74820, 75009, 75021, 75025, 75034, 75052, 75070,\n",
       "        75090, 75110, 75149, 75201, 75214, 75216, 75218, 75219, 75230,\n",
       "        75235, 75243, 75252, 75418, 75691, 75965, 76028, 76060, 76063,\n",
       "        76092, 76109, 76112, 76117, 76137, 76244, 76262, 76458, 76645,\n",
       "        76706, 77023, 77055, 77065, 77072, 77075, 77081, 77082, 77085,\n",
       "        77087, 77328, 77356, 77407, 77459, 77479, 77502, 77521, 77523,\n",
       "        77530, 77627, 77703, 77705, 77840, 78040, 78076, 78114, 78222,\n",
       "        78228, 78245, 78250, 78259, 78343, 78377, 78521, 78572, 78577,\n",
       "        78665, 78704, 78745, 78748, 78753, 78754, 78758, 78852, 79347,\n",
       "        79606, 79735, 79761, 79836, 79845, 80015, 80110, 80112, 80123,\n",
       "        80209, 80211, 80212, 80220, 80226, 80228, 80232, 80236, 80303,\n",
       "        80537, 80550, 80903, 81212, 82601, 83401, 83428, 83661, 83705,\n",
       "        84092, 84095, 84109, 84119, 84124, 84634, 85013, 85015, 85016,\n",
       "        85017, 85031, 85048, 85086, 85138, 85140, 85142, 85208, 85215,\n",
       "        85226, 85258, 85268, 85282, 85295, 85323, 85326, 85335, 85363,\n",
       "        85375, 85613, 85632, 85705, 85706, 85718, 85750, 86442, 87056,\n",
       "        87112, 87113, 87114, 87401, 87522, 88101, 88352, 89015, 89031,\n",
       "        89183, 89410, 89701, 89801, 90001, 90003, 90007, 90016, 90022,\n",
       "        90201, 90247, 90255, 90280, 90303, 90503, 90602, 90621, 90640,\n",
       "        90650, 90715, 90745, 90810, 90814, 91007, 91030, 91202, 91304,\n",
       "        91306, 91326, 91350, 91387, 91402, 91606, 91739, 91740, 91741,\n",
       "        91745, 91748, 91766, 91768, 91784, 91790, 91791, 91910, 91911,\n",
       "        91915, 92026, 92028, 92057, 92113, 92129, 92139, 92231, 92407,\n",
       "        92411, 92557, 92590, 92592, 92595, 92677, 92683, 92831, 92833,\n",
       "        92841, 92866, 93023, 93210, 93215, 93257, 93280, 93291, 93306,\n",
       "        93311, 93312, 93420, 93536, 93561, 93614, 93722, 94040, 94063,\n",
       "        94085, 94123, 94124, 94305, 94401, 94510, 94526, 94536, 94551,\n",
       "        94561, 95023, 95037, 95064, 95124, 95376, 95377, 95380, 95382,\n",
       "        95404, 95409, 95628, 95670, 95826, 95833, 95993, 96101, 96720,\n",
       "        96731, 96732, 96746, 96749, 96766, 96782, 96793, 96816, 96817,\n",
       "        96825, 96826, 97007, 97030, 97202, 97224, 97305, 97405, 97424,\n",
       "        97439, 97448, 97525, 97754, 98059, 98087, 98103, 98110, 98115,\n",
       "        98118, 98119, 98198, 98208, 98225, 98247, 98266, 98271, 98290,\n",
       "        98331, 98371, 98382, 98404, 98862, 99163, 99301, 99515, 99575,\n",
       "        99645, 99654, 99705], dtype=int64),\n",
       " array(['Accommodation manager', 'Accountant, chartered',\n",
       "        'Accountant, chartered certified',\n",
       "        'Accountant, chartered management',\n",
       "        'Accountant, chartered public finance', 'Accounting technician',\n",
       "        'Actor', 'Actuary', 'Acupuncturist', 'Administrator',\n",
       "        'Administrator, Civil Service', 'Administrator, arts',\n",
       "        'Administrator, charities/voluntary organisations',\n",
       "        'Administrator, education', 'Adult guidance worker', 'Adult nurse',\n",
       "        'Advertising account executive', 'Advertising account planner',\n",
       "        'Advertising art director', 'Advertising copywriter',\n",
       "        'Advice worker', 'Aeronautical engineer',\n",
       "        'Agricultural consultant', 'Agricultural engineer', 'Aid worker',\n",
       "        'Air cabin crew', 'Airline pilot', 'Ambulance person',\n",
       "        'Analytical chemist', 'Animal nutritionist', 'Animator',\n",
       "        'Applications developer', 'Arboriculturist', 'Archaeologist',\n",
       "        'Architect', 'Architectural technologist', 'Archivist',\n",
       "        'Armed forces logistics/support/administrative officer',\n",
       "        'Armed forces operational officer',\n",
       "        'Armed forces technical officer',\n",
       "        'Armed forces training and education officer',\n",
       "        'Art gallery manager', 'Art therapist', 'Artist',\n",
       "        'Arts administrator', 'Arts development officer',\n",
       "        'Associate Professor', 'Astronomer', 'Audiological scientist',\n",
       "        'Automotive engineer', 'Banker', 'Barista', \"Barrister's clerk\",\n",
       "        'Best boy', 'Biochemist, clinical', 'Biomedical engineer',\n",
       "        'Bonds trader', 'Brewing technologist', 'Broadcast engineer',\n",
       "        'Broadcast journalist', 'Broadcast presenter',\n",
       "        'Building control surveyor', 'Building services engineer',\n",
       "        'Building surveyor', 'Buyer, industrial', 'Buyer, retail',\n",
       "        'Cabin crew', 'Call centre manager', 'Camera operator',\n",
       "        'Careers adviser', 'Careers information officer', 'Cartographer',\n",
       "        'Catering manager', 'Ceramics designer', 'Charity fundraiser',\n",
       "        'Charity officer', 'Chartered accountant',\n",
       "        'Chartered loss adjuster', 'Chartered management accountant',\n",
       "        'Chemical engineer', 'Chemist, analytical',\n",
       "        'Chief Executive Officer', 'Chief Financial Officer',\n",
       "        'Chief Marketing Officer', 'Chief Strategy Officer',\n",
       "        'Chief Technology Officer', 'Chief of Staff', 'Chiropodist',\n",
       "        'Chiropractor', 'Civil Service administrator',\n",
       "        'Civil Service fast streamer', 'Civil engineer, contracting',\n",
       "        'Claims inspector/assessor', 'Clinical biochemist',\n",
       "        'Clinical cytogeneticist', 'Clinical embryologist',\n",
       "        'Clinical molecular geneticist', 'Clinical psychologist',\n",
       "        'Clinical research associate',\n",
       "        'Clinical scientist, histocompatibility and immunogenetics',\n",
       "        'Clothing/textile technologist', 'Colour technologist',\n",
       "        'Commercial art gallery manager', 'Commercial horticulturist',\n",
       "        'Commercial/residential surveyor', 'Commissioning editor',\n",
       "        'Communications engineer', 'Community arts worker',\n",
       "        'Community development worker', 'Community education officer',\n",
       "        'Community pharmacist', 'Company secretary', 'Comptroller',\n",
       "        'Computer games developer',\n",
       "        'Conservation officer, historic buildings',\n",
       "        'Conservation officer, nature', 'Conservator, furniture',\n",
       "        'Conservator, museum/gallery', 'Consulting civil engineer',\n",
       "        'Contracting civil engineer', 'Contractor',\n",
       "        'Control and instrumentation engineer', 'Copy',\n",
       "        'Copywriter, advertising', 'Counselling psychologist',\n",
       "        'Counsellor', 'Curator', 'Customer service manager',\n",
       "        'Cytogeneticist', 'Dancer', 'Data processing manager',\n",
       "        'Data scientist', 'Dentist', 'Designer, ceramics/pottery',\n",
       "        'Designer, exhibition/display', 'Designer, fashion/clothing',\n",
       "        'Designer, furniture', 'Designer, graphic',\n",
       "        'Designer, industrial/product', 'Designer, interior/spatial',\n",
       "        'Designer, jewellery', 'Designer, multimedia',\n",
       "        'Designer, television/film set', 'Designer, textile',\n",
       "        'Diagnostic radiographer', 'Dietitian',\n",
       "        'Diplomatic Services operational officer', 'Doctor, hospital',\n",
       "        'Drilling engineer', 'Early years teacher', 'Economist',\n",
       "        'Editor, commissioning', 'Editor, film/video',\n",
       "        'Editorial assistant', 'Education administrator',\n",
       "        'Education officer, community', 'Education officer, museum',\n",
       "        'Educational psychologist', 'Electrical engineer',\n",
       "        'Electronics engineer', 'Embryologist, clinical',\n",
       "        'Emergency planning/management officer', 'Energy engineer',\n",
       "        'Energy manager', 'Engineer, aeronautical',\n",
       "        'Engineer, agricultural', 'Engineer, automotive',\n",
       "        'Engineer, broadcasting (operations)',\n",
       "        'Engineer, building services', 'Engineer, chemical',\n",
       "        'Engineer, civil (contracting)', 'Engineer, communications',\n",
       "        'Engineer, drilling', 'Engineer, electronics', 'Engineer, energy',\n",
       "        'Engineer, land', 'Engineer, maintenance',\n",
       "        'Engineer, maintenance (IT)', 'Engineer, manufacturing',\n",
       "        'Engineer, manufacturing systems', 'Engineer, materials',\n",
       "        'Engineer, mining', 'Engineer, petroleum', 'Engineer, structural',\n",
       "        'Engineer, technical sales', 'Engineer, water',\n",
       "        'Engineering geologist', 'English as a foreign language teacher',\n",
       "        'English as a second language teacher', 'Environmental consultant',\n",
       "        'Environmental education officer',\n",
       "        'Environmental health practitioner', 'Environmental manager',\n",
       "        'Equality and diversity officer', 'Equities trader',\n",
       "        'Estate agent', 'Estate manager/land agent',\n",
       "        'Exhibitions officer, museum/gallery', 'Facilities manager',\n",
       "        'Farm manager', 'Field seismologist', 'Financial adviser',\n",
       "        'Financial manager', 'Financial planner', 'Financial risk analyst',\n",
       "        'Financial trader', 'Fine artist', 'Firefighter',\n",
       "        'Fish farm manager', 'Fisheries officer', 'Fitness centre manager',\n",
       "        'Food technologist', 'Forensic psychologist', 'Forensic scientist',\n",
       "        'Furniture conservator/restorer', 'Furniture designer',\n",
       "        'Further education lecturer', 'Gaffer', 'Games developer',\n",
       "        'Garment/textile technologist', 'General practice doctor',\n",
       "        'Geneticist, molecular',\n",
       "        'Geographical information systems officer',\n",
       "        'Geologist, engineering', 'Geologist, wellsite',\n",
       "        'Geophysical data processor', 'Government social research officer',\n",
       "        'Graphic designer', 'Haematologist', 'Health and safety adviser',\n",
       "        'Health and safety inspector', 'Health physicist',\n",
       "        'Health promotion specialist', 'Health service manager',\n",
       "        'Health visitor', 'Herbalist', 'Heritage manager',\n",
       "        'Historic buildings inspector/conservation officer',\n",
       "        'Holiday representative', 'Homeopath', 'Horticultural consultant',\n",
       "        'Horticultural therapist', 'Horticulturist, amenity',\n",
       "        'Hospital pharmacist', 'Hotel manager', 'Housing manager/officer',\n",
       "        'Hydrogeologist', 'Hydrographic surveyor', 'Hydrologist',\n",
       "        'IT consultant', 'IT sales professional', 'IT trainer',\n",
       "        'Immigration officer', 'Immunologist', 'Industrial buyer',\n",
       "        'Information officer', 'Information systems manager',\n",
       "        'Insurance account manager', 'Insurance broker',\n",
       "        'Insurance claims handler', 'Insurance risk surveyor',\n",
       "        'Intelligence analyst', 'Interior and spatial designer',\n",
       "        'International aid/development worker', 'Interpreter',\n",
       "        'Investment banker, operational', 'Jewellery designer', 'Land',\n",
       "        'Land/geomatics surveyor', 'Lawyer', 'Learning disability nurse',\n",
       "        'Lecturer, further education', 'Lecturer, higher education',\n",
       "        'Legal executive', 'Legal secretary', 'Leisure centre manager',\n",
       "        'Lexicographer', 'Librarian, public', 'Licensed conveyancer',\n",
       "        'Lobbyist', 'Local government officer', 'Location manager',\n",
       "        'Loss adjuster, chartered', 'Magazine features editor',\n",
       "        'Maintenance engineer', 'Make', 'Management consultant',\n",
       "        'Manufacturing systems engineer', 'Marine scientist',\n",
       "        'Market researcher', 'Marketing executive', 'Materials engineer',\n",
       "        'Mechanical engineer', 'Medical illustrator',\n",
       "        'Medical laboratory scientific officer', 'Medical secretary',\n",
       "        'Medical technical officer', 'Mental health nurse',\n",
       "        'Merchandiser, retail', 'Metallurgist', 'Meteorologist', 'Midwife',\n",
       "        'Mining engineer', 'Multimedia programmer',\n",
       "        'Museum/gallery conservator', 'Museum/gallery curator',\n",
       "        'Museum/gallery exhibitions officer', 'Music therapist',\n",
       "        'Musician', 'Network engineer', 'Neurosurgeon', 'Nurse, adult',\n",
       "        \"Nurse, children's\", 'Nurse, learning disability',\n",
       "        'Nurse, mental health', 'Nutritional therapist',\n",
       "        'Occupational hygienist', 'Occupational psychologist',\n",
       "        'Occupational therapist', 'Oceanographer', 'Office manager',\n",
       "        'Oncologist', 'Operational investment banker',\n",
       "        'Operational researcher', 'Ophthalmologist',\n",
       "        'Optician, dispensing', 'Optometrist', 'Orthoptist',\n",
       "        'Paediatric nurse', 'Paramedic', 'Passenger transport manager',\n",
       "        'Patent attorney', 'Patent examiner', 'Pathologist',\n",
       "        'Pension scheme manager', 'Pensions consultant',\n",
       "        'Petroleum engineer', 'Pharmacist, hospital', 'Physicist, medical',\n",
       "        'Physiological scientist', 'Physiotherapist', 'Phytotherapist',\n",
       "        'Plant breeder/geneticist', 'Podiatrist', 'Police officer',\n",
       "        \"Politician's assistant\", 'Presenter, broadcasting', 'Press sub',\n",
       "        'Primary school teacher', 'Print production planner', 'Printmaker',\n",
       "        'Prison officer', 'Private music teacher', 'Producer, radio',\n",
       "        'Producer, television/film/video', 'Product designer',\n",
       "        'Product manager', 'Production assistant, television',\n",
       "        'Production designer, theatre/television/film',\n",
       "        'Production engineer', 'Professor Emeritus',\n",
       "        'Programme researcher, broadcasting/film/video',\n",
       "        'Programmer, multimedia', 'Programmer, systems', 'Proofreader',\n",
       "        'Psychiatric nurse', 'Psychiatrist', 'Psychologist, clinical',\n",
       "        'Psychologist, counselling', 'Psychologist, educational',\n",
       "        'Psychologist, forensic',\n",
       "        'Psychologist, prison and probation services',\n",
       "        'Psychologist, sport and exercise', 'Psychotherapist',\n",
       "        'Psychotherapist, child', 'Psychotherapist, dance movement',\n",
       "        'Public house manager', 'Public relations account executive',\n",
       "        'Public relations officer', 'Publishing copy',\n",
       "        'Publishing rights manager', 'Purchasing manager',\n",
       "        'Quality manager', 'Quantity surveyor', 'Quarry manager',\n",
       "        'Radiation protection practitioner', 'Radio broadcast assistant',\n",
       "        'Radio producer', 'Radiographer, diagnostic',\n",
       "        'Radiographer, therapeutic', 'Ranger/warden', 'Records manager',\n",
       "        'Recycling officer', 'Regulatory affairs officer',\n",
       "        'Research officer, government',\n",
       "        'Research officer, political party',\n",
       "        'Research scientist (life sciences)', 'Research scientist (maths)',\n",
       "        'Research scientist (medical)',\n",
       "        'Research scientist (physical sciences)', 'Restaurant manager',\n",
       "        'Restaurant manager, fast food', 'Retail banker', 'Retail buyer',\n",
       "        'Retail manager', 'Retail merchandiser', 'Risk analyst',\n",
       "        'Risk manager', 'Rural practice surveyor', 'Sales executive',\n",
       "        'Sales professional, IT', 'Sales promotion account executive',\n",
       "        'Scientific laboratory technician', 'Scientist, audiological',\n",
       "        'Scientist, biomedical',\n",
       "        'Scientist, clinical (histocompatibility and immunogenetics)',\n",
       "        'Scientist, marine', 'Scientist, physiological',\n",
       "        'Scientist, product/process development',\n",
       "        'Scientist, research (life sciences)',\n",
       "        'Scientist, research (medical)',\n",
       "        'Scientist, research (physical sciences)',\n",
       "        'Scientist, water quality', 'Secondary school teacher',\n",
       "        'Secretary, company', 'Secretary/administrator',\n",
       "        'Seismic interpreter', 'Senior tax professional/tax inspector',\n",
       "        'Set designer', 'Ship broker', 'Site engineer',\n",
       "        'Social research officer, government', 'Social researcher',\n",
       "        'Software engineer', 'Soil scientist', 'Solicitor',\n",
       "        'Special educational needs teacher', 'Special effects artist',\n",
       "        'Sport and exercise psychologist', 'Sports coach',\n",
       "        'Sports development officer', 'Sports therapist', 'Stage manager',\n",
       "        'Statistician', 'Structural engineer', 'Sub', 'Surgeon',\n",
       "        'Surveyor, building control', 'Surveyor, commercial/residential',\n",
       "        'Surveyor, hydrographic', 'Surveyor, insurance',\n",
       "        'Surveyor, minerals', 'Surveyor, mining',\n",
       "        'Surveyor, planning and development', 'Surveyor, quantity',\n",
       "        'Surveyor, rural practice', 'Systems analyst', 'Systems developer',\n",
       "        'TEFL teacher', 'Tax adviser',\n",
       "        'Teacher, English as a foreign language',\n",
       "        'Teacher, adult education', 'Teacher, early years/pre',\n",
       "        'Teacher, music', 'Teacher, primary school',\n",
       "        'Teacher, secondary school', 'Teacher, special educational needs',\n",
       "        'Teaching laboratory technician', 'Technical author',\n",
       "        'Technical sales engineer', 'Television floor manager',\n",
       "        'Television/film/video producer', 'Theatre director',\n",
       "        'Theatre stage manager', 'Therapist, art', 'Therapist, drama',\n",
       "        'Therapist, horticultural', 'Therapist, music',\n",
       "        'Therapist, nutritional', 'Therapist, occupational',\n",
       "        'Therapist, speech and language', 'Therapist, sports',\n",
       "        'Tour manager', 'Tourism officer',\n",
       "        'Tourist information centre manager', 'Town planner',\n",
       "        'Toxicologist', 'Trade mark attorney',\n",
       "        'Trade union research officer', 'Trading standards officer',\n",
       "        'Translator', 'Transport planner', 'Travel agency manager',\n",
       "        'Veterinary surgeon', 'Video editor', 'Visual merchandiser',\n",
       "        'Volunteer coordinator', 'Warden/ranger', 'Warehouse manager',\n",
       "        'Waste management officer', 'Water engineer',\n",
       "        'Water quality scientist', 'Wellsite geologist', 'Writer',\n",
       "        'Youth worker'], dtype=object),\n",
       " array(['30-45', '46-60', '61-75', '< 30', '> 75'], dtype=object)]"
      ]
     },
     "execution_count": 16,
     "metadata": {},
     "output_type": "execute_result"
    }
   ],
   "source": [
    "enc.categories_"
   ]
  },
  {
   "cell_type": "markdown",
   "id": "d66b2da6",
   "metadata": {},
   "source": [
    "**[5.5]** Geo-location features"
   ]
  },
  {
   "cell_type": "markdown",
   "id": "73d5c2e4",
   "metadata": {},
   "source": [
    "Getting the distance between the customer and the store."
   ]
  },
  {
   "cell_type": "code",
   "execution_count": 9,
   "id": "de6d124f",
   "metadata": {},
   "outputs": [],
   "source": [
    "from math import radians, sin, cos, sqrt"
   ]
  },
  {
   "cell_type": "code",
   "execution_count": 10,
   "id": "f47eef9e",
   "metadata": {},
   "outputs": [],
   "source": [
    "# Geo-location features: Distance of merchant from customer stored in variable dist_from_customer_km\n",
    " \n",
    "# Convert degrees to radians\n",
    "df_cleaned['merch_lat_rad'] = df_cleaned['merch_lat'].apply(radians)\n",
    "df_cleaned['merch_long_rad'] = df_cleaned['merch_long'].apply(radians)\n",
    "df_cleaned['customer_lat_rad'] = df_cleaned['lat'].apply(radians)\n",
    "df_cleaned['customer_long_rad'] = df_cleaned['long'].apply(radians)\n",
    " \n",
    "# Calculate the distance using the Haversine formula\n",
    "R = 6371  # Radius of the Earth in kilometers\n",
    "df_cleaned['dist_from_customer_km'] = df_cleaned.apply(lambda row: 2 * R * sqrt(\n",
    "    sin((row['customer_lat_rad'] - row['merch_lat_rad']) / 2) ** 2 +\n",
    "    cos(row['merch_lat_rad']) * cos(row['customer_lat_rad']) *\n",
    "    sin((row['customer_long_rad'] - row['merch_long_rad']) / 2) ** 2\n",
    "), axis=1)\n",
    " \n",
    "# dropping radians columns as it is not needed\n",
    "df_cleaned.drop(['merch_lat_rad','merch_long_rad', 'customer_lat_rad','customer_long_rad'], axis=1, inplace=True)"
   ]
  },
  {
   "cell_type": "markdown",
   "id": "b0d5f4c4",
   "metadata": {},
   "source": [
    "**[5.6]** Delete columns"
   ]
  },
  {
   "cell_type": "markdown",
   "id": "b37dd8e5",
   "metadata": {},
   "source": [
    "The column ID is not going to be used to train the model."
   ]
  },
  {
   "cell_type": "code",
   "execution_count": 62,
   "id": "01dd553b",
   "metadata": {},
   "outputs": [],
   "source": [
    "#df_cleaned.drop(df_cleaned.columns[2], axis=1, inplace=True)"
   ]
  },
  {
   "cell_type": "markdown",
   "id": "4093f428",
   "metadata": {},
   "source": [
    "**[5.7]** Saving the data:"
   ]
  },
  {
   "cell_type": "markdown",
   "id": "07003588",
   "metadata": {},
   "source": [
    "Saving the cleaning and feature extraction process."
   ]
  },
  {
   "cell_type": "code",
   "execution_count": 12,
   "id": "d61f3e2c",
   "metadata": {},
   "outputs": [],
   "source": [
    "df_cleaned.to_csv(\"df_cleaned.csv\", index=False)"
   ]
  },
  {
   "cell_type": "markdown",
   "id": "56e00f57",
   "metadata": {},
   "source": [
    "## 6. Split the data "
   ]
  },
  {
   "cell_type": "markdown",
   "id": "16ea1a90",
   "metadata": {},
   "source": [
    "**[6.1]** Reading clean data:"
   ]
  },
  {
   "cell_type": "code",
   "execution_count": 5,
   "id": "0616101e",
   "metadata": {},
   "outputs": [],
   "source": [
    "df_cleaned = pd.read_csv(\"df_cleaned.csv\")"
   ]
  },
  {
   "cell_type": "code",
   "execution_count": 6,
   "id": "ca56c252",
   "metadata": {},
   "outputs": [
    {
     "data": {
      "text/plain": [
       "(4260904, 113)"
      ]
     },
     "execution_count": 6,
     "metadata": {},
     "output_type": "execute_result"
    }
   ],
   "source": [
    "df_cleaned.shape"
   ]
  },
  {
   "cell_type": "code",
   "execution_count": 43,
   "id": "78a30114",
   "metadata": {},
   "outputs": [
    {
     "data": {
      "text/html": [
       "<div>\n",
       "<style scoped>\n",
       "    .dataframe tbody tr th:only-of-type {\n",
       "        vertical-align: middle;\n",
       "    }\n",
       "\n",
       "    .dataframe tbody tr th {\n",
       "        vertical-align: top;\n",
       "    }\n",
       "\n",
       "    .dataframe thead th {\n",
       "        text-align: right;\n",
       "    }\n",
       "</style>\n",
       "<table border=\"1\" class=\"dataframe\">\n",
       "  <thead>\n",
       "    <tr style=\"text-align: right;\">\n",
       "      <th></th>\n",
       "      <th>cc_num</th>\n",
       "      <th>acct_num</th>\n",
       "      <th>trans_num</th>\n",
       "      <th>category</th>\n",
       "      <th>amt</th>\n",
       "      <th>is_fraud</th>\n",
       "      <th>merchant</th>\n",
       "      <th>merch_lat</th>\n",
       "      <th>merch_long</th>\n",
       "      <th>timestamp</th>\n",
       "      <th>...</th>\n",
       "      <th>&gt; 75</th>\n",
       "      <th>category_oe</th>\n",
       "      <th>merchant_oe</th>\n",
       "      <th>gender_oe</th>\n",
       "      <th>city_oe</th>\n",
       "      <th>state_oe</th>\n",
       "      <th>zip_oe</th>\n",
       "      <th>job_oe</th>\n",
       "      <th>age_bin_oe</th>\n",
       "      <th>dist_from_customer_km</th>\n",
       "    </tr>\n",
       "  </thead>\n",
       "  <tbody>\n",
       "    <tr>\n",
       "      <th>0</th>\n",
       "      <td>4218196001337</td>\n",
       "      <td>888022315787</td>\n",
       "      <td>91ab12e73ef38206e1121e9648d2408d</td>\n",
       "      <td>gas_transport</td>\n",
       "      <td>69.12</td>\n",
       "      <td>0</td>\n",
       "      <td>Phillips Group</td>\n",
       "      <td>39.491416</td>\n",
       "      <td>-75.588522</td>\n",
       "      <td>2019-05-24 17:39:10</td>\n",
       "      <td>...</td>\n",
       "      <td>0</td>\n",
       "      <td>2.0</td>\n",
       "      <td>15205.0</td>\n",
       "      <td>1.0</td>\n",
       "      <td>14.0</td>\n",
       "      <td>38.0</td>\n",
       "      <td>159.0</td>\n",
       "      <td>5.0</td>\n",
       "      <td>2.0</td>\n",
       "      <td>83.015683</td>\n",
       "    </tr>\n",
       "    <tr>\n",
       "      <th>1</th>\n",
       "      <td>4218196001337</td>\n",
       "      <td>888022315787</td>\n",
       "      <td>071553d533a6822a4431c354c434ddcb</td>\n",
       "      <td>grocery_pos</td>\n",
       "      <td>68.11</td>\n",
       "      <td>0</td>\n",
       "      <td>Tucker Ltd</td>\n",
       "      <td>40.890319</td>\n",
       "      <td>-75.573359</td>\n",
       "      <td>2019-09-25 15:31:59</td>\n",
       "      <td>...</td>\n",
       "      <td>0</td>\n",
       "      <td>4.0</td>\n",
       "      <td>19705.0</td>\n",
       "      <td>1.0</td>\n",
       "      <td>14.0</td>\n",
       "      <td>38.0</td>\n",
       "      <td>159.0</td>\n",
       "      <td>5.0</td>\n",
       "      <td>2.0</td>\n",
       "      <td>84.478296</td>\n",
       "    </tr>\n",
       "    <tr>\n",
       "      <th>2</th>\n",
       "      <td>4218196001337</td>\n",
       "      <td>888022315787</td>\n",
       "      <td>0cfad38ef15e4749eff68dc83f62c151</td>\n",
       "      <td>misc_net</td>\n",
       "      <td>40.35</td>\n",
       "      <td>0</td>\n",
       "      <td>Dixon PLC</td>\n",
       "      <td>39.244958</td>\n",
       "      <td>-74.475327</td>\n",
       "      <td>2019-12-24 16:40:01</td>\n",
       "      <td>...</td>\n",
       "      <td>0</td>\n",
       "      <td>8.0</td>\n",
       "      <td>4778.0</td>\n",
       "      <td>1.0</td>\n",
       "      <td>14.0</td>\n",
       "      <td>38.0</td>\n",
       "      <td>159.0</td>\n",
       "      <td>5.0</td>\n",
       "      <td>2.0</td>\n",
       "      <td>121.818619</td>\n",
       "    </tr>\n",
       "    <tr>\n",
       "      <th>3</th>\n",
       "      <td>4218196001337</td>\n",
       "      <td>888022315787</td>\n",
       "      <td>5782693d7c70f062f258cb30bfa8900f</td>\n",
       "      <td>grocery_pos</td>\n",
       "      <td>96.22</td>\n",
       "      <td>0</td>\n",
       "      <td>Lambert-Cooper</td>\n",
       "      <td>39.656925</td>\n",
       "      <td>-75.802342</td>\n",
       "      <td>2019-10-18 19:50:38</td>\n",
       "      <td>...</td>\n",
       "      <td>0</td>\n",
       "      <td>4.0</td>\n",
       "      <td>10615.0</td>\n",
       "      <td>1.0</td>\n",
       "      <td>14.0</td>\n",
       "      <td>38.0</td>\n",
       "      <td>159.0</td>\n",
       "      <td>5.0</td>\n",
       "      <td>2.0</td>\n",
       "      <td>76.800389</td>\n",
       "    </tr>\n",
       "    <tr>\n",
       "      <th>4</th>\n",
       "      <td>4218196001337</td>\n",
       "      <td>888022315787</td>\n",
       "      <td>35fd7db657d7e30dd608c37f7798186e</td>\n",
       "      <td>gas_transport</td>\n",
       "      <td>71.89</td>\n",
       "      <td>0</td>\n",
       "      <td>Griffith LLC</td>\n",
       "      <td>40.313342</td>\n",
       "      <td>-74.220434</td>\n",
       "      <td>2019-02-10 23:13:20</td>\n",
       "      <td>...</td>\n",
       "      <td>0</td>\n",
       "      <td>2.0</td>\n",
       "      <td>7171.0</td>\n",
       "      <td>1.0</td>\n",
       "      <td>14.0</td>\n",
       "      <td>38.0</td>\n",
       "      <td>159.0</td>\n",
       "      <td>5.0</td>\n",
       "      <td>2.0</td>\n",
       "      <td>85.734079</td>\n",
       "    </tr>\n",
       "    <tr>\n",
       "      <th>...</th>\n",
       "      <td>...</td>\n",
       "      <td>...</td>\n",
       "      <td>...</td>\n",
       "      <td>...</td>\n",
       "      <td>...</td>\n",
       "      <td>...</td>\n",
       "      <td>...</td>\n",
       "      <td>...</td>\n",
       "      <td>...</td>\n",
       "      <td>...</td>\n",
       "      <td>...</td>\n",
       "      <td>...</td>\n",
       "      <td>...</td>\n",
       "      <td>...</td>\n",
       "      <td>...</td>\n",
       "      <td>...</td>\n",
       "      <td>...</td>\n",
       "      <td>...</td>\n",
       "      <td>...</td>\n",
       "      <td>...</td>\n",
       "      <td>...</td>\n",
       "    </tr>\n",
       "    <tr>\n",
       "      <th>4260899</th>\n",
       "      <td>2704390552958068</td>\n",
       "      <td>756767582811</td>\n",
       "      <td>1f091e64bd3f2382b3a4f90889329c32</td>\n",
       "      <td>health_fitness</td>\n",
       "      <td>8.21</td>\n",
       "      <td>0</td>\n",
       "      <td>Anderson-King</td>\n",
       "      <td>33.831954</td>\n",
       "      <td>-116.587500</td>\n",
       "      <td>2022-09-06 02:24:36</td>\n",
       "      <td>...</td>\n",
       "      <td>0</td>\n",
       "      <td>5.0</td>\n",
       "      <td>456.0</td>\n",
       "      <td>0.0</td>\n",
       "      <td>651.0</td>\n",
       "      <td>4.0</td>\n",
       "      <td>840.0</td>\n",
       "      <td>491.0</td>\n",
       "      <td>2.0</td>\n",
       "      <td>59.910840</td>\n",
       "    </tr>\n",
       "    <tr>\n",
       "      <th>4260900</th>\n",
       "      <td>2704390552958068</td>\n",
       "      <td>756767582811</td>\n",
       "      <td>971aa63530f8f8fb1de28472e6aa53bc</td>\n",
       "      <td>home</td>\n",
       "      <td>4.79</td>\n",
       "      <td>0</td>\n",
       "      <td>Vang, Higgins and Decker</td>\n",
       "      <td>33.591525</td>\n",
       "      <td>-117.962834</td>\n",
       "      <td>2022-10-15 09:34:44</td>\n",
       "      <td>...</td>\n",
       "      <td>0</td>\n",
       "      <td>6.0</td>\n",
       "      <td>19896.0</td>\n",
       "      <td>0.0</td>\n",
       "      <td>651.0</td>\n",
       "      <td>4.0</td>\n",
       "      <td>840.0</td>\n",
       "      <td>491.0</td>\n",
       "      <td>2.0</td>\n",
       "      <td>81.018112</td>\n",
       "    </tr>\n",
       "    <tr>\n",
       "      <th>4260901</th>\n",
       "      <td>2704390552958068</td>\n",
       "      <td>756767582811</td>\n",
       "      <td>555941e364d1f591a6ae4088557f8ed3</td>\n",
       "      <td>health_fitness</td>\n",
       "      <td>1.99</td>\n",
       "      <td>0</td>\n",
       "      <td>Ibarra LLC</td>\n",
       "      <td>34.370334</td>\n",
       "      <td>-117.628700</td>\n",
       "      <td>2022-09-04 12:00:53</td>\n",
       "      <td>...</td>\n",
       "      <td>0</td>\n",
       "      <td>5.0</td>\n",
       "      <td>9098.0</td>\n",
       "      <td>0.0</td>\n",
       "      <td>651.0</td>\n",
       "      <td>4.0</td>\n",
       "      <td>840.0</td>\n",
       "      <td>491.0</td>\n",
       "      <td>2.0</td>\n",
       "      <td>108.715122</td>\n",
       "    </tr>\n",
       "    <tr>\n",
       "      <th>4260902</th>\n",
       "      <td>2704390552958068</td>\n",
       "      <td>756767582811</td>\n",
       "      <td>b756330bb5da439e28412f40e7a5f9e3</td>\n",
       "      <td>personal_care</td>\n",
       "      <td>6.64</td>\n",
       "      <td>0</td>\n",
       "      <td>Casey, Gonzales and Mueller</td>\n",
       "      <td>33.690374</td>\n",
       "      <td>-117.301976</td>\n",
       "      <td>2022-12-09 04:53:44</td>\n",
       "      <td>...</td>\n",
       "      <td>0</td>\n",
       "      <td>10.0</td>\n",
       "      <td>3060.0</td>\n",
       "      <td>0.0</td>\n",
       "      <td>651.0</td>\n",
       "      <td>4.0</td>\n",
       "      <td>840.0</td>\n",
       "      <td>491.0</td>\n",
       "      <td>2.0</td>\n",
       "      <td>28.650067</td>\n",
       "    </tr>\n",
       "    <tr>\n",
       "      <th>4260903</th>\n",
       "      <td>2704390552958068</td>\n",
       "      <td>756767582811</td>\n",
       "      <td>d8b2caf59c06c36fea6980964f0a1fd6</td>\n",
       "      <td>travel</td>\n",
       "      <td>12.74</td>\n",
       "      <td>0</td>\n",
       "      <td>Cruz-Johnson</td>\n",
       "      <td>34.012253</td>\n",
       "      <td>-116.333944</td>\n",
       "      <td>2022-12-24 04:33:01</td>\n",
       "      <td>...</td>\n",
       "      <td>0</td>\n",
       "      <td>13.0</td>\n",
       "      <td>4160.0</td>\n",
       "      <td>0.0</td>\n",
       "      <td>651.0</td>\n",
       "      <td>4.0</td>\n",
       "      <td>840.0</td>\n",
       "      <td>491.0</td>\n",
       "      <td>2.0</td>\n",
       "      <td>90.700622</td>\n",
       "    </tr>\n",
       "  </tbody>\n",
       "</table>\n",
       "<p>4260904 rows × 114 columns</p>\n",
       "</div>"
      ],
      "text/plain": [
       "                   cc_num      acct_num                         trans_num  \\\n",
       "0           4218196001337  888022315787  91ab12e73ef38206e1121e9648d2408d   \n",
       "1           4218196001337  888022315787  071553d533a6822a4431c354c434ddcb   \n",
       "2           4218196001337  888022315787  0cfad38ef15e4749eff68dc83f62c151   \n",
       "3           4218196001337  888022315787  5782693d7c70f062f258cb30bfa8900f   \n",
       "4           4218196001337  888022315787  35fd7db657d7e30dd608c37f7798186e   \n",
       "...                   ...           ...                               ...   \n",
       "4260899  2704390552958068  756767582811  1f091e64bd3f2382b3a4f90889329c32   \n",
       "4260900  2704390552958068  756767582811  971aa63530f8f8fb1de28472e6aa53bc   \n",
       "4260901  2704390552958068  756767582811  555941e364d1f591a6ae4088557f8ed3   \n",
       "4260902  2704390552958068  756767582811  b756330bb5da439e28412f40e7a5f9e3   \n",
       "4260903  2704390552958068  756767582811  d8b2caf59c06c36fea6980964f0a1fd6   \n",
       "\n",
       "               category    amt  is_fraud                     merchant  \\\n",
       "0         gas_transport  69.12         0               Phillips Group   \n",
       "1           grocery_pos  68.11         0                   Tucker Ltd   \n",
       "2              misc_net  40.35         0                    Dixon PLC   \n",
       "3           grocery_pos  96.22         0               Lambert-Cooper   \n",
       "4         gas_transport  71.89         0                 Griffith LLC   \n",
       "...                 ...    ...       ...                          ...   \n",
       "4260899  health_fitness   8.21         0                Anderson-King   \n",
       "4260900            home   4.79         0     Vang, Higgins and Decker   \n",
       "4260901  health_fitness   1.99         0                   Ibarra LLC   \n",
       "4260902   personal_care   6.64         0  Casey, Gonzales and Mueller   \n",
       "4260903          travel  12.74         0                 Cruz-Johnson   \n",
       "\n",
       "         merch_lat  merch_long            timestamp  ... > 75 category_oe  \\\n",
       "0        39.491416  -75.588522  2019-05-24 17:39:10  ...    0         2.0   \n",
       "1        40.890319  -75.573359  2019-09-25 15:31:59  ...    0         4.0   \n",
       "2        39.244958  -74.475327  2019-12-24 16:40:01  ...    0         8.0   \n",
       "3        39.656925  -75.802342  2019-10-18 19:50:38  ...    0         4.0   \n",
       "4        40.313342  -74.220434  2019-02-10 23:13:20  ...    0         2.0   \n",
       "...            ...         ...                  ...  ...  ...         ...   \n",
       "4260899  33.831954 -116.587500  2022-09-06 02:24:36  ...    0         5.0   \n",
       "4260900  33.591525 -117.962834  2022-10-15 09:34:44  ...    0         6.0   \n",
       "4260901  34.370334 -117.628700  2022-09-04 12:00:53  ...    0         5.0   \n",
       "4260902  33.690374 -117.301976  2022-12-09 04:53:44  ...    0        10.0   \n",
       "4260903  34.012253 -116.333944  2022-12-24 04:33:01  ...    0        13.0   \n",
       "\n",
       "        merchant_oe  gender_oe  city_oe  state_oe  zip_oe job_oe  age_bin_oe  \\\n",
       "0           15205.0        1.0     14.0      38.0   159.0    5.0         2.0   \n",
       "1           19705.0        1.0     14.0      38.0   159.0    5.0         2.0   \n",
       "2            4778.0        1.0     14.0      38.0   159.0    5.0         2.0   \n",
       "3           10615.0        1.0     14.0      38.0   159.0    5.0         2.0   \n",
       "4            7171.0        1.0     14.0      38.0   159.0    5.0         2.0   \n",
       "...             ...        ...      ...       ...     ...    ...         ...   \n",
       "4260899       456.0        0.0    651.0       4.0   840.0  491.0         2.0   \n",
       "4260900     19896.0        0.0    651.0       4.0   840.0  491.0         2.0   \n",
       "4260901      9098.0        0.0    651.0       4.0   840.0  491.0         2.0   \n",
       "4260902      3060.0        0.0    651.0       4.0   840.0  491.0         2.0   \n",
       "4260903      4160.0        0.0    651.0       4.0   840.0  491.0         2.0   \n",
       "\n",
       "         dist_from_customer_km  \n",
       "0                    83.015683  \n",
       "1                    84.478296  \n",
       "2                   121.818619  \n",
       "3                    76.800389  \n",
       "4                    85.734079  \n",
       "...                        ...  \n",
       "4260899              59.910840  \n",
       "4260900              81.018112  \n",
       "4260901             108.715122  \n",
       "4260902              28.650067  \n",
       "4260903              90.700622  \n",
       "\n",
       "[4260904 rows x 114 columns]"
      ]
     },
     "execution_count": 43,
     "metadata": {},
     "output_type": "execute_result"
    }
   ],
   "source": [
    "df_cleaned"
   ]
  },
  {
   "cell_type": "markdown",
   "id": "38ee83ed",
   "metadata": {},
   "source": [
    "**[6.2]** Split data"
   ]
  },
  {
   "cell_type": "markdown",
   "id": "b5c4a405",
   "metadata": {},
   "source": [
    "Stratify=y will be used to distribute the data for train, valid and test proportionally, preserving the distribution of the two classes (Brownlee, 2020a), (Brownlee, 2020d)."
   ]
  },
  {
   "cell_type": "code",
   "execution_count": 44,
   "id": "9f3a3fd2",
   "metadata": {},
   "outputs": [],
   "source": [
    "from sklearn.model_selection import train_test_split"
   ]
  },
  {
   "cell_type": "code",
   "execution_count": 45,
   "id": "31cc59c6",
   "metadata": {
    "scrolled": true
   },
   "outputs": [
    {
     "name": "stdout",
     "output_type": "stream",
     "text": [
      "['cc_num', 'acct_num', 'trans_num', 'category', 'amt', 'is_fraud', 'merchant', 'merch_lat', 'merch_long', 'timestamp', 'gender', 'city', 'state', 'zip', 'lat', 'long', 'city_pop', 'job', 'age', 'entertainment', 'food_dining', 'gas_transport', 'grocery_net', 'grocery_pos', 'health_fitness', 'home', 'kids_pets', 'misc_net', 'misc_pos', 'personal_care', 'shopping_net', 'shopping_pos', 'travel', 'F', 'M', 'city_fraud_percentage', 'AK', 'AL', 'AR', 'AZ', 'CA', 'CO', 'CT', 'DC', 'DE', 'FL', 'GA', 'HI', 'IA', 'ID', 'IL', 'IN', 'KS', 'KY', 'LA', 'MA', 'MD', 'ME', 'MI', 'MN', 'MO', 'MS', 'MT', 'NC', 'ND', 'NE', 'NH', 'NJ', 'NM', 'NV', 'NY', 'OH', 'OK', 'OR', 'PA', 'RI', 'SC', 'SD', 'TN', 'TX', 'UT', 'VA', 'VT', 'WA', 'WI', 'WV', 'WY', 'Job_fraud_percentage', 'zip_fraud_percentage', 'year', 'month', 'weekday', 'hour', 'category_type', 'net', 'other', 'pos', 'lat_2', 'long_2', 'age_bin', '30-45', '46-60', '61-75', '< 30', '> 75', 'category_oe', 'merchant_oe', 'gender_oe', 'city_oe', 'state_oe', 'zip_oe', 'job_oe', 'age_bin_oe', 'dist_from_customer_km']\n"
     ]
    }
   ],
   "source": [
    "print(df_cleaned.columns.tolist())"
   ]
  },
  {
   "cell_type": "code",
   "execution_count": 46,
   "id": "db54bc3c",
   "metadata": {},
   "outputs": [],
   "source": [
    "X = df_cleaned[['cc_num', 'acct_num', 'amt',\n",
    "                'city_pop', 'entertainment', 'food_dining', 'gas_transport',\n",
    "                'grocery_net', 'grocery_pos', 'health_fitness', 'home', 'kids_pets', 'misc_net',\n",
    "                'misc_pos', 'personal_care', 'shopping_net', 'shopping_pos', 'travel', 'F', 'M',\n",
    "                'city_fraud_percentage', 'Job_fraud_percentage',\n",
    "                'zip_fraud_percentage', 'month', 'weekday', 'hour', 'net', 'other', 'pos',\n",
    "                'merchant_oe', 'city_oe', 'state_oe', 'zip_oe', 'job_oe', 'age_bin_oe', \n",
    "                'dist_from_customer_km']].values\n",
    "y = df_cleaned['is_fraud'].values"
   ]
  },
  {
   "cell_type": "code",
   "execution_count": 47,
   "id": "8bb60813",
   "metadata": {},
   "outputs": [],
   "source": [
    "X_data, X_test, y_data, y_test = train_test_split(X, y, test_size=0.2, random_state=42, stratify=y)"
   ]
  },
  {
   "cell_type": "code",
   "execution_count": 48,
   "id": "3c90aea8",
   "metadata": {},
   "outputs": [
    {
     "data": {
      "text/plain": [
       "(3408723, 36)"
      ]
     },
     "execution_count": 48,
     "metadata": {},
     "output_type": "execute_result"
    }
   ],
   "source": [
    "X_data.shape"
   ]
  },
  {
   "cell_type": "code",
   "execution_count": 49,
   "id": "a7755585",
   "metadata": {},
   "outputs": [
    {
     "data": {
      "text/plain": [
       "(3408723,)"
      ]
     },
     "execution_count": 49,
     "metadata": {},
     "output_type": "execute_result"
    }
   ],
   "source": [
    "y_data.shape"
   ]
  },
  {
   "cell_type": "code",
   "execution_count": 50,
   "id": "a75e422a",
   "metadata": {},
   "outputs": [
    {
     "data": {
      "text/plain": [
       "(852181, 36)"
      ]
     },
     "execution_count": 50,
     "metadata": {},
     "output_type": "execute_result"
    }
   ],
   "source": [
    "X_test.shape"
   ]
  },
  {
   "cell_type": "code",
   "execution_count": 51,
   "id": "91067afe",
   "metadata": {},
   "outputs": [
    {
     "data": {
      "text/plain": [
       "(852181,)"
      ]
     },
     "execution_count": 51,
     "metadata": {},
     "output_type": "execute_result"
    }
   ],
   "source": [
    "y_test.shape"
   ]
  },
  {
   "cell_type": "markdown",
   "id": "8c2162ff",
   "metadata": {},
   "source": [
    "**[6.3]** Split train and validation"
   ]
  },
  {
   "cell_type": "code",
   "execution_count": 52,
   "id": "b7ada005",
   "metadata": {},
   "outputs": [],
   "source": [
    "X_train, X_val, y_train, y_val = train_test_split(X_data, y_data, test_size=0.2, random_state=42)"
   ]
  },
  {
   "cell_type": "code",
   "execution_count": 53,
   "id": "a374003a",
   "metadata": {},
   "outputs": [
    {
     "name": "stdout",
     "output_type": "stream",
     "text": [
      "(2726978, 36)\n",
      "(681745, 36)\n",
      "(852181, 36)\n",
      "(2726978,)\n",
      "(681745,)\n",
      "(852181,)\n"
     ]
    }
   ],
   "source": [
    "print(X_train.shape)\n",
    "print(X_val.shape)\n",
    "print(X_test.shape)\n",
    "\n",
    "print(y_train.shape)\n",
    "print(y_val.shape)\n",
    "print(y_test.shape)"
   ]
  },
  {
   "cell_type": "markdown",
   "id": "8ae3b07b",
   "metadata": {},
   "source": [
    "**[6.4]** Count classes"
   ]
  },
  {
   "cell_type": "code",
   "execution_count": 54,
   "id": "ad259e35",
   "metadata": {},
   "outputs": [
    {
     "data": {
      "text/plain": [
       "(array([0, 1], dtype=int64), array([2723705,    3273], dtype=int64))"
      ]
     },
     "execution_count": 54,
     "metadata": {},
     "output_type": "execute_result"
    }
   ],
   "source": [
    "np.unique(y_train, return_counts=True)"
   ]
  },
  {
   "cell_type": "code",
   "execution_count": 55,
   "id": "0ed9d274",
   "metadata": {},
   "outputs": [
    {
     "data": {
      "text/plain": [
       "(array([0, 1], dtype=int64), array([680991,    754], dtype=int64))"
      ]
     },
     "execution_count": 55,
     "metadata": {},
     "output_type": "execute_result"
    }
   ],
   "source": [
    "np.unique(y_val, return_counts=True)"
   ]
  },
  {
   "cell_type": "code",
   "execution_count": 56,
   "id": "bb59326f",
   "metadata": {},
   "outputs": [
    {
     "data": {
      "text/plain": [
       "(array([0, 1], dtype=int64), array([851174,   1007], dtype=int64))"
      ]
     },
     "execution_count": 56,
     "metadata": {},
     "output_type": "execute_result"
    }
   ],
   "source": [
    "np.unique(y_test, return_counts=True)"
   ]
  },
  {
   "cell_type": "markdown",
   "id": "e6a97261",
   "metadata": {},
   "source": [
    "The count per label indicates that we are preserving the class distribution with 0.12% values class 1 over class 0."
   ]
  },
  {
   "cell_type": "markdown",
   "id": "45ac9307",
   "metadata": {},
   "source": [
    "## 7. Assess Baseline Model"
   ]
  },
  {
   "cell_type": "markdown",
   "id": "7c877ba8",
   "metadata": {},
   "source": [
    "This study will use F2 score. The reason behind the metric selection is based on the highly imbalanced dataset and the fact that we care more about positive class for the purpose of the prediction (Czakon, 2022) (Malato, 2021), (Olugbenga, 2022) and (H2O Driverless, 2023). \n",
    "\n",
    "We want the prediction of fraud to be as correct as possible and avoid false negative predictions (type II error) where the company can lose potential frauds. Moreover, we will prevent excessive type I error by predicting false potential frauds.\n",
    "\n",
    "This phenomenon could occur easily in this dataset due to the unbalanced classes in the study. (Brownlee, 2020a)(Brownlee, 2020b)\n"
   ]
  },
  {
   "cell_type": "markdown",
   "id": "ce5b0bba",
   "metadata": {},
   "source": [
    "**[7.1]** base model"
   ]
  },
  {
   "cell_type": "code",
   "execution_count": 268,
   "id": "394d9558",
   "metadata": {},
   "outputs": [],
   "source": [
    "from statistics import mode"
   ]
  },
  {
   "cell_type": "code",
   "execution_count": 269,
   "id": "871c57b8",
   "metadata": {},
   "outputs": [
    {
     "data": {
      "text/plain": [
       "0"
      ]
     },
     "execution_count": 269,
     "metadata": {},
     "output_type": "execute_result"
    }
   ],
   "source": [
    "y_mode = mode(y_train)\n",
    "y_mode"
   ]
  },
  {
   "cell_type": "code",
   "execution_count": 270,
   "id": "082bb816",
   "metadata": {},
   "outputs": [
    {
     "data": {
      "text/plain": [
       "(2726978,)"
      ]
     },
     "execution_count": 270,
     "metadata": {},
     "output_type": "execute_result"
    }
   ],
   "source": [
    "y_train.shape"
   ]
  },
  {
   "cell_type": "code",
   "execution_count": 271,
   "id": "f6d2acc9",
   "metadata": {},
   "outputs": [],
   "source": [
    "y_base = np.full(y_train.shape, y_mode)"
   ]
  },
  {
   "cell_type": "code",
   "execution_count": 272,
   "id": "800fd0ab",
   "metadata": {},
   "outputs": [
    {
     "data": {
      "text/plain": [
       "array([0, 0, 0, ..., 0, 0, 0], dtype=int64)"
      ]
     },
     "execution_count": 272,
     "metadata": {},
     "output_type": "execute_result"
    }
   ],
   "source": [
    "y_base"
   ]
  },
  {
   "cell_type": "code",
   "execution_count": 273,
   "id": "b6c4e24c",
   "metadata": {},
   "outputs": [
    {
     "data": {
      "text/plain": [
       "(2726978,)"
      ]
     },
     "execution_count": 273,
     "metadata": {},
     "output_type": "execute_result"
    }
   ],
   "source": [
    "y_base.shape"
   ]
  },
  {
   "cell_type": "code",
   "execution_count": 274,
   "id": "10150f2f",
   "metadata": {},
   "outputs": [],
   "source": [
    "from sklearn.metrics import accuracy_score, precision_score, recall_score, f1_score, average_precision_score, fbeta_score\n",
    "from sklearn.metrics import auc, precision_recall_curve"
   ]
  },
  {
   "cell_type": "code",
   "execution_count": 275,
   "id": "8b4ec535",
   "metadata": {},
   "outputs": [
    {
     "name": "stdout",
     "output_type": "stream",
     "text": [
      "0.9987997702951765\n",
      "0.9982000157968547\n",
      "0.0\n",
      "0.0\n",
      "0.0012002297048234346\n",
      "0.0\n"
     ]
    }
   ],
   "source": [
    "print(accuracy_score(y_train, y_base))\n",
    "print(f1_score(y_train, y_base, average='weighted'))\n",
    "print(precision_score(y_train, y_base))\n",
    "print(recall_score(y_train, y_base))\n",
    "print(average_precision_score(y_train, y_base))\n",
    "print(fbeta_score(y_train, y_base, beta=2, pos_label=1, average='binary'))"
   ]
  },
  {
   "cell_type": "markdown",
   "id": "338c19d3",
   "metadata": {},
   "source": [
    "**[7.2]** confusion matrix"
   ]
  },
  {
   "cell_type": "code",
   "execution_count": 276,
   "id": "08bb18a2",
   "metadata": {},
   "outputs": [],
   "source": [
    "from sklearn.metrics import confusion_matrix"
   ]
  },
  {
   "cell_type": "code",
   "execution_count": 277,
   "id": "7b68bbb3",
   "metadata": {},
   "outputs": [
    {
     "name": "stdout",
     "output_type": "stream",
     "text": [
      "[[2723705       0]\n",
      " [   3273       0]]\n"
     ]
    }
   ],
   "source": [
    "results = confusion_matrix(y_train, y_base)\n",
    "print(results)"
   ]
  },
  {
   "cell_type": "markdown",
   "id": "9b37b147",
   "metadata": {},
   "source": [
    "**[7.3]** Count classes"
   ]
  },
  {
   "cell_type": "code",
   "execution_count": 278,
   "id": "3dcee03d",
   "metadata": {},
   "outputs": [
    {
     "data": {
      "text/plain": [
       "(array([0, 1], dtype=int64), array([2723705,    3273], dtype=int64))"
      ]
     },
     "execution_count": 278,
     "metadata": {},
     "output_type": "execute_result"
    }
   ],
   "source": [
    "np.unique(y_train, return_counts=True)"
   ]
  },
  {
   "cell_type": "markdown",
   "id": "258d045f",
   "metadata": {},
   "source": [
    "## 8. Training a model"
   ]
  },
  {
   "cell_type": "markdown",
   "id": "83e07af9",
   "metadata": {},
   "source": [
    "Based on: (So, 2023), (scikit-learn developers, 2023a), (scikit-learn developers, 2023b), (scikit-learn developers, 2023c)."
   ]
  },
  {
   "cell_type": "markdown",
   "id": "c61638cb",
   "metadata": {},
   "source": [
    "Note: We will not use data standardisation since algorithms based on decision trees are invariant according to the scale of the data and do not use distance metrics for the learning process (Filho, 2023)."
   ]
  },
  {
   "cell_type": "markdown",
   "id": "a8296ee8",
   "metadata": {},
   "source": [
    "**[8.1]** Decision Tree Classifier"
   ]
  },
  {
   "cell_type": "code",
   "execution_count": 21,
   "id": "976f16b2",
   "metadata": {},
   "outputs": [],
   "source": [
    "from sklearn.tree import DecisionTreeClassifier\n",
    "from sklearn.metrics import accuracy_score, precision_score, recall_score, f1_score, average_precision_score, fbeta_score\n",
    "from sklearn.metrics import auc, precision_recall_curve"
   ]
  },
  {
   "cell_type": "code",
   "execution_count": 259,
   "id": "625f9bde",
   "metadata": {},
   "outputs": [],
   "source": [
    "tree_default = DecisionTreeClassifier(random_state=42, class_weight='balanced')"
   ]
  },
  {
   "cell_type": "code",
   "execution_count": 260,
   "id": "d4fde5fd",
   "metadata": {},
   "outputs": [
    {
     "data": {
      "text/plain": [
       "DecisionTreeClassifier(class_weight='balanced', random_state=42)"
      ]
     },
     "execution_count": 260,
     "metadata": {},
     "output_type": "execute_result"
    }
   ],
   "source": [
    "tree_default.fit(X_train, y_train)"
   ]
  },
  {
   "cell_type": "code",
   "execution_count": 261,
   "id": "f7882190",
   "metadata": {},
   "outputs": [],
   "source": [
    "y_train_preds = tree_default.predict(X_train)"
   ]
  },
  {
   "cell_type": "code",
   "execution_count": 263,
   "id": "fffd5bbf",
   "metadata": {},
   "outputs": [
    {
     "name": "stdout",
     "output_type": "stream",
     "text": [
      "1.0\n",
      "1.0\n",
      "1.0\n",
      "1.0\n",
      "1.0\n",
      "1.0\n"
     ]
    }
   ],
   "source": [
    "#score for the train set\n",
    "print(accuracy_score(y_train, y_train_preds))\n",
    "print(f1_score(y_train, y_train_preds, average='weighted'))\n",
    "print(precision_score(y_train, y_train_preds))\n",
    "print(recall_score(y_train, y_train_preds))\n",
    "print(average_precision_score(y_train, y_train_preds))\n",
    "print(fbeta_score(y_train, y_train_preds, beta=2, pos_label=1, average='binary'))"
   ]
  },
  {
   "cell_type": "code",
   "execution_count": 264,
   "id": "e399cfc0",
   "metadata": {},
   "outputs": [
    {
     "name": "stdout",
     "output_type": "stream",
     "text": [
      "[[2723705       0]\n",
      " [      0    3273]]\n"
     ]
    }
   ],
   "source": [
    "#confusion matrix\n",
    "results = confusion_matrix(y_train, y_train_preds)\n",
    "print(results)"
   ]
  },
  {
   "cell_type": "code",
   "execution_count": 265,
   "id": "2d2a8d3b",
   "metadata": {},
   "outputs": [
    {
     "name": "stdout",
     "output_type": "stream",
     "text": [
      "0.998792803760937\n",
      "0.9987971699059156\n",
      "0.4549019607843137\n",
      "0.46153846153846156\n",
      "0.2105502817181714\n",
      "0.4601957154192013\n"
     ]
    }
   ],
   "source": [
    "#score for the validation set\n",
    "y_val_preds = tree_default.predict(X_val)\n",
    "print(accuracy_score(y_val, y_val_preds))\n",
    "print(f1_score(y_val, y_val_preds, average='weighted'))\n",
    "print(precision_score(y_val, y_val_preds))\n",
    "print(recall_score(y_val, y_val_preds))\n",
    "print(average_precision_score(y_val, y_val_preds))\n",
    "print(fbeta_score(y_val, y_val_preds, beta=2, pos_label=1, average='binary'))"
   ]
  },
  {
   "cell_type": "code",
   "execution_count": 266,
   "id": "bf5d5ccc",
   "metadata": {},
   "outputs": [
    {
     "name": "stdout",
     "output_type": "stream",
     "text": [
      "0.9987573062530143\n",
      "0.9987286115296864\n",
      "0.47167755991285404\n",
      "0.4299900695134062\n",
      "0.20349023260182\n",
      "0.4377274565305298\n"
     ]
    }
   ],
   "source": [
    "#score for the test set\n",
    "y_test_preds = tree_default.predict(X_test)\n",
    "print(accuracy_score(y_test, y_test_preds))\n",
    "print(f1_score(y_test, y_test_preds, average='weighted'))\n",
    "print(precision_score(y_test, y_test_preds))\n",
    "print(recall_score(y_test, y_test_preds))\n",
    "print(average_precision_score(y_test, y_test_preds))\n",
    "print(fbeta_score(y_test, y_test_preds, beta=2, pos_label=1, average='binary'))"
   ]
  },
  {
   "cell_type": "markdown",
   "id": "9dfa5b64",
   "metadata": {},
   "source": [
    "**[8.2]** Decision Tree Classifier with different min_samples_split"
   ]
  },
  {
   "cell_type": "code",
   "execution_count": 267,
   "id": "677696e2",
   "metadata": {
    "scrolled": true
   },
   "outputs": [],
   "source": [
    "min_samples_split_values = [i for i in (2, 3, 5, 10, 20)]\n",
    "scores = []\n",
    "\n",
    "for m in min_samples_split_values:\n",
    "    tree = DecisionTreeClassifier(random_state=42,  min_samples_split= m, class_weight='balanced')\n",
    "    tree.fit(X_train, y_train)\n",
    "    y_train_preds = tree.predict(X_train)\n",
    "    score = fbeta_score(y_train, y_train_preds, beta=2, pos_label=1, average='binary')\n",
    "    scores.append(score)"
   ]
  },
  {
   "cell_type": "code",
   "execution_count": 268,
   "id": "3a8100e1",
   "metadata": {
    "scrolled": false
   },
   "outputs": [
    {
     "data": {
      "text/plain": [
       "Text(0, 0.5, 'average_precision Score')"
      ]
     },
     "execution_count": 268,
     "metadata": {},
     "output_type": "execute_result"
    },
    {
     "data": {
      "image/png": "[encoded data removed]",
      "text/plain": [
       "<Figure size 640x480 with 1 Axes>"
      ]
     },
     "metadata": {},
     "output_type": "display_data"
    }
   ],
   "source": [
    "sns.lineplot(x = min_samples_split_values, y = scores, marker = 'o')\n",
    "plt.xlabel(\"min_samples_split Values\")\n",
    "plt.ylabel(\"average_precision Score\")"
   ]
  },
  {
   "cell_type": "code",
   "execution_count": 269,
   "id": "5981a45f",
   "metadata": {
    "scrolled": true
   },
   "outputs": [
    {
     "data": {
      "text/plain": [
       "[1.0,\n",
       " 0.9933232169954477,\n",
       " 0.9702952685876912,\n",
       " 0.904393478861564,\n",
       " 0.8066742248730714]"
      ]
     },
     "execution_count": 269,
     "metadata": {},
     "output_type": "execute_result"
    }
   ],
   "source": [
    "scores"
   ]
  },
  {
   "cell_type": "code",
   "execution_count": 270,
   "id": "f1350ea8",
   "metadata": {},
   "outputs": [
    {
     "data": {
      "text/plain": [
       "2"
      ]
     },
     "execution_count": 270,
     "metadata": {},
     "output_type": "execute_result"
    }
   ],
   "source": [
    "best_index = np.argmax(scores)\n",
    "best_min_samples_split_values = min_samples_split_values[best_index]\n",
    "\n",
    "best_min_samples_split_values"
   ]
  },
  {
   "cell_type": "markdown",
   "id": "253cd293",
   "metadata": {},
   "source": [
    "The best min_samples_split_value is equal to the default"
   ]
  },
  {
   "cell_type": "markdown",
   "id": "ea9041a4",
   "metadata": {},
   "source": [
    "**[8.3]** Decision Tree Classifier with different max_depth"
   ]
  },
  {
   "cell_type": "code",
   "execution_count": 279,
   "id": "7bea7b67",
   "metadata": {
    "scrolled": true
   },
   "outputs": [],
   "source": [
    "max_depth_values = [i for i in (55, 60, 65)]\n",
    "scores = []\n",
    "\n",
    "for m in max_depth_values:\n",
    "    tree = DecisionTreeClassifier(random_state=42,  max_depth= m, class_weight='balanced')\n",
    "    tree.fit(X_train, y_train)\n",
    "    y_train_preds = tree.predict(X_train)\n",
    "    score = fbeta_score(y_train, y_train_preds, beta=2, pos_label=1, average='binary')\n",
    "    scores.append(score)"
   ]
  },
  {
   "cell_type": "code",
   "execution_count": 280,
   "id": "a52a33c3",
   "metadata": {
    "scrolled": false
   },
   "outputs": [
    {
     "data": {
      "text/plain": [
       "Text(0, 0.5, 'average_precision Score')"
      ]
     },
     "execution_count": 280,
     "metadata": {},
     "output_type": "execute_result"
    },
    {
     "data": {
      "image/png": "[encoded data removed]",
      "text/plain": [
       "<Figure size 640x480 with 1 Axes>"
      ]
     },
     "metadata": {},
     "output_type": "display_data"
    }
   ],
   "source": [
    "sns.lineplot(x = max_depth_values, y = scores, marker = 'o')\n",
    "plt.xlabel(\"max_dept Values\")\n",
    "plt.ylabel(\"average_precision Score\")"
   ]
  },
  {
   "cell_type": "code",
   "execution_count": 281,
   "id": "b7ff8471",
   "metadata": {
    "scrolled": true
   },
   "outputs": [
    {
     "data": {
      "text/plain": [
       "[0.9915177219024538, 0.9988403320312499, 1.0]"
      ]
     },
     "execution_count": 281,
     "metadata": {},
     "output_type": "execute_result"
    }
   ],
   "source": [
    "scores"
   ]
  },
  {
   "cell_type": "code",
   "execution_count": 282,
   "id": "7f4dd1f4",
   "metadata": {},
   "outputs": [
    {
     "data": {
      "text/plain": [
       "65"
      ]
     },
     "execution_count": 282,
     "metadata": {},
     "output_type": "execute_result"
    }
   ],
   "source": [
    "best_index = np.argmax(scores)\n",
    "best_max_depth_values = max_depth_values[best_index]\n",
    "\n",
    "best_max_depth_values"
   ]
  },
  {
   "cell_type": "markdown",
   "id": "3813b4db",
   "metadata": {},
   "source": [
    "**[8.4]** Decision Tree Classifier with different max_depth and min_samples_split"
   ]
  },
  {
   "cell_type": "code",
   "execution_count": 283,
   "id": "b91c54ab",
   "metadata": {},
   "outputs": [],
   "source": [
    "tree_2 = DecisionTreeClassifier(random_state=42, max_depth=60 , min_samples_split=2 ,class_weight='balanced')"
   ]
  },
  {
   "cell_type": "code",
   "execution_count": 284,
   "id": "ed50509f",
   "metadata": {},
   "outputs": [
    {
     "data": {
      "text/plain": [
       "DecisionTreeClassifier(class_weight='balanced', max_depth=60, random_state=42)"
      ]
     },
     "execution_count": 284,
     "metadata": {},
     "output_type": "execute_result"
    }
   ],
   "source": [
    "tree_2.fit(X_train, y_train)"
   ]
  },
  {
   "cell_type": "code",
   "execution_count": 285,
   "id": "4ad08b83",
   "metadata": {},
   "outputs": [],
   "source": [
    "y_train_preds = tree_2.predict(X_train)"
   ]
  },
  {
   "cell_type": "code",
   "execution_count": 286,
   "id": "93645ad5",
   "metadata": {},
   "outputs": [
    {
     "name": "stdout",
     "output_type": "stream",
     "text": [
      "0.9999930325803875\n",
      "0.9999930426505652\n",
      "0.994228432563791\n",
      "1.0\n",
      "0.994228432563791\n",
      "0.9988403320312499\n"
     ]
    }
   ],
   "source": [
    "#score for the train set\n",
    "print(accuracy_score(y_train, y_train_preds))\n",
    "print(f1_score(y_train, y_train_preds, average='weighted'))\n",
    "print(precision_score(y_train, y_train_preds))\n",
    "print(recall_score(y_train, y_train_preds))\n",
    "print(average_precision_score(y_train, y_train_preds))\n",
    "print(fbeta_score(y_train, y_train_preds, beta=2, pos_label=1, average='binary'))"
   ]
  },
  {
   "cell_type": "code",
   "execution_count": 287,
   "id": "a77a180d",
   "metadata": {},
   "outputs": [
    {
     "name": "stdout",
     "output_type": "stream",
     "text": [
      "[[2723686      19]\n",
      " [      0    3273]]\n"
     ]
    }
   ],
   "source": [
    "#confusion matrix\n",
    "results = confusion_matrix(y_train, y_train_preds)\n",
    "print(results)"
   ]
  },
  {
   "cell_type": "code",
   "execution_count": 288,
   "id": "ace88bbc",
   "metadata": {},
   "outputs": [
    {
     "name": "stdout",
     "output_type": "stream",
     "text": [
      "0.9987840028163023\n",
      "0.9987923439781847\n",
      "0.45161290322580644\n",
      "0.46419098143236076\n",
      "0.21022723371464294\n",
      "0.4616196254286468\n"
     ]
    }
   ],
   "source": [
    "#score for the validation set\n",
    "y_val_preds = tree_2.predict(X_val)\n",
    "print(accuracy_score(y_val, y_val_preds))\n",
    "print(f1_score(y_val, y_val_preds, average='weighted'))\n",
    "print(precision_score(y_val, y_val_preds))\n",
    "print(recall_score(y_val, y_val_preds))\n",
    "print(average_precision_score(y_val, y_val_preds))\n",
    "print(fbeta_score(y_val, y_val_preds, beta=2, pos_label=1, average='binary'))"
   ]
  },
  {
   "cell_type": "code",
   "execution_count": 290,
   "id": "c66a6aa8",
   "metadata": {},
   "outputs": [
    {
     "name": "stdout",
     "output_type": "stream",
     "text": [
      "0.9987620000915298\n",
      "0.9987367569830569\n",
      "0.47413793103448276\n",
      "0.4369414101290963\n",
      "0.20783584779147501\n",
      "0.4439063761097659\n"
     ]
    }
   ],
   "source": [
    "#score for the test set\n",
    "y_test_preds = tree_2.predict(X_test)\n",
    "print(accuracy_score(y_test, y_test_preds))\n",
    "print(f1_score(y_test, y_test_preds, average='weighted'))\n",
    "print(precision_score(y_test, y_test_preds))\n",
    "print(recall_score(y_test, y_test_preds))\n",
    "print(average_precision_score(y_test, y_test_preds))\n",
    "print(fbeta_score(y_test, y_test_preds, beta=2, pos_label=1, average='binary'))"
   ]
  },
  {
   "cell_type": "markdown",
   "id": "e3305f41",
   "metadata": {},
   "source": [
    "Analysing feature importance in the model"
   ]
  },
  {
   "cell_type": "code",
   "execution_count": 292,
   "id": "eddd2d3a",
   "metadata": {},
   "outputs": [
    {
     "data": {
      "text/plain": [
       "array([2.32197843e-02, 1.87256277e-02, 7.36475290e-01, 1.76662379e-02,\n",
       "       1.71647202e-02, 8.06707144e-03, 2.10557075e-02, 3.43197083e-02,\n",
       "       1.98818213e-03, 1.68978953e-02, 7.34248342e-04, 1.23529963e-02,\n",
       "       2.28604140e-04, 2.66987766e-03, 9.09174083e-04, 1.99534588e-03,\n",
       "       2.36465530e-03, 8.58607992e-04, 6.97736276e-03, 5.03944647e-04,\n",
       "       6.64496946e-04, 1.10589734e-02, 2.45375274e-02, 1.90880710e-02,\n",
       "       4.12562186e-03, 2.93708175e-03, 2.97128063e-03, 9.44190489e-03])"
      ]
     },
     "execution_count": 292,
     "metadata": {},
     "output_type": "execute_result"
    }
   ],
   "source": [
    "tree_2.feature_importances_"
   ]
  },
  {
   "cell_type": "code",
   "execution_count": 294,
   "id": "d1287b1e",
   "metadata": {},
   "outputs": [],
   "source": [
    "X = df_cleaned[['cc_num', 'acct_num', 'amt', 'merch_lat', 'merch_long',\n",
    "       'zip', 'city_pop', 'age', 'food_dining',\n",
    "       'gas_transport', 'grocery_net', 'grocery_pos', 'health_fitness', 'home',\n",
    "       'kids_pets', 'misc_net', 'misc_pos', 'personal_care', 'shopping_net',\n",
    "       'shopping_pos', 'travel', 'M', 'month',\n",
    "       'other', 'pos', 'lat_2', 'long_2', 'weekday']]"
   ]
  },
  {
   "cell_type": "code",
   "execution_count": 295,
   "id": "6035c058",
   "metadata": {},
   "outputs": [],
   "source": [
    "#dataframe with the values\n",
    "feat_imp_tree_2 = pd.DataFrame(\n",
    "    {\n",
    "        'feature': X.columns,\n",
    "     'feature_importance': tree_2.feature_importances_\n",
    "     }\n",
    ")"
   ]
  },
  {
   "cell_type": "code",
   "execution_count": 296,
   "id": "5fbc2044",
   "metadata": {
    "scrolled": true
   },
   "outputs": [
    {
     "data": {
      "text/html": [
       "<div>\n",
       "<style scoped>\n",
       "    .dataframe tbody tr th:only-of-type {\n",
       "        vertical-align: middle;\n",
       "    }\n",
       "\n",
       "    .dataframe tbody tr th {\n",
       "        vertical-align: top;\n",
       "    }\n",
       "\n",
       "    .dataframe thead th {\n",
       "        text-align: right;\n",
       "    }\n",
       "</style>\n",
       "<table border=\"1\" class=\"dataframe\">\n",
       "  <thead>\n",
       "    <tr style=\"text-align: right;\">\n",
       "      <th></th>\n",
       "      <th>feature</th>\n",
       "      <th>feature_importance</th>\n",
       "    </tr>\n",
       "  </thead>\n",
       "  <tbody>\n",
       "    <tr>\n",
       "      <th>0</th>\n",
       "      <td>amt</td>\n",
       "      <td>0.736475</td>\n",
       "    </tr>\n",
       "    <tr>\n",
       "      <th>1</th>\n",
       "      <td>age</td>\n",
       "      <td>0.034320</td>\n",
       "    </tr>\n",
       "    <tr>\n",
       "      <th>2</th>\n",
       "      <td>month</td>\n",
       "      <td>0.024538</td>\n",
       "    </tr>\n",
       "    <tr>\n",
       "      <th>3</th>\n",
       "      <td>cc_num</td>\n",
       "      <td>0.023220</td>\n",
       "    </tr>\n",
       "    <tr>\n",
       "      <th>4</th>\n",
       "      <td>city_pop</td>\n",
       "      <td>0.021056</td>\n",
       "    </tr>\n",
       "    <tr>\n",
       "      <th>5</th>\n",
       "      <td>other</td>\n",
       "      <td>0.019088</td>\n",
       "    </tr>\n",
       "    <tr>\n",
       "      <th>6</th>\n",
       "      <td>acct_num</td>\n",
       "      <td>0.018726</td>\n",
       "    </tr>\n",
       "    <tr>\n",
       "      <th>7</th>\n",
       "      <td>merch_lat</td>\n",
       "      <td>0.017666</td>\n",
       "    </tr>\n",
       "    <tr>\n",
       "      <th>8</th>\n",
       "      <td>merch_long</td>\n",
       "      <td>0.017165</td>\n",
       "    </tr>\n",
       "    <tr>\n",
       "      <th>9</th>\n",
       "      <td>gas_transport</td>\n",
       "      <td>0.016898</td>\n",
       "    </tr>\n",
       "    <tr>\n",
       "      <th>10</th>\n",
       "      <td>grocery_pos</td>\n",
       "      <td>0.012353</td>\n",
       "    </tr>\n",
       "    <tr>\n",
       "      <th>11</th>\n",
       "      <td>M</td>\n",
       "      <td>0.011059</td>\n",
       "    </tr>\n",
       "    <tr>\n",
       "      <th>12</th>\n",
       "      <td>weekday</td>\n",
       "      <td>0.009442</td>\n",
       "    </tr>\n",
       "    <tr>\n",
       "      <th>13</th>\n",
       "      <td>zip</td>\n",
       "      <td>0.008067</td>\n",
       "    </tr>\n",
       "    <tr>\n",
       "      <th>14</th>\n",
       "      <td>shopping_net</td>\n",
       "      <td>0.006977</td>\n",
       "    </tr>\n",
       "    <tr>\n",
       "      <th>15</th>\n",
       "      <td>pos</td>\n",
       "      <td>0.004126</td>\n",
       "    </tr>\n",
       "    <tr>\n",
       "      <th>16</th>\n",
       "      <td>long_2</td>\n",
       "      <td>0.002971</td>\n",
       "    </tr>\n",
       "    <tr>\n",
       "      <th>17</th>\n",
       "      <td>lat_2</td>\n",
       "      <td>0.002937</td>\n",
       "    </tr>\n",
       "    <tr>\n",
       "      <th>18</th>\n",
       "      <td>home</td>\n",
       "      <td>0.002670</td>\n",
       "    </tr>\n",
       "    <tr>\n",
       "      <th>19</th>\n",
       "      <td>misc_pos</td>\n",
       "      <td>0.002365</td>\n",
       "    </tr>\n",
       "    <tr>\n",
       "      <th>20</th>\n",
       "      <td>misc_net</td>\n",
       "      <td>0.001995</td>\n",
       "    </tr>\n",
       "    <tr>\n",
       "      <th>21</th>\n",
       "      <td>food_dining</td>\n",
       "      <td>0.001988</td>\n",
       "    </tr>\n",
       "    <tr>\n",
       "      <th>22</th>\n",
       "      <td>kids_pets</td>\n",
       "      <td>0.000909</td>\n",
       "    </tr>\n",
       "    <tr>\n",
       "      <th>23</th>\n",
       "      <td>personal_care</td>\n",
       "      <td>0.000859</td>\n",
       "    </tr>\n",
       "    <tr>\n",
       "      <th>24</th>\n",
       "      <td>grocery_net</td>\n",
       "      <td>0.000734</td>\n",
       "    </tr>\n",
       "    <tr>\n",
       "      <th>25</th>\n",
       "      <td>travel</td>\n",
       "      <td>0.000664</td>\n",
       "    </tr>\n",
       "    <tr>\n",
       "      <th>26</th>\n",
       "      <td>shopping_pos</td>\n",
       "      <td>0.000504</td>\n",
       "    </tr>\n",
       "    <tr>\n",
       "      <th>27</th>\n",
       "      <td>health_fitness</td>\n",
       "      <td>0.000229</td>\n",
       "    </tr>\n",
       "  </tbody>\n",
       "</table>\n",
       "</div>"
      ],
      "text/plain": [
       "           feature  feature_importance\n",
       "0              amt            0.736475\n",
       "1              age            0.034320\n",
       "2            month            0.024538\n",
       "3           cc_num            0.023220\n",
       "4         city_pop            0.021056\n",
       "5            other            0.019088\n",
       "6         acct_num            0.018726\n",
       "7        merch_lat            0.017666\n",
       "8       merch_long            0.017165\n",
       "9    gas_transport            0.016898\n",
       "10     grocery_pos            0.012353\n",
       "11               M            0.011059\n",
       "12         weekday            0.009442\n",
       "13             zip            0.008067\n",
       "14    shopping_net            0.006977\n",
       "15             pos            0.004126\n",
       "16          long_2            0.002971\n",
       "17           lat_2            0.002937\n",
       "18            home            0.002670\n",
       "19        misc_pos            0.002365\n",
       "20        misc_net            0.001995\n",
       "21     food_dining            0.001988\n",
       "22       kids_pets            0.000909\n",
       "23   personal_care            0.000859\n",
       "24     grocery_net            0.000734\n",
       "25          travel            0.000664\n",
       "26    shopping_pos            0.000504\n",
       "27  health_fitness            0.000229"
      ]
     },
     "execution_count": 296,
     "metadata": {},
     "output_type": "execute_result"
    }
   ],
   "source": [
    "feat_imp_tree_2 = feat_imp_tree_2.sort_values('feature_importance', ascending=False).reset_index(drop=True)\n",
    "feat_imp_tree_2"
   ]
  },
  {
   "cell_type": "markdown",
   "id": "85b56e3d",
   "metadata": {},
   "source": [
    "**[8.5]** Random Forest Classifier"
   ]
  },
  {
   "cell_type": "code",
   "execution_count": 280,
   "id": "b2523c42",
   "metadata": {},
   "outputs": [],
   "source": [
    "from sklearn.ensemble import RandomForestClassifier\n",
    "from sklearn.metrics import precision_recall_curve\n",
    "from sklearn.metrics import auc"
   ]
  },
  {
   "cell_type": "code",
   "execution_count": 299,
   "id": "ada85851",
   "metadata": {},
   "outputs": [],
   "source": [
    "rf = RandomForestClassifier(random_state=42, class_weight='balanced')"
   ]
  },
  {
   "cell_type": "code",
   "execution_count": 300,
   "id": "69b86b35",
   "metadata": {},
   "outputs": [
    {
     "data": {
      "text/plain": [
       "RandomForestClassifier(class_weight='balanced', random_state=42)"
      ]
     },
     "execution_count": 300,
     "metadata": {},
     "output_type": "execute_result"
    }
   ],
   "source": [
    "rf.fit(X_train, y_train)"
   ]
  },
  {
   "cell_type": "code",
   "execution_count": 301,
   "id": "09efb78b",
   "metadata": {},
   "outputs": [],
   "source": [
    "y_train_preds = rf.predict(X_train)"
   ]
  },
  {
   "cell_type": "code",
   "execution_count": 302,
   "id": "dd0eaa36",
   "metadata": {},
   "outputs": [
    {
     "name": "stdout",
     "output_type": "stream",
     "text": [
      "0.9999996332937046\n",
      "0.999999633265724\n",
      "1.0\n",
      "0.9996944699052857\n",
      "0.9996948366115811\n",
      "0.9997555609875336\n"
     ]
    }
   ],
   "source": [
    "#score for the train set\n",
    "print(accuracy_score(y_train, y_train_preds))\n",
    "print(f1_score(y_train, y_train_preds, average='weighted'))\n",
    "print(precision_score(y_train, y_train_preds))\n",
    "print(recall_score(y_train, y_train_preds))\n",
    "print(average_precision_score(y_train, y_train_preds))\n",
    "print(fbeta_score(y_train, y_train_preds, beta=2, pos_label=1, average='binary'))"
   ]
  },
  {
   "cell_type": "code",
   "execution_count": 303,
   "id": "18c1a890",
   "metadata": {},
   "outputs": [
    {
     "name": "stdout",
     "output_type": "stream",
     "text": [
      "0.9992915239569047\n",
      "0.9991327316827592\n",
      "0.9721254355400697\n",
      "0.37002652519893897\n",
      "0.36040893842064614\n",
      "0.4223433242506812\n"
     ]
    }
   ],
   "source": [
    "#score for the validation set\n",
    "y_val_preds = rf.predict(X_val)\n",
    "print(accuracy_score(y_val, y_val_preds))\n",
    "print(f1_score(y_val, y_val_preds, average='weighted'))\n",
    "print(precision_score(y_val, y_val_preds))\n",
    "print(recall_score(y_val, y_val_preds))\n",
    "print(average_precision_score(y_val, y_val_preds))\n",
    "print(fbeta_score(y_val, y_val_preds, beta=2, pos_label=1, average='binary'))"
   ]
  },
  {
   "cell_type": "code",
   "execution_count": 304,
   "id": "861951c6",
   "metadata": {},
   "outputs": [
    {
     "name": "stdout",
     "output_type": "stream",
     "text": [
      "0.9991985270734738\n",
      "0.9990029052287025\n",
      "0.9682080924855492\n",
      "0.3326713008937438\n",
      "0.32288361053362635\n",
      "0.3829446730681298\n"
     ]
    }
   ],
   "source": [
    "#score for the test set\n",
    "y_test_preds = rf.predict(X_test)\n",
    "print(accuracy_score(y_test, y_test_preds))\n",
    "print(f1_score(y_test, y_test_preds, average='weighted'))\n",
    "print(precision_score(y_test, y_test_preds))\n",
    "print(recall_score(y_test, y_test_preds))\n",
    "print(average_precision_score(y_test, y_test_preds))\n",
    "print(fbeta_score(y_test, y_test_preds, beta=2, pos_label=1, average='binary'))"
   ]
  },
  {
   "cell_type": "markdown",
   "id": "8fc90421",
   "metadata": {},
   "source": [
    "**[8.6]** Random Forest Classifier with max_features"
   ]
  },
  {
   "cell_type": "code",
   "execution_count": 281,
   "id": "a2b176d3",
   "metadata": {},
   "outputs": [],
   "source": [
    "from sklearn.ensemble import RandomForestClassifier\n",
    "from sklearn.metrics import precision_recall_curve\n",
    "from sklearn.metrics import auc\n",
    "from sklearn.metrics import fbeta_score"
   ]
  },
  {
   "cell_type": "code",
   "execution_count": 97,
   "id": "0df887d5",
   "metadata": {
    "scrolled": true
   },
   "outputs": [],
   "source": [
    "max_features_values = [i for i in (2,4,6)]\n",
    "scores = []\n",
    "\n",
    "for m in max_features_values:\n",
    "    rf = RandomForestClassifier(random_state=42, n_estimators= 40, max_depth = 60, min_samples_leaf= 1, max_features = m, class_weight='balanced')\n",
    "    rf.fit(X_train, y_train)\n",
    "    y_train_preds = rf.predict(X_train)\n",
    "    score = fbeta_score(y_train, y_train_preds, beta=2, pos_label=1, average='binary')\n",
    "    scores.append(score)"
   ]
  },
  {
   "cell_type": "code",
   "execution_count": 98,
   "id": "3411001e",
   "metadata": {
    "scrolled": false
   },
   "outputs": [
    {
     "data": {
      "text/plain": [
       "Text(0, 0.5, 'average_precision Score')"
      ]
     },
     "execution_count": 98,
     "metadata": {},
     "output_type": "execute_result"
    },
    {
     "data": {
      "image/png": "[encoded data removed]",
      "text/plain": [
       "<Figure size 640x480 with 1 Axes>"
      ]
     },
     "metadata": {},
     "output_type": "display_data"
    }
   ],
   "source": [
    "sns.lineplot(x = max_features_values, y = scores, marker = 'o')\n",
    "plt.xlabel(\"max_features values\")\n",
    "plt.ylabel(\"average_precision Score\")"
   ]
  },
  {
   "cell_type": "code",
   "execution_count": 99,
   "id": "5ee496e6",
   "metadata": {
    "scrolled": true
   },
   "outputs": [
    {
     "data": {
      "text/plain": [
       "[0.9897077743061937, 0.9904446894524073, 0.990690267654805]"
      ]
     },
     "execution_count": 99,
     "metadata": {},
     "output_type": "execute_result"
    }
   ],
   "source": [
    "scores"
   ]
  },
  {
   "cell_type": "code",
   "execution_count": 100,
   "id": "d951124f",
   "metadata": {},
   "outputs": [
    {
     "data": {
      "text/plain": [
       "6"
      ]
     },
     "execution_count": 100,
     "metadata": {},
     "output_type": "execute_result"
    }
   ],
   "source": [
    "best_index = np.argmax(scores)\n",
    "best_max_features_values = max_features_values[best_index]\n",
    "\n",
    "best_max_features_values"
   ]
  },
  {
   "cell_type": "code",
   "execution_count": 101,
   "id": "ba8a6f5b",
   "metadata": {},
   "outputs": [],
   "source": [
    "rf = RandomForestClassifier(random_state=42, n_estimators= 40, max_depth = 60, min_samples_leaf= 1, max_features = best_max_features_values, class_weight='balanced')"
   ]
  },
  {
   "cell_type": "code",
   "execution_count": 102,
   "id": "44f885e1",
   "metadata": {},
   "outputs": [
    {
     "data": {
      "text/plain": [
       "RandomForestClassifier(class_weight='balanced', max_depth=60, max_features=6,\n",
       "                       n_estimators=40, random_state=42)"
      ]
     },
     "execution_count": 102,
     "metadata": {},
     "output_type": "execute_result"
    }
   ],
   "source": [
    "rf.fit(X_train, y_train)"
   ]
  },
  {
   "cell_type": "code",
   "execution_count": 103,
   "id": "4c4976a6",
   "metadata": {},
   "outputs": [],
   "source": [
    "y_train_preds = rf.predict(X_train)"
   ]
  },
  {
   "cell_type": "code",
   "execution_count": 104,
   "id": "89c9dda2",
   "metadata": {},
   "outputs": [
    {
     "name": "stdout",
     "output_type": "stream",
     "text": [
      "0.999986065160775\n",
      "0.9999860245268419\n",
      "1.0\n",
      "0.9883898564008555\n",
      "0.9884037912400805\n",
      "0.990690267654805\n"
     ]
    }
   ],
   "source": [
    "#score for the train set\n",
    "print(accuracy_score(y_train, y_train_preds))\n",
    "print(f1_score(y_train, y_train_preds, average='weighted'))\n",
    "print(precision_score(y_train, y_train_preds))\n",
    "print(recall_score(y_train, y_train_preds))\n",
    "print(average_precision_score(y_train, y_train_preds))\n",
    "print(fbeta_score(y_train, y_train_preds, beta=2, pos_label=1, average='binary'))"
   ]
  },
  {
   "cell_type": "code",
   "execution_count": 106,
   "id": "38549ab9",
   "metadata": {},
   "outputs": [
    {
     "name": "stdout",
     "output_type": "stream",
     "text": [
      "0.9992856566604815\n",
      "0.9991324116579134\n",
      "0.9435215946843853\n",
      "0.376657824933687\n",
      "0.35607419896150444\n",
      "0.42809767862526377\n"
     ]
    }
   ],
   "source": [
    "#score for the validation set\n",
    "y_val_preds = rf.predict(X_val)\n",
    "print(accuracy_score(y_val, y_val_preds))\n",
    "print(f1_score(y_val, y_val_preds, average='weighted'))\n",
    "print(precision_score(y_val, y_val_preds))\n",
    "print(recall_score(y_val, y_val_preds))\n",
    "print(average_precision_score(y_val, y_val_preds))\n",
    "print(fbeta_score(y_val, y_val_preds, beta=2, pos_label=1, average='binary'))"
   ]
  },
  {
   "cell_type": "code",
   "execution_count": 108,
   "id": "9b6958dc",
   "metadata": {},
   "outputs": [
    {
     "name": "stdout",
     "output_type": "stream",
     "text": [
      "0.9991914863157005\n",
      "0.9990029067682404\n",
      "0.9344262295081968\n",
      "0.33962264150943394\n",
      "0.3181326550144807\n",
      "0.38916704597177976\n"
     ]
    }
   ],
   "source": [
    "#score for the test set\n",
    "y_test_preds = rf.predict(X_test)\n",
    "print(accuracy_score(y_test, y_test_preds))\n",
    "print(f1_score(y_test, y_test_preds, average='weighted'))\n",
    "print(precision_score(y_test, y_test_preds))\n",
    "print(recall_score(y_test, y_test_preds))\n",
    "print(average_precision_score(y_test, y_test_preds))\n",
    "print(fbeta_score(y_test, y_test_preds, beta=2, pos_label=1, average='binary'))"
   ]
  },
  {
   "cell_type": "markdown",
   "id": "380ecd7d",
   "metadata": {},
   "source": [
    "**[8.7]** Extra trees Classifier"
   ]
  },
  {
   "cell_type": "code",
   "execution_count": 282,
   "id": "4ff458c2",
   "metadata": {},
   "outputs": [],
   "source": [
    "from sklearn.ensemble import ExtraTreesClassifier"
   ]
  },
  {
   "cell_type": "code",
   "execution_count": 306,
   "id": "0c0082bf",
   "metadata": {},
   "outputs": [],
   "source": [
    "et = ExtraTreesClassifier(random_state=42, class_weight='balanced')"
   ]
  },
  {
   "cell_type": "code",
   "execution_count": 307,
   "id": "6be3d5d7",
   "metadata": {},
   "outputs": [
    {
     "data": {
      "text/plain": [
       "ExtraTreesClassifier(class_weight='balanced', random_state=42)"
      ]
     },
     "execution_count": 307,
     "metadata": {},
     "output_type": "execute_result"
    }
   ],
   "source": [
    "et.fit(X_train, y_train)"
   ]
  },
  {
   "cell_type": "code",
   "execution_count": 308,
   "id": "940c5858",
   "metadata": {},
   "outputs": [],
   "source": [
    "y_train_preds = et.predict(X_train)"
   ]
  },
  {
   "cell_type": "code",
   "execution_count": 309,
   "id": "a4e52c3f",
   "metadata": {},
   "outputs": [
    {
     "name": "stdout",
     "output_type": "stream",
     "text": [
      "1.0\n",
      "1.0\n",
      "1.0\n",
      "1.0\n",
      "1.0\n",
      "1.0\n"
     ]
    }
   ],
   "source": [
    "#score for the train set\n",
    "print(accuracy_score(y_train, y_train_preds))\n",
    "print(f1_score(y_train, y_train_preds, average='weighted'))\n",
    "print(precision_score(y_train, y_train_preds))\n",
    "print(recall_score(y_train, y_train_preds))\n",
    "print(average_precision_score(y_train, y_train_preds))\n",
    "print(fbeta_score(y_train, y_train_preds, beta=2, pos_label=1, average='binary'))"
   ]
  },
  {
   "cell_type": "code",
   "execution_count": 310,
   "id": "da9e3c06",
   "metadata": {},
   "outputs": [
    {
     "name": "stdout",
     "output_type": "stream",
     "text": [
      "0.9993443296247131\n",
      "0.9992123848526809\n",
      "0.9781931464174455\n",
      "0.41644562334217505\n",
      "0.40800965721540305\n",
      "0.4704824692837878\n"
     ]
    }
   ],
   "source": [
    "#score for the validation set\n",
    "y_val_preds = et.predict(X_val)\n",
    "print(accuracy_score(y_val, y_val_preds))\n",
    "print(f1_score(y_val, y_val_preds, average='weighted'))\n",
    "print(precision_score(y_val, y_val_preds))\n",
    "print(recall_score(y_val, y_val_preds))\n",
    "print(average_precision_score(y_val, y_val_preds))\n",
    "print(fbeta_score(y_val, y_val_preds, beta=2, pos_label=1, average='binary'))"
   ]
  },
  {
   "cell_type": "code",
   "execution_count": 311,
   "id": "5de0e23d",
   "metadata": {},
   "outputs": [
    {
     "name": "stdout",
     "output_type": "stream",
     "text": [
      "0.9992642408126912\n",
      "0.9991166504117975\n",
      "0.9418604651162791\n",
      "0.40218470705064546\n",
      "0.37950829794196217\n",
      "0.4542395693135936\n"
     ]
    }
   ],
   "source": [
    "#score for the test set\n",
    "y_test_preds = et.predict(X_test)\n",
    "print(accuracy_score(y_test, y_test_preds))\n",
    "print(f1_score(y_test, y_test_preds, average='weighted'))\n",
    "print(precision_score(y_test, y_test_preds))\n",
    "print(recall_score(y_test, y_test_preds))\n",
    "print(average_precision_score(y_test, y_test_preds))\n",
    "print(fbeta_score(y_test, y_test_preds, beta=2, pos_label=1, average='binary'))"
   ]
  },
  {
   "cell_type": "markdown",
   "id": "f4ed308e",
   "metadata": {},
   "source": [
    "**[8.8]** Decision Tree Classifier with Grid Search"
   ]
  },
  {
   "cell_type": "markdown",
   "id": "b8119faa",
   "metadata": {},
   "source": [
    "based on: (Brownlee, 2020c)"
   ]
  },
  {
   "cell_type": "code",
   "execution_count": 283,
   "id": "17066ac0",
   "metadata": {},
   "outputs": [],
   "source": [
    "from sklearn.model_selection import GridSearchCV\n",
    "from sklearn.tree import DecisionTreeClassifier\n",
    "from sklearn.metrics import fbeta_score, make_scorer\n",
    "from sklearn.model_selection import StratifiedKFold"
   ]
  },
  {
   "cell_type": "code",
   "execution_count": 166,
   "id": "6af63906",
   "metadata": {},
   "outputs": [
    {
     "data": {
      "text/plain": [
       "{'max_depth': array([60, 65]),\n",
       " 'min_samples_split': array([2, 5]),\n",
       " 'min_samples_leaf': array([2, 7])}"
      ]
     },
     "execution_count": 166,
     "metadata": {},
     "output_type": "execute_result"
    }
   ],
   "source": [
    "hyperparams_grid = {\n",
    "    'max_depth': np.arange(60, 66,5),\n",
    "    'min_samples_split': np.arange(2, 6, 3),\n",
    "    'min_samples_leaf': np.arange(2, 8, 5)\n",
    "    }\n",
    "hyperparams_grid"
   ]
  },
  {
   "cell_type": "code",
   "execution_count": 167,
   "id": "9007913b",
   "metadata": {},
   "outputs": [],
   "source": [
    "#instantiate the RandomForestClassifier \n",
    "dt = DecisionTreeClassifier(random_state=42, class_weight='balanced')"
   ]
  },
  {
   "cell_type": "code",
   "execution_count": 168,
   "id": "543f7974",
   "metadata": {},
   "outputs": [],
   "source": [
    "#custon metric for performance\n",
    "f2_scorer = make_scorer(fbeta_score, beta=2, pos_label=1, average='binary')"
   ]
  },
  {
   "cell_type": "code",
   "execution_count": 169,
   "id": "d64b540d",
   "metadata": {},
   "outputs": [],
   "source": [
    "#Instantiate a KFold \n",
    "kfold = StratifiedKFold(n_splits=5, shuffle=True, random_state=1)"
   ]
  },
  {
   "cell_type": "markdown",
   "id": "aa6432f7",
   "metadata": {},
   "source": [
    "Note: \n",
    "* shuffle = True, the data is shuffled by your random_state. Otherwise, the data is shuffled by np.random (as default)\n",
    "\n",
    "* For imbalanced classification, we will use stratified k-fold cross-validation that enforces the class distribution in each data split, preserving the original dataset's distribution. (Brownlee, 2020)"
   ]
  },
  {
   "cell_type": "code",
   "execution_count": 170,
   "id": "89221c87",
   "metadata": {},
   "outputs": [],
   "source": [
    "#Instantiate a GridSearchCV\n",
    "grid_search_dt = GridSearchCV(dt, hyperparams_grid, cv=kfold, scoring=f2_scorer, verbose=2, return_train_score = True, n_jobs= -1)"
   ]
  },
  {
   "cell_type": "markdown",
   "id": "60f61923",
   "metadata": {},
   "source": [
    "* verbosity: \n",
    "1 : the computation time for each fold and parameter candidate is displayed\n",
    "2 : the score is also displayed\n",
    "\n",
    "* cv: number of fold cross validation\n",
    "\n",
    "* return_train_score = True, the cv_results_ attribute will include training scores to get insights on how parameter impact the overfitting\n",
    "\n",
    "* n_jobs: -1 means using all processors. 1 as default means 1 job in parallel.\n",
    "\n",
    "* scoring: metric to evaluate the performance of the cross-validated model. Here we are defining a custom metric F2Beta \n",
    "\n",
    "Based on: (scikit-learn developers, 2023a), (scikit-learn developers, 2023b), (scikit-learn developers, 2023c), (scikit-learn developers, 2023d)"
   ]
  },
  {
   "cell_type": "code",
   "execution_count": 171,
   "id": "35da9b10",
   "metadata": {
    "scrolled": true
   },
   "outputs": [
    {
     "name": "stdout",
     "output_type": "stream",
     "text": [
      "Fitting 5 folds for each of 8 candidates, totalling 40 fits\n"
     ]
    },
    {
     "data": {
      "text/plain": [
       "GridSearchCV(cv=StratifiedKFold(n_splits=5, random_state=1, shuffle=True),\n",
       "             estimator=DecisionTreeClassifier(class_weight='balanced',\n",
       "                                              random_state=42),\n",
       "             n_jobs=-1,\n",
       "             param_grid={'max_depth': array([60, 65]),\n",
       "                         'min_samples_leaf': array([2, 7]),\n",
       "                         'min_samples_split': array([2, 5])},\n",
       "             return_train_score=True,\n",
       "             scoring=make_scorer(fbeta_score, beta=2, pos_label=1, average=binary),\n",
       "             verbose=2)"
      ]
     },
     "execution_count": 171,
     "metadata": {},
     "output_type": "execute_result"
    }
   ],
   "source": [
    "#Fit the GridSearchCV on the training set\n",
    "grid_search_dt.fit(X_train, y_train)"
   ]
  },
  {
   "cell_type": "code",
   "execution_count": 172,
   "id": "2e500f23",
   "metadata": {},
   "outputs": [
    {
     "data": {
      "text/plain": [
       "{'max_depth': 60, 'min_samples_leaf': 7, 'min_samples_split': 2}"
      ]
     },
     "execution_count": 172,
     "metadata": {},
     "output_type": "execute_result"
    }
   ],
   "source": [
    "grid_search_dt.best_params_"
   ]
  },
  {
   "cell_type": "code",
   "execution_count": 173,
   "id": "142f72f6",
   "metadata": {},
   "outputs": [
    {
     "name": "stdout",
     "output_type": "stream",
     "text": [
      "0.6280462063936754\n",
      "0.3095199612089866\n",
      "0.28311362209667296\n"
     ]
    }
   ],
   "source": [
    "print(grid_search_dt.score(X_train, y_train))\n",
    "print(grid_search_dt.score(X_val, y_val))\n",
    "print(grid_search_dt.score(X_test, y_test))"
   ]
  },
  {
   "cell_type": "markdown",
   "id": "5b963e9a",
   "metadata": {},
   "source": [
    "**[8.9]** Default XGBoost Classifier"
   ]
  },
  {
   "cell_type": "markdown",
   "id": "3b051535",
   "metadata": {},
   "source": [
    "Based on: (Brownlee, 2021) and (xgboost developers, 2022). "
   ]
  },
  {
   "cell_type": "code",
   "execution_count": 284,
   "id": "51719130",
   "metadata": {},
   "outputs": [],
   "source": [
    "import xgboost as xgb"
   ]
  },
  {
   "cell_type": "code",
   "execution_count": 204,
   "id": "286da258",
   "metadata": {},
   "outputs": [
    {
     "data": {
      "text/plain": [
       "XGBClassifier(base_score=None, booster=None, callbacks=None,\n",
       "              colsample_bylevel=None, colsample_bynode=None,\n",
       "              colsample_bytree=None, early_stopping_rounds=None,\n",
       "              enable_categorical=False, eval_metric=None, feature_types=None,\n",
       "              gamma=None, gpu_id=None, grow_policy=None, importance_type=None,\n",
       "              interaction_constraints=None, learning_rate=None, max_bin=None,\n",
       "              max_cat_threshold=None, max_cat_to_onehot=None,\n",
       "              max_delta_step=None, max_depth=None, max_leaves=None,\n",
       "              min_child_weight=None, missing=nan, monotone_constraints=None,\n",
       "              n_estimators=100, n_jobs=None, num_parallel_tree=None,\n",
       "              predictor=None, random_state=42, ...)"
      ]
     },
     "execution_count": 204,
     "metadata": {},
     "output_type": "execute_result"
    }
   ],
   "source": [
    "xgb_model = xgb.XGBClassifier(objective=\"binary:logistic\", random_state=42)\n",
    "xgb_model.fit(X_train, y_train)"
   ]
  },
  {
   "cell_type": "code",
   "execution_count": 205,
   "id": "12f5e63d",
   "metadata": {},
   "outputs": [],
   "source": [
    "y_train_preds = xgb_model.predict(X_train)"
   ]
  },
  {
   "cell_type": "code",
   "execution_count": 206,
   "id": "8d4b562a",
   "metadata": {},
   "outputs": [
    {
     "name": "stdout",
     "output_type": "stream",
     "text": [
      "0.9994796437668364\n",
      "0.999417503629058\n",
      "0.9611940298507463\n",
      "0.5902841429880843\n",
      "0.5678693472978338\n",
      "0.6396503774334524\n"
     ]
    }
   ],
   "source": [
    "#score for the train set\n",
    "print(accuracy_score(y_train, y_train_preds))\n",
    "print(f1_score(y_train, y_train_preds, average='weighted'))\n",
    "print(precision_score(y_train, y_train_preds))\n",
    "print(recall_score(y_train, y_train_preds))\n",
    "print(average_precision_score(y_train, y_train_preds))\n",
    "print(fbeta_score(y_train, y_train_preds, beta=2, pos_label=1, average='binary'))"
   ]
  },
  {
   "cell_type": "code",
   "execution_count": 208,
   "id": "a4f03dc7",
   "metadata": {},
   "outputs": [
    {
     "name": "stdout",
     "output_type": "stream",
     "text": [
      "0.9994030025889445\n",
      "0.9993210686616768\n",
      "0.9044289044289044\n",
      "0.5145888594164456\n",
      "0.46594589597605357\n",
      "0.5631349782293179\n"
     ]
    }
   ],
   "source": [
    "#score for the validation set\n",
    "y_val_preds = xgb_model.predict(X_val)\n",
    "print(accuracy_score(y_val, y_val_preds))\n",
    "print(f1_score(y_val, y_val_preds, average='weighted'))\n",
    "print(precision_score(y_val, y_val_preds))\n",
    "print(recall_score(y_val, y_val_preds))\n",
    "print(average_precision_score(y_val, y_val_preds))\n",
    "print(fbeta_score(y_val, y_val_preds, beta=2, pos_label=1, average='binary'))"
   ]
  },
  {
   "cell_type": "code",
   "execution_count": 209,
   "id": "a969a7ff",
   "metadata": {},
   "outputs": [
    {
     "name": "stdout",
     "output_type": "stream",
     "text": [
      "0.9992853630860111\n",
      "0.9991633492329899\n",
      "0.902834008097166\n",
      "0.4428997020854022\n",
      "0.40052322407060703\n",
      "0.4931446262715613\n"
     ]
    }
   ],
   "source": [
    "#score for the test set\n",
    "y_test_preds = xgb_model.predict(X_test)\n",
    "print(accuracy_score(y_test, y_test_preds))\n",
    "print(f1_score(y_test, y_test_preds, average='weighted'))\n",
    "print(precision_score(y_test, y_test_preds))\n",
    "print(recall_score(y_test, y_test_preds))\n",
    "print(average_precision_score(y_test, y_test_preds))\n",
    "print(fbeta_score(y_test, y_test_preds, beta=2, pos_label=1, average='binary'))"
   ]
  },
  {
   "cell_type": "markdown",
   "id": "a88b82c3",
   "metadata": {},
   "source": [
    "**[8.10]** XGBoost Classifier with scale_pos_weight"
   ]
  },
  {
   "cell_type": "markdown",
   "id": "d571df58",
   "metadata": {},
   "source": [
    "\"The scale_pos_weight value is used to scale the gradient for the positive class\". (Brownlee, 2020e)"
   ]
  },
  {
   "cell_type": "code",
   "execution_count": 285,
   "id": "5a3514ed",
   "metadata": {},
   "outputs": [],
   "source": [
    "import xgboost as xgb\n",
    "\n",
    "from sklearn.metrics import accuracy_score, precision_score, recall_score, f1_score, average_precision_score, fbeta_score\n",
    "from sklearn.metrics import auc, precision_recall_curve"
   ]
  },
  {
   "cell_type": "code",
   "execution_count": 66,
   "id": "f3546f6b",
   "metadata": {},
   "outputs": [
    {
     "name": "stdout",
     "output_type": "stream",
     "text": [
      "Estimate: 832.174\n"
     ]
    }
   ],
   "source": [
    "#estimate scale pos weight value\n",
    "\n",
    "# count examples in each class\n",
    "counter = Counter(y_train)\n",
    "# estimate scale_pos_weight value\n",
    "estimate = counter[0] / counter[1]\n",
    "print('Estimate: %.3f' % estimate)"
   ]
  },
  {
   "cell_type": "code",
   "execution_count": 57,
   "id": "69392eb3",
   "metadata": {},
   "outputs": [
    {
     "data": {
      "text/plain": [
       "XGBClassifier(base_score=None, booster=None, callbacks=None,\n",
       "              colsample_bylevel=None, colsample_bynode=None,\n",
       "              colsample_bytree=None, early_stopping_rounds=None,\n",
       "              enable_categorical=False, eval_metric=None, feature_types=None,\n",
       "              gamma=None, gpu_id=None, grow_policy=None, importance_type=None,\n",
       "              interaction_constraints=None, learning_rate=None, max_bin=None,\n",
       "              max_cat_threshold=None, max_cat_to_onehot=None,\n",
       "              max_delta_step=None, max_depth=None, max_leaves=None,\n",
       "              min_child_weight=None, missing=nan, monotone_constraints=None,\n",
       "              n_estimators=100, n_jobs=None, num_parallel_tree=None,\n",
       "              predictor=None, random_state=42, ...)"
      ]
     },
     "execution_count": 57,
     "metadata": {},
     "output_type": "execute_result"
    }
   ],
   "source": [
    "xgb_model = xgb.XGBClassifier(objective=\"binary:logistic\", random_state=42, scale_pos_weight=832)\n",
    "xgb_model.fit(X_train, y_train)"
   ]
  },
  {
   "cell_type": "code",
   "execution_count": 58,
   "id": "3a79a607",
   "metadata": {},
   "outputs": [],
   "source": [
    "y_train_preds = xgb_model.predict(X_train)"
   ]
  },
  {
   "cell_type": "code",
   "execution_count": 62,
   "id": "a9cf191b",
   "metadata": {},
   "outputs": [
    {
     "name": "stdout",
     "output_type": "stream",
     "text": [
      "0.9878953918953508\n",
      "0.9929091955747358\n",
      "0.0902100214982636\n",
      "1.0\n",
      "0.0902100214982636\n",
      "0.3314497508810305\n"
     ]
    }
   ],
   "source": [
    "#score for the train set\n",
    "print(accuracy_score(y_train, y_train_preds))\n",
    "print(f1_score(y_train, y_train_preds, average='weighted'))\n",
    "print(precision_score(y_train, y_train_preds))\n",
    "print(recall_score(y_train, y_train_preds))\n",
    "print(average_precision_score(y_train, y_train_preds))\n",
    "print(fbeta_score(y_train, y_train_preds, beta=2, pos_label=1, average='binary'))"
   ]
  },
  {
   "cell_type": "code",
   "execution_count": 63,
   "id": "a34c41f1",
   "metadata": {},
   "outputs": [
    {
     "name": "stdout",
     "output_type": "stream",
     "text": [
      "0.9875994690096737\n",
      "0.9928056279837151\n",
      "0.07335992907801418\n",
      "0.8779840848806366\n",
      "0.06454379801620112\n",
      "0.2749169435215947\n"
     ]
    }
   ],
   "source": [
    "#score for the validation set\n",
    "y_val_preds = xgb_model.predict(X_val)\n",
    "print(accuracy_score(y_val, y_val_preds))\n",
    "print(f1_score(y_val, y_val_preds, average='weighted'))\n",
    "print(precision_score(y_val, y_val_preds))\n",
    "print(recall_score(y_val, y_val_preds))\n",
    "print(average_precision_score(y_val, y_val_preds))\n",
    "print(fbeta_score(y_val, y_val_preds, beta=2, pos_label=1, average='binary'))"
   ]
  },
  {
   "cell_type": "code",
   "execution_count": 64,
   "id": "5871aa2c",
   "metadata": {},
   "outputs": [
    {
     "name": "stdout",
     "output_type": "stream",
     "text": [
      "0.9875026549524103\n",
      "0.9926993134556048\n",
      "0.07739503900429485\n",
      "0.8768619662363456\n",
      "0.06801027507222597\n",
      "0.28600116602966896\n"
     ]
    }
   ],
   "source": [
    "#score for the test set\n",
    "y_test_preds = xgb_model.predict(X_test)\n",
    "print(accuracy_score(y_test, y_test_preds))\n",
    "print(f1_score(y_test, y_test_preds, average='weighted'))\n",
    "print(precision_score(y_test, y_test_preds))\n",
    "print(recall_score(y_test, y_test_preds))\n",
    "print(average_precision_score(y_test, y_test_preds))\n",
    "print(fbeta_score(y_test, y_test_preds, beta=2, pos_label=1, average='binary'))"
   ]
  },
  {
   "cell_type": "markdown",
   "id": "84bcfca3",
   "metadata": {},
   "source": [
    "**[8.11]** XGBoost Classifier with grid search for scale_pos_weight"
   ]
  },
  {
   "cell_type": "markdown",
   "id": "2dea22f9",
   "metadata": {},
   "source": [
    "Based on: (scikit-learn developers, 2023c)"
   ]
  },
  {
   "cell_type": "code",
   "execution_count": 286,
   "id": "79ebe438",
   "metadata": {},
   "outputs": [],
   "source": [
    "from sklearn.model_selection import cross_val_score\n",
    "from sklearn.model_selection import RepeatedStratifiedKFold\n",
    "from xgboost import XGBClassifier\n",
    "from collections import Counter\n",
    "\n",
    "from sklearn.model_selection import GridSearchCV\n",
    "from sklearn.metrics import fbeta_score, make_scorer\n",
    "from sklearn.model_selection import StratifiedKFold"
   ]
  },
  {
   "cell_type": "code",
   "execution_count": 66,
   "id": "32f1c84e",
   "metadata": {},
   "outputs": [
    {
     "name": "stdout",
     "output_type": "stream",
     "text": [
      "Estimate: 832.174\n"
     ]
    }
   ],
   "source": [
    "# count examples in each class\n",
    "counter = Counter(y_train)\n",
    "# estimate scale_pos_weight value\n",
    "estimate = counter[0] / counter[1]\n",
    "print('Estimate: %.3f' % estimate)"
   ]
  },
  {
   "cell_type": "code",
   "execution_count": 67,
   "id": "49336d94",
   "metadata": {},
   "outputs": [],
   "source": [
    "# define grid\n",
    "weights = [1, 10, 50, 832, 1200]\n",
    "param_grid = dict(scale_pos_weight=weights)"
   ]
  },
  {
   "cell_type": "code",
   "execution_count": 68,
   "id": "607eafbc",
   "metadata": {},
   "outputs": [],
   "source": [
    "model = XGBClassifier(objective=\"binary:logistic\")"
   ]
  },
  {
   "cell_type": "code",
   "execution_count": 69,
   "id": "bd80bb45",
   "metadata": {},
   "outputs": [],
   "source": [
    "#custon metric for performance\n",
    "f2_scorer = make_scorer(fbeta_score, beta=2, pos_label=1, average='binary')"
   ]
  },
  {
   "cell_type": "code",
   "execution_count": 70,
   "id": "77fe48a0",
   "metadata": {},
   "outputs": [],
   "source": [
    "cv = RepeatedStratifiedKFold(n_splits=2, n_repeats=2, random_state=42)"
   ]
  },
  {
   "cell_type": "code",
   "execution_count": 71,
   "id": "a1e4fd31",
   "metadata": {},
   "outputs": [],
   "source": [
    "# define grid search\n",
    "grid = GridSearchCV(estimator=model, param_grid=param_grid, n_jobs=-1, cv=cv, scoring=f2_scorer)"
   ]
  },
  {
   "cell_type": "code",
   "execution_count": 72,
   "id": "9e296397",
   "metadata": {},
   "outputs": [],
   "source": [
    "# execute the grid search\n",
    "grid_result = grid.fit(X_train, y_train)"
   ]
  },
  {
   "cell_type": "code",
   "execution_count": 73,
   "id": "ca98eb38",
   "metadata": {},
   "outputs": [
    {
     "name": "stdout",
     "output_type": "stream",
     "text": [
      "Best: 0.600076 using {'scale_pos_weight': 10}\n"
     ]
    }
   ],
   "source": [
    "# report the best configuration\n",
    "print(\"Best: %f using %s\" % (grid_result.best_score_, grid_result.best_params_))\n"
   ]
  },
  {
   "cell_type": "code",
   "execution_count": 74,
   "id": "07140eb2",
   "metadata": {},
   "outputs": [
    {
     "name": "stdout",
     "output_type": "stream",
     "text": [
      "0.477468 (0.012815) with: {'scale_pos_weight': 1}\n",
      "0.600076 (0.016339) with: {'scale_pos_weight': 10}\n",
      "0.567014 (0.011704) with: {'scale_pos_weight': 50}\n",
      "0.356736 (0.014840) with: {'scale_pos_weight': 832}\n",
      "0.342348 (0.012752) with: {'scale_pos_weight': 1200}\n"
     ]
    }
   ],
   "source": [
    "# report all configurations\n",
    "means = grid_result.cv_results_['mean_test_score']\n",
    "stds = grid_result.cv_results_['std_test_score']\n",
    "params = grid_result.cv_results_['params']\n",
    "for mean, stdev, param in zip(means, stds, params):\n",
    "    print(\"%f (%f) with: %r\" % (mean, stdev, param))"
   ]
  },
  {
   "cell_type": "markdown",
   "id": "93e6bbd9",
   "metadata": {},
   "source": [
    "**[8.12]** XGBoost Classifier with random search"
   ]
  },
  {
   "cell_type": "code",
   "execution_count": 61,
   "id": "7880831a",
   "metadata": {},
   "outputs": [],
   "source": [
    "from scipy.stats import randint\n",
    "from scipy.stats import uniform\n",
    "from sklearn.model_selection import RandomizedSearchCV\n",
    "\n",
    "from sklearn.metrics import fbeta_score, make_scorer\n",
    "from sklearn.model_selection import StratifiedKFold\n",
    "from sklearn.model_selection import cross_val_score\n",
    "from sklearn.model_selection import RepeatedStratifiedKFold\n",
    "\n",
    "import xgboost as xgb\n",
    "from xgboost import XGBClassifier"
   ]
  },
  {
   "cell_type": "code",
   "execution_count": 62,
   "id": "c0dafe50",
   "metadata": {},
   "outputs": [
    {
     "data": {
      "text/plain": [
       "{'colsample_bytree': <scipy.stats._distn_infrastructure.rv_continuous_frozen at 0x120a08d35e0>,\n",
       " 'gamma': <scipy.stats._distn_infrastructure.rv_continuous_frozen at 0x120a10d5130>,\n",
       " 'learning_rate': <scipy.stats._distn_infrastructure.rv_continuous_frozen at 0x120a10e5100>,\n",
       " 'max_depth': <scipy.stats._distn_infrastructure.rv_discrete_frozen at 0x120a10d52b0>,\n",
       " 'n_estimators': <scipy.stats._distn_infrastructure.rv_discrete_frozen at 0x120a10e57f0>,\n",
       " 'subsample': <scipy.stats._distn_infrastructure.rv_continuous_frozen at 0x120a10df280>}"
      ]
     },
     "execution_count": 62,
     "metadata": {},
     "output_type": "execute_result"
    }
   ],
   "source": [
    "hyperparams_dist = {\n",
    "    \"colsample_bytree\": uniform(0.7, 0.3),\n",
    "    \"gamma\": uniform(0, 0.5),\n",
    "    \"learning_rate\": uniform(0.03, 0.3), # default 0.1 \n",
    "    \"max_depth\": randint(2, 6), # default 3\n",
    "    \"n_estimators\": randint(100, 150), # default 100\n",
    "    \"subsample\": uniform(0.6, 0.4)\n",
    "    }\n",
    "hyperparams_dist"
   ]
  },
  {
   "cell_type": "code",
   "execution_count": 63,
   "id": "79c1acc6",
   "metadata": {},
   "outputs": [],
   "source": [
    "#custon metric for performance\n",
    "f2_scorer = make_scorer(fbeta_score, beta=2, pos_label=1, average='binary')"
   ]
  },
  {
   "cell_type": "code",
   "execution_count": 64,
   "id": "19bb158d",
   "metadata": {},
   "outputs": [],
   "source": [
    "#instantiate the Classifier \n",
    "model = XGBClassifier(objective=\"binary:logistic\")"
   ]
  },
  {
   "cell_type": "code",
   "execution_count": 65,
   "id": "1dfbc0e5",
   "metadata": {},
   "outputs": [],
   "source": [
    "#Instantiate a KFold \n",
    "cv = RepeatedStratifiedKFold(n_splits=2, n_repeats=2, random_state=42)"
   ]
  },
  {
   "cell_type": "code",
   "execution_count": 66,
   "id": "335a4867",
   "metadata": {},
   "outputs": [],
   "source": [
    "#Instantiate a GridSearchCV\n",
    "random_search = RandomizedSearchCV(model, hyperparams_dist, cv=cv, scoring=f2_scorer, verbose=2, return_train_score = True, n_jobs= -1)"
   ]
  },
  {
   "cell_type": "code",
   "execution_count": 67,
   "id": "83c0b51b",
   "metadata": {
    "scrolled": true
   },
   "outputs": [
    {
     "name": "stdout",
     "output_type": "stream",
     "text": [
      "Fitting 4 folds for each of 10 candidates, totalling 40 fits\n"
     ]
    },
    {
     "data": {
      "text/plain": [
       "RandomizedSearchCV(cv=RepeatedStratifiedKFold(n_repeats=2, n_splits=2, random_state=42),\n",
       "                   estimator=XGBClassifier(base_score=None, booster=None,\n",
       "                                           callbacks=None,\n",
       "                                           colsample_bylevel=None,\n",
       "                                           colsample_bynode=None,\n",
       "                                           colsample_bytree=None,\n",
       "                                           early_stopping_rounds=None,\n",
       "                                           enable_categorical=False,\n",
       "                                           eval_metric=None, feature_types=None,\n",
       "                                           gamma=None, gpu_id=None,\n",
       "                                           grow_policy=None,\n",
       "                                           i...\n",
       "                                        'max_depth': <scipy.stats._distn_infrastructure.rv_discrete_frozen object at 0x00000120A10D52B0>,\n",
       "                                        'n_estimators': <scipy.stats._distn_infrastructure.rv_discrete_frozen object at 0x00000120A10E57F0>,\n",
       "                                        'subsample': <scipy.stats._distn_infrastructure.rv_continuous_frozen object at 0x00000120A10DF280>},\n",
       "                   return_train_score=True,\n",
       "                   scoring=make_scorer(fbeta_score, beta=2, pos_label=1, average=binary),\n",
       "                   verbose=2)"
      ]
     },
     "execution_count": 67,
     "metadata": {},
     "output_type": "execute_result"
    }
   ],
   "source": [
    "#Fit the random Search on the training set\n",
    "random_search.fit(X_train, y_train)"
   ]
  },
  {
   "cell_type": "code",
   "execution_count": 68,
   "id": "d4c9cf74",
   "metadata": {},
   "outputs": [
    {
     "data": {
      "text/plain": [
       "{'colsample_bytree': 0.818698050035146,\n",
       " 'gamma': 0.1336647470095445,\n",
       " 'learning_rate': 0.27968679129212826,\n",
       " 'max_depth': 3,\n",
       " 'n_estimators': 132,\n",
       " 'subsample': 0.8343691639112242}"
      ]
     },
     "execution_count": 68,
     "metadata": {},
     "output_type": "execute_result"
    }
   ],
   "source": [
    "random_search.best_params_"
   ]
  },
  {
   "cell_type": "code",
   "execution_count": 69,
   "id": "1f262514",
   "metadata": {},
   "outputs": [
    {
     "name": "stdout",
     "output_type": "stream",
     "text": [
      "0.5863645398529119\n",
      "0.5659293306521115\n",
      "0.5419466724474312\n"
     ]
    }
   ],
   "source": [
    "print(random_search.score(X_train, y_train))\n",
    "print(random_search.score(X_val, y_val))\n",
    "print(random_search.score(X_test, y_test))"
   ]
  },
  {
   "cell_type": "markdown",
   "id": "0bad7d51",
   "metadata": {},
   "source": [
    "Analysing feature importance in the model"
   ]
  },
  {
   "cell_type": "code",
   "execution_count": 73,
   "id": "3809eedf",
   "metadata": {},
   "outputs": [
    {
     "data": {
      "text/plain": [
       "array([0.0079376 , 0.00714561, 0.0935382 , 0.00414696, 0.0089607 ,\n",
       "       0.01669862, 0.02852396, 0.00910265, 0.0723763 , 0.01496258,\n",
       "       0.01047682, 0.        , 0.02542629, 0.03424619, 0.06769527,\n",
       "       0.03083702, 0.00962043, 0.03263253, 0.01693901, 0.022358  ,\n",
       "       0.02385899, 0.00976133, 0.08118751, 0.03275342, 0.00847292,\n",
       "       0.08956137, 0.11422952, 0.06912413, 0.01248442, 0.0039301 ,\n",
       "       0.00676699, 0.00486565, 0.00365909, 0.00641733, 0.01540881,\n",
       "       0.00389352], dtype=float32)"
      ]
     },
     "execution_count": 73,
     "metadata": {},
     "output_type": "execute_result"
    }
   ],
   "source": [
    "feature_importances = random_search.best_estimator_.feature_importances_\n",
    "feature_importances"
   ]
  },
  {
   "cell_type": "code",
   "execution_count": 74,
   "id": "cc311ef8",
   "metadata": {},
   "outputs": [],
   "source": [
    "X = df_cleaned[['cc_num', 'acct_num', 'amt',\n",
    "                'city_pop', 'entertainment', 'food_dining', 'gas_transport',\n",
    "                'grocery_net', 'grocery_pos', 'health_fitness', 'home', 'kids_pets', 'misc_net',\n",
    "                'misc_pos', 'personal_care', 'shopping_net', 'shopping_pos', 'travel', 'F', 'M',\n",
    "                'city_fraud_percentage', 'Job_fraud_percentage',\n",
    "                'zip_fraud_percentage', 'month', 'weekday', 'hour', 'net', 'other', 'pos',\n",
    "                'merchant_oe', 'city_oe', 'state_oe', 'zip_oe', 'job_oe', 'age_bin_oe', \n",
    "                'dist_from_customer_km']]"
   ]
  },
  {
   "cell_type": "code",
   "execution_count": 75,
   "id": "026cf63b",
   "metadata": {},
   "outputs": [],
   "source": [
    "#dataframe with the values\n",
    "feat_imp = pd.DataFrame(\n",
    "    {\n",
    "        'feature': X.columns,\n",
    "     'feature_importance': feature_importances\n",
    "     }\n",
    ")"
   ]
  },
  {
   "cell_type": "code",
   "execution_count": 76,
   "id": "7071256a",
   "metadata": {
    "scrolled": true
   },
   "outputs": [
    {
     "data": {
      "text/html": [
       "<div>\n",
       "<style scoped>\n",
       "    .dataframe tbody tr th:only-of-type {\n",
       "        vertical-align: middle;\n",
       "    }\n",
       "\n",
       "    .dataframe tbody tr th {\n",
       "        vertical-align: top;\n",
       "    }\n",
       "\n",
       "    .dataframe thead th {\n",
       "        text-align: right;\n",
       "    }\n",
       "</style>\n",
       "<table border=\"1\" class=\"dataframe\">\n",
       "  <thead>\n",
       "    <tr style=\"text-align: right;\">\n",
       "      <th></th>\n",
       "      <th>feature</th>\n",
       "      <th>feature_importance</th>\n",
       "    </tr>\n",
       "  </thead>\n",
       "  <tbody>\n",
       "    <tr>\n",
       "      <th>0</th>\n",
       "      <td>net</td>\n",
       "      <td>0.114230</td>\n",
       "    </tr>\n",
       "    <tr>\n",
       "      <th>1</th>\n",
       "      <td>amt</td>\n",
       "      <td>0.093538</td>\n",
       "    </tr>\n",
       "    <tr>\n",
       "      <th>2</th>\n",
       "      <td>hour</td>\n",
       "      <td>0.089561</td>\n",
       "    </tr>\n",
       "    <tr>\n",
       "      <th>3</th>\n",
       "      <td>zip_fraud_percentage</td>\n",
       "      <td>0.081188</td>\n",
       "    </tr>\n",
       "    <tr>\n",
       "      <th>4</th>\n",
       "      <td>grocery_pos</td>\n",
       "      <td>0.072376</td>\n",
       "    </tr>\n",
       "    <tr>\n",
       "      <th>5</th>\n",
       "      <td>other</td>\n",
       "      <td>0.069124</td>\n",
       "    </tr>\n",
       "    <tr>\n",
       "      <th>6</th>\n",
       "      <td>personal_care</td>\n",
       "      <td>0.067695</td>\n",
       "    </tr>\n",
       "    <tr>\n",
       "      <th>7</th>\n",
       "      <td>misc_pos</td>\n",
       "      <td>0.034246</td>\n",
       "    </tr>\n",
       "    <tr>\n",
       "      <th>8</th>\n",
       "      <td>month</td>\n",
       "      <td>0.032753</td>\n",
       "    </tr>\n",
       "    <tr>\n",
       "      <th>9</th>\n",
       "      <td>travel</td>\n",
       "      <td>0.032633</td>\n",
       "    </tr>\n",
       "    <tr>\n",
       "      <th>10</th>\n",
       "      <td>shopping_net</td>\n",
       "      <td>0.030837</td>\n",
       "    </tr>\n",
       "    <tr>\n",
       "      <th>11</th>\n",
       "      <td>gas_transport</td>\n",
       "      <td>0.028524</td>\n",
       "    </tr>\n",
       "    <tr>\n",
       "      <th>12</th>\n",
       "      <td>misc_net</td>\n",
       "      <td>0.025426</td>\n",
       "    </tr>\n",
       "    <tr>\n",
       "      <th>13</th>\n",
       "      <td>city_fraud_percentage</td>\n",
       "      <td>0.023859</td>\n",
       "    </tr>\n",
       "    <tr>\n",
       "      <th>14</th>\n",
       "      <td>M</td>\n",
       "      <td>0.022358</td>\n",
       "    </tr>\n",
       "    <tr>\n",
       "      <th>15</th>\n",
       "      <td>F</td>\n",
       "      <td>0.016939</td>\n",
       "    </tr>\n",
       "    <tr>\n",
       "      <th>16</th>\n",
       "      <td>food_dining</td>\n",
       "      <td>0.016699</td>\n",
       "    </tr>\n",
       "    <tr>\n",
       "      <th>17</th>\n",
       "      <td>age_bin_oe</td>\n",
       "      <td>0.015409</td>\n",
       "    </tr>\n",
       "    <tr>\n",
       "      <th>18</th>\n",
       "      <td>health_fitness</td>\n",
       "      <td>0.014963</td>\n",
       "    </tr>\n",
       "    <tr>\n",
       "      <th>19</th>\n",
       "      <td>pos</td>\n",
       "      <td>0.012484</td>\n",
       "    </tr>\n",
       "    <tr>\n",
       "      <th>20</th>\n",
       "      <td>home</td>\n",
       "      <td>0.010477</td>\n",
       "    </tr>\n",
       "    <tr>\n",
       "      <th>21</th>\n",
       "      <td>Job_fraud_percentage</td>\n",
       "      <td>0.009761</td>\n",
       "    </tr>\n",
       "    <tr>\n",
       "      <th>22</th>\n",
       "      <td>shopping_pos</td>\n",
       "      <td>0.009620</td>\n",
       "    </tr>\n",
       "    <tr>\n",
       "      <th>23</th>\n",
       "      <td>grocery_net</td>\n",
       "      <td>0.009103</td>\n",
       "    </tr>\n",
       "    <tr>\n",
       "      <th>24</th>\n",
       "      <td>entertainment</td>\n",
       "      <td>0.008961</td>\n",
       "    </tr>\n",
       "    <tr>\n",
       "      <th>25</th>\n",
       "      <td>weekday</td>\n",
       "      <td>0.008473</td>\n",
       "    </tr>\n",
       "    <tr>\n",
       "      <th>26</th>\n",
       "      <td>cc_num</td>\n",
       "      <td>0.007938</td>\n",
       "    </tr>\n",
       "    <tr>\n",
       "      <th>27</th>\n",
       "      <td>acct_num</td>\n",
       "      <td>0.007146</td>\n",
       "    </tr>\n",
       "    <tr>\n",
       "      <th>28</th>\n",
       "      <td>city_oe</td>\n",
       "      <td>0.006767</td>\n",
       "    </tr>\n",
       "    <tr>\n",
       "      <th>29</th>\n",
       "      <td>job_oe</td>\n",
       "      <td>0.006417</td>\n",
       "    </tr>\n",
       "    <tr>\n",
       "      <th>30</th>\n",
       "      <td>state_oe</td>\n",
       "      <td>0.004866</td>\n",
       "    </tr>\n",
       "    <tr>\n",
       "      <th>31</th>\n",
       "      <td>city_pop</td>\n",
       "      <td>0.004147</td>\n",
       "    </tr>\n",
       "    <tr>\n",
       "      <th>32</th>\n",
       "      <td>merchant_oe</td>\n",
       "      <td>0.003930</td>\n",
       "    </tr>\n",
       "    <tr>\n",
       "      <th>33</th>\n",
       "      <td>dist_from_customer_km</td>\n",
       "      <td>0.003894</td>\n",
       "    </tr>\n",
       "    <tr>\n",
       "      <th>34</th>\n",
       "      <td>zip_oe</td>\n",
       "      <td>0.003659</td>\n",
       "    </tr>\n",
       "    <tr>\n",
       "      <th>35</th>\n",
       "      <td>kids_pets</td>\n",
       "      <td>0.000000</td>\n",
       "    </tr>\n",
       "  </tbody>\n",
       "</table>\n",
       "</div>"
      ],
      "text/plain": [
       "                  feature  feature_importance\n",
       "0                     net            0.114230\n",
       "1                     amt            0.093538\n",
       "2                    hour            0.089561\n",
       "3    zip_fraud_percentage            0.081188\n",
       "4             grocery_pos            0.072376\n",
       "5                   other            0.069124\n",
       "6           personal_care            0.067695\n",
       "7                misc_pos            0.034246\n",
       "8                   month            0.032753\n",
       "9                  travel            0.032633\n",
       "10           shopping_net            0.030837\n",
       "11          gas_transport            0.028524\n",
       "12               misc_net            0.025426\n",
       "13  city_fraud_percentage            0.023859\n",
       "14                      M            0.022358\n",
       "15                      F            0.016939\n",
       "16            food_dining            0.016699\n",
       "17             age_bin_oe            0.015409\n",
       "18         health_fitness            0.014963\n",
       "19                    pos            0.012484\n",
       "20                   home            0.010477\n",
       "21   Job_fraud_percentage            0.009761\n",
       "22           shopping_pos            0.009620\n",
       "23            grocery_net            0.009103\n",
       "24          entertainment            0.008961\n",
       "25                weekday            0.008473\n",
       "26                 cc_num            0.007938\n",
       "27               acct_num            0.007146\n",
       "28                city_oe            0.006767\n",
       "29                 job_oe            0.006417\n",
       "30               state_oe            0.004866\n",
       "31               city_pop            0.004147\n",
       "32            merchant_oe            0.003930\n",
       "33  dist_from_customer_km            0.003894\n",
       "34                 zip_oe            0.003659\n",
       "35              kids_pets            0.000000"
      ]
     },
     "execution_count": 76,
     "metadata": {},
     "output_type": "execute_result"
    }
   ],
   "source": [
    "feat_imp = feat_imp.sort_values('feature_importance', ascending=False).reset_index(drop=True)\n",
    "feat_imp"
   ]
  },
  {
   "cell_type": "markdown",
   "id": "8c66e4d3",
   "metadata": {},
   "source": [
    "**[8.13]** Default XGBoost Classifier with different variables"
   ]
  },
  {
   "cell_type": "code",
   "execution_count": 287,
   "id": "e0cfa748",
   "metadata": {},
   "outputs": [],
   "source": [
    "from sklearn.metrics import make_scorer\n",
    "\n",
    "from scipy.stats import randint\n",
    "from sklearn.model_selection import RandomizedSearchCV\n",
    "\n",
    "from sklearn.model_selection import StratifiedKFold\n",
    "from sklearn.model_selection import cross_val_score\n",
    "from sklearn.model_selection import RepeatedStratifiedKFold\n",
    "\n",
    "import xgboost as xgb\n",
    "from xgboost import XGBClassifier\n",
    "\n",
    "from sklearn.metrics import accuracy_score, precision_score, recall_score, f1_score, average_precision_score, fbeta_score\n",
    "from sklearn.metrics import auc, precision_recall_curve"
   ]
  },
  {
   "cell_type": "markdown",
   "id": "84fd4eb9",
   "metadata": {},
   "source": [
    "**[8.13.1] variables:**\n",
    "\n",
    "'amt', 'zip', 'city_pop', 'food_dining',\n",
    "       'gas_transport', 'grocery_net', 'grocery_pos', 'health_fitness', 'home',\n",
    "       'kids_pets', 'misc_net', 'misc_pos', 'personal_care', 'shopping_net',\n",
    "       'shopping_pos', 'travel', 'M','month', 'weekday', 'hour',\n",
    "       'net', 'pos', 'lat_2', 'long_2', '46-60', '61-75', '< 30', '> 75'"
   ]
  },
  {
   "cell_type": "code",
   "execution_count": null,
   "id": "01bf9a3a",
   "metadata": {},
   "outputs": [],
   "source": [
    "xgb_model = xgb.XGBClassifier(objective=\"binary:logistic\", random_state=42)\n",
    "xgb_model.fit(X_train, y_train)"
   ]
  },
  {
   "cell_type": "code",
   "execution_count": 292,
   "id": "2f73db3e",
   "metadata": {},
   "outputs": [],
   "source": [
    "y_train_preds = xgb_model.predict(X_train)"
   ]
  },
  {
   "cell_type": "code",
   "execution_count": 293,
   "id": "8d93eee8",
   "metadata": {},
   "outputs": [
    {
     "name": "stdout",
     "output_type": "stream",
     "text": [
      "0.99953428300485\n",
      "0.999489436769679\n",
      "0.9521444695259593\n",
      "0.6443629697525206\n",
      "0.6139534841450237\n",
      "0.6889005030378258\n"
     ]
    }
   ],
   "source": [
    "#score for the train set\n",
    "print(accuracy_score(y_train, y_train_preds))\n",
    "print(f1_score(y_train, y_train_preds, average='weighted'))\n",
    "print(precision_score(y_train, y_train_preds))\n",
    "print(recall_score(y_train, y_train_preds))\n",
    "print(average_precision_score(y_train, y_train_preds))\n",
    "print(fbeta_score(y_train, y_train_preds, beta=2, pos_label=1, average='binary'))"
   ]
  },
  {
   "cell_type": "code",
   "execution_count": 294,
   "id": "6ead76a5",
   "metadata": {},
   "outputs": [
    {
     "name": "stdout",
     "output_type": "stream",
     "text": [
      "0.9994587419049644\n",
      "0.9993951866874109\n",
      "0.9122055674518201\n",
      "0.5649867374005305\n",
      "0.5158651656999017\n",
      "0.611541774332472\n"
     ]
    }
   ],
   "source": [
    "#score for the validation set\n",
    "y_val_preds = xgb_model.predict(X_val)\n",
    "print(accuracy_score(y_val, y_val_preds))\n",
    "print(f1_score(y_val, y_val_preds, average='weighted'))\n",
    "print(precision_score(y_val, y_val_preds))\n",
    "print(recall_score(y_val, y_val_preds))\n",
    "print(average_precision_score(y_val, y_val_preds))\n",
    "print(fbeta_score(y_val, y_val_preds, beta=2, pos_label=1, average='binary'))"
   ]
  },
  {
   "cell_type": "code",
   "execution_count": 295,
   "id": "f7b1830d",
   "metadata": {},
   "outputs": [
    {
     "name": "stdout",
     "output_type": "stream",
     "text": [
      "0.9993933213718682\n",
      "0.9993151443921379\n",
      "0.9124579124579124\n",
      "0.5382323733862959\n",
      "0.4916600465647572\n",
      "0.5863262656858503\n"
     ]
    }
   ],
   "source": [
    "#score for the test set\n",
    "y_test_preds = xgb_model.predict(X_test)\n",
    "print(accuracy_score(y_test, y_test_preds))\n",
    "print(f1_score(y_test, y_test_preds, average='weighted'))\n",
    "print(precision_score(y_test, y_test_preds))\n",
    "print(recall_score(y_test, y_test_preds))\n",
    "print(average_precision_score(y_test, y_test_preds))\n",
    "print(fbeta_score(y_test, y_test_preds, beta=2, pos_label=1, average='binary'))"
   ]
  },
  {
   "cell_type": "code",
   "execution_count": 296,
   "id": "628d3fdc",
   "metadata": {},
   "outputs": [
    {
     "data": {
      "text/plain": [
       "array([0.08010787, 0.01361126, 0.01328484, 0.02312145, 0.03286202,\n",
       "       0.02078941, 0.04768879, 0.05898437, 0.02649907, 0.01987093,\n",
       "       0.03855354, 0.0293787 , 0.06509543, 0.0374587 , 0.04625414,\n",
       "       0.05048925, 0.02585881, 0.03726157, 0.01206993, 0.07075191,\n",
       "       0.07848722, 0.03634626, 0.01264226, 0.01226365, 0.02770399,\n",
       "       0.03035532, 0.02380819, 0.02840098], dtype=float32)"
      ]
     },
     "execution_count": 296,
     "metadata": {},
     "output_type": "execute_result"
    }
   ],
   "source": [
    "feature_importances = xgb_model.feature_importances_\n",
    "feature_importances"
   ]
  },
  {
   "cell_type": "code",
   "execution_count": 297,
   "id": "11357ed2",
   "metadata": {},
   "outputs": [],
   "source": [
    "X = df_cleaned[['amt', 'zip', 'city_pop', 'food_dining',\n",
    "       'gas_transport', 'grocery_net', 'grocery_pos', 'health_fitness', 'home',\n",
    "       'kids_pets', 'misc_net', 'misc_pos', 'personal_care', 'shopping_net',\n",
    "       'shopping_pos', 'travel', 'M','month', 'weekday', 'hour',\n",
    "       'net', 'pos', 'lat_2', 'long_2', '46-60', '61-75', '< 30', '> 75']]"
   ]
  },
  {
   "cell_type": "code",
   "execution_count": 298,
   "id": "0d58e22a",
   "metadata": {},
   "outputs": [],
   "source": [
    "#dataframe with the values\n",
    "feat_imp = pd.DataFrame(\n",
    "    {\n",
    "        'feature': X.columns,\n",
    "     'feature_importance': feature_importances\n",
    "     }\n",
    ")"
   ]
  },
  {
   "cell_type": "code",
   "execution_count": 299,
   "id": "2b5eb839",
   "metadata": {},
   "outputs": [
    {
     "data": {
      "text/html": [
       "<div>\n",
       "<style scoped>\n",
       "    .dataframe tbody tr th:only-of-type {\n",
       "        vertical-align: middle;\n",
       "    }\n",
       "\n",
       "    .dataframe tbody tr th {\n",
       "        vertical-align: top;\n",
       "    }\n",
       "\n",
       "    .dataframe thead th {\n",
       "        text-align: right;\n",
       "    }\n",
       "</style>\n",
       "<table border=\"1\" class=\"dataframe\">\n",
       "  <thead>\n",
       "    <tr style=\"text-align: right;\">\n",
       "      <th></th>\n",
       "      <th>feature</th>\n",
       "      <th>feature_importance</th>\n",
       "    </tr>\n",
       "  </thead>\n",
       "  <tbody>\n",
       "    <tr>\n",
       "      <th>0</th>\n",
       "      <td>amt</td>\n",
       "      <td>0.080108</td>\n",
       "    </tr>\n",
       "    <tr>\n",
       "      <th>1</th>\n",
       "      <td>net</td>\n",
       "      <td>0.078487</td>\n",
       "    </tr>\n",
       "    <tr>\n",
       "      <th>2</th>\n",
       "      <td>hour</td>\n",
       "      <td>0.070752</td>\n",
       "    </tr>\n",
       "    <tr>\n",
       "      <th>3</th>\n",
       "      <td>personal_care</td>\n",
       "      <td>0.065095</td>\n",
       "    </tr>\n",
       "    <tr>\n",
       "      <th>4</th>\n",
       "      <td>health_fitness</td>\n",
       "      <td>0.058984</td>\n",
       "    </tr>\n",
       "    <tr>\n",
       "      <th>5</th>\n",
       "      <td>travel</td>\n",
       "      <td>0.050489</td>\n",
       "    </tr>\n",
       "    <tr>\n",
       "      <th>6</th>\n",
       "      <td>grocery_pos</td>\n",
       "      <td>0.047689</td>\n",
       "    </tr>\n",
       "    <tr>\n",
       "      <th>7</th>\n",
       "      <td>shopping_pos</td>\n",
       "      <td>0.046254</td>\n",
       "    </tr>\n",
       "    <tr>\n",
       "      <th>8</th>\n",
       "      <td>misc_net</td>\n",
       "      <td>0.038554</td>\n",
       "    </tr>\n",
       "    <tr>\n",
       "      <th>9</th>\n",
       "      <td>shopping_net</td>\n",
       "      <td>0.037459</td>\n",
       "    </tr>\n",
       "    <tr>\n",
       "      <th>10</th>\n",
       "      <td>month</td>\n",
       "      <td>0.037262</td>\n",
       "    </tr>\n",
       "    <tr>\n",
       "      <th>11</th>\n",
       "      <td>pos</td>\n",
       "      <td>0.036346</td>\n",
       "    </tr>\n",
       "    <tr>\n",
       "      <th>12</th>\n",
       "      <td>gas_transport</td>\n",
       "      <td>0.032862</td>\n",
       "    </tr>\n",
       "    <tr>\n",
       "      <th>13</th>\n",
       "      <td>61-75</td>\n",
       "      <td>0.030355</td>\n",
       "    </tr>\n",
       "    <tr>\n",
       "      <th>14</th>\n",
       "      <td>misc_pos</td>\n",
       "      <td>0.029379</td>\n",
       "    </tr>\n",
       "    <tr>\n",
       "      <th>15</th>\n",
       "      <td>&gt; 75</td>\n",
       "      <td>0.028401</td>\n",
       "    </tr>\n",
       "    <tr>\n",
       "      <th>16</th>\n",
       "      <td>46-60</td>\n",
       "      <td>0.027704</td>\n",
       "    </tr>\n",
       "    <tr>\n",
       "      <th>17</th>\n",
       "      <td>home</td>\n",
       "      <td>0.026499</td>\n",
       "    </tr>\n",
       "    <tr>\n",
       "      <th>18</th>\n",
       "      <td>M</td>\n",
       "      <td>0.025859</td>\n",
       "    </tr>\n",
       "    <tr>\n",
       "      <th>19</th>\n",
       "      <td>&lt; 30</td>\n",
       "      <td>0.023808</td>\n",
       "    </tr>\n",
       "    <tr>\n",
       "      <th>20</th>\n",
       "      <td>food_dining</td>\n",
       "      <td>0.023121</td>\n",
       "    </tr>\n",
       "    <tr>\n",
       "      <th>21</th>\n",
       "      <td>grocery_net</td>\n",
       "      <td>0.020789</td>\n",
       "    </tr>\n",
       "    <tr>\n",
       "      <th>22</th>\n",
       "      <td>kids_pets</td>\n",
       "      <td>0.019871</td>\n",
       "    </tr>\n",
       "    <tr>\n",
       "      <th>23</th>\n",
       "      <td>zip</td>\n",
       "      <td>0.013611</td>\n",
       "    </tr>\n",
       "    <tr>\n",
       "      <th>24</th>\n",
       "      <td>city_pop</td>\n",
       "      <td>0.013285</td>\n",
       "    </tr>\n",
       "    <tr>\n",
       "      <th>25</th>\n",
       "      <td>lat_2</td>\n",
       "      <td>0.012642</td>\n",
       "    </tr>\n",
       "    <tr>\n",
       "      <th>26</th>\n",
       "      <td>long_2</td>\n",
       "      <td>0.012264</td>\n",
       "    </tr>\n",
       "    <tr>\n",
       "      <th>27</th>\n",
       "      <td>weekday</td>\n",
       "      <td>0.012070</td>\n",
       "    </tr>\n",
       "  </tbody>\n",
       "</table>\n",
       "</div>"
      ],
      "text/plain": [
       "           feature  feature_importance\n",
       "0              amt            0.080108\n",
       "1              net            0.078487\n",
       "2             hour            0.070752\n",
       "3    personal_care            0.065095\n",
       "4   health_fitness            0.058984\n",
       "5           travel            0.050489\n",
       "6      grocery_pos            0.047689\n",
       "7     shopping_pos            0.046254\n",
       "8         misc_net            0.038554\n",
       "9     shopping_net            0.037459\n",
       "10           month            0.037262\n",
       "11             pos            0.036346\n",
       "12   gas_transport            0.032862\n",
       "13           61-75            0.030355\n",
       "14        misc_pos            0.029379\n",
       "15            > 75            0.028401\n",
       "16           46-60            0.027704\n",
       "17            home            0.026499\n",
       "18               M            0.025859\n",
       "19            < 30            0.023808\n",
       "20     food_dining            0.023121\n",
       "21     grocery_net            0.020789\n",
       "22       kids_pets            0.019871\n",
       "23             zip            0.013611\n",
       "24        city_pop            0.013285\n",
       "25           lat_2            0.012642\n",
       "26          long_2            0.012264\n",
       "27         weekday            0.012070"
      ]
     },
     "execution_count": 299,
     "metadata": {},
     "output_type": "execute_result"
    }
   ],
   "source": [
    "feat_imp = feat_imp.sort_values('feature_importance', ascending=False).reset_index(drop=True)\n",
    "feat_imp"
   ]
  },
  {
   "cell_type": "markdown",
   "id": "10aaae39",
   "metadata": {},
   "source": [
    "**[8.13.2] variables:**\n",
    "\n",
    "'amt', 'zip', 'city_pop', 'food_dining',\n",
    "       'gas_transport', 'grocery_net', 'grocery_pos', 'health_fitness', 'home',\n",
    "       'kids_pets', 'misc_net', 'misc_pos', 'personal_care', 'shopping_net',\n",
    "       'shopping_pos', 'travel', 'M','month', 'weekday', 'hour',\n",
    "       'net', 'pos', 'lat_2', 'long_2', '46-60', '61-75', '< 30', '> 75'\n",
    "       "
   ]
  },
  {
   "cell_type": "code",
   "execution_count": 300,
   "id": "0ce5a9bc",
   "metadata": {},
   "outputs": [],
   "source": [
    "xgb_model = xgb.XGBClassifier(objective=\"binary:logistic\", random_state=42, colsample_bytree= 0.818698050035146,\n",
    "                                     gamma= 0.1336647470095445,\n",
    "                                     learning_rate= 0.27968679129212826,\n",
    "                                     n_estimators= 132,\n",
    "                                     subsample= 0.8343691639112242)\n",
    "\n"
   ]
  },
  {
   "cell_type": "code",
   "execution_count": 301,
   "id": "1d6ea8ee",
   "metadata": {},
   "outputs": [
    {
     "data": {
      "text/plain": [
       "XGBClassifier(base_score=None, booster=None, callbacks=None,\n",
       "              colsample_bylevel=None, colsample_bynode=None,\n",
       "              colsample_bytree=0.8227637857953034, early_stopping_rounds=None,\n",
       "              enable_categorical=False, eval_metric=None, feature_types=None,\n",
       "              gamma=0.334151884264991, gpu_id=None, grow_policy=None,\n",
       "              importance_type=None, interaction_constraints=None,\n",
       "              learning_rate=0.3069476399304901, max_bin=None,\n",
       "              max_cat_threshold=None, max_cat_to_onehot=None,\n",
       "              max_delta_step=None, max_depth=5, max_leaves=None,\n",
       "              min_child_weight=None, missing=nan, monotone_constraints=None,\n",
       "              n_estimators=144, n_jobs=None, num_parallel_tree=None,\n",
       "              predictor=None, random_state=42, ...)"
      ]
     },
     "execution_count": 301,
     "metadata": {},
     "output_type": "execute_result"
    }
   ],
   "source": [
    "xgb_model.fit(X_train, y_train)"
   ]
  },
  {
   "cell_type": "code",
   "execution_count": 302,
   "id": "90df3fe0",
   "metadata": {},
   "outputs": [],
   "source": [
    "y_train_preds = xgb_model.predict(X_train)"
   ]
  },
  {
   "cell_type": "code",
   "execution_count": 303,
   "id": "279dcf7c",
   "metadata": {},
   "outputs": [
    {
     "name": "stdout",
     "output_type": "stream",
     "text": [
      "0.9995346497111455\n",
      "0.9994886717519176\n",
      "0.9571167883211679\n",
      "0.641002138710663\n",
      "0.6139447882068371\n",
      "0.6863386548024077\n"
     ]
    }
   ],
   "source": [
    "#score for the train set\n",
    "print(accuracy_score(y_train, y_train_preds))\n",
    "print(f1_score(y_train, y_train_preds, average='weighted'))\n",
    "print(precision_score(y_train, y_train_preds))\n",
    "print(recall_score(y_train, y_train_preds))\n",
    "print(average_precision_score(y_train, y_train_preds))\n",
    "print(fbeta_score(y_train, y_train_preds, beta=2, pos_label=1, average='binary'))"
   ]
  },
  {
   "cell_type": "code",
   "execution_count": 304,
   "id": "ad0cbece",
   "metadata": {},
   "outputs": [
    {
     "name": "stdout",
     "output_type": "stream",
     "text": [
      "0.9994528746085413\n",
      "0.9993875207654945\n",
      "0.9114470842332614\n",
      "0.5596816976127321\n",
      "0.510607236990968\n",
      "0.6064961195745904\n"
     ]
    }
   ],
   "source": [
    "#score for the validation set\n",
    "y_val_preds = xgb_model.predict(X_val)\n",
    "print(accuracy_score(y_val, y_val_preds))\n",
    "print(f1_score(y_val, y_val_preds, average='weighted'))\n",
    "print(precision_score(y_val, y_val_preds))\n",
    "print(recall_score(y_val, y_val_preds))\n",
    "print(average_precision_score(y_val, y_val_preds))\n",
    "print(fbeta_score(y_val, y_val_preds, beta=2, pos_label=1, average='binary'))"
   ]
  },
  {
   "cell_type": "code",
   "execution_count": 305,
   "id": "bf57df84",
   "metadata": {},
   "outputs": [
    {
     "name": "stdout",
     "output_type": "stream",
     "text": [
      "0.9994003621296415\n",
      "0.9993249662764468\n",
      "0.9119601328903655\n",
      "0.5451837140019861\n",
      "0.49772325678094204\n",
      "0.5928725701943844\n"
     ]
    }
   ],
   "source": [
    "#score for the test set\n",
    "y_test_preds = xgb_model.predict(X_test)\n",
    "print(accuracy_score(y_test, y_test_preds))\n",
    "print(f1_score(y_test, y_test_preds, average='weighted'))\n",
    "print(precision_score(y_test, y_test_preds))\n",
    "print(recall_score(y_test, y_test_preds))\n",
    "print(average_precision_score(y_test, y_test_preds))\n",
    "print(fbeta_score(y_test, y_test_preds, beta=2, pos_label=1, average='binary'))"
   ]
  },
  {
   "cell_type": "code",
   "execution_count": 306,
   "id": "f0d48450",
   "metadata": {},
   "outputs": [
    {
     "data": {
      "text/html": [
       "<div>\n",
       "<style scoped>\n",
       "    .dataframe tbody tr th:only-of-type {\n",
       "        vertical-align: middle;\n",
       "    }\n",
       "\n",
       "    .dataframe tbody tr th {\n",
       "        vertical-align: top;\n",
       "    }\n",
       "\n",
       "    .dataframe thead th {\n",
       "        text-align: right;\n",
       "    }\n",
       "</style>\n",
       "<table border=\"1\" class=\"dataframe\">\n",
       "  <thead>\n",
       "    <tr style=\"text-align: right;\">\n",
       "      <th></th>\n",
       "      <th>feature</th>\n",
       "      <th>feature_importance</th>\n",
       "    </tr>\n",
       "  </thead>\n",
       "  <tbody>\n",
       "    <tr>\n",
       "      <th>0</th>\n",
       "      <td>amt</td>\n",
       "      <td>0.088958</td>\n",
       "    </tr>\n",
       "    <tr>\n",
       "      <th>1</th>\n",
       "      <td>hour</td>\n",
       "      <td>0.073283</td>\n",
       "    </tr>\n",
       "    <tr>\n",
       "      <th>2</th>\n",
       "      <td>net</td>\n",
       "      <td>0.064489</td>\n",
       "    </tr>\n",
       "    <tr>\n",
       "      <th>3</th>\n",
       "      <td>health_fitness</td>\n",
       "      <td>0.058786</td>\n",
       "    </tr>\n",
       "    <tr>\n",
       "      <th>4</th>\n",
       "      <td>misc_net</td>\n",
       "      <td>0.052944</td>\n",
       "    </tr>\n",
       "    <tr>\n",
       "      <th>5</th>\n",
       "      <td>travel</td>\n",
       "      <td>0.052420</td>\n",
       "    </tr>\n",
       "    <tr>\n",
       "      <th>6</th>\n",
       "      <td>grocery_pos</td>\n",
       "      <td>0.045107</td>\n",
       "    </tr>\n",
       "    <tr>\n",
       "      <th>7</th>\n",
       "      <td>shopping_net</td>\n",
       "      <td>0.044755</td>\n",
       "    </tr>\n",
       "    <tr>\n",
       "      <th>8</th>\n",
       "      <td>pos</td>\n",
       "      <td>0.043315</td>\n",
       "    </tr>\n",
       "    <tr>\n",
       "      <th>9</th>\n",
       "      <td>personal_care</td>\n",
       "      <td>0.039264</td>\n",
       "    </tr>\n",
       "    <tr>\n",
       "      <th>10</th>\n",
       "      <td>61-75</td>\n",
       "      <td>0.039238</td>\n",
       "    </tr>\n",
       "    <tr>\n",
       "      <th>11</th>\n",
       "      <td>shopping_pos</td>\n",
       "      <td>0.038631</td>\n",
       "    </tr>\n",
       "    <tr>\n",
       "      <th>12</th>\n",
       "      <td>misc_pos</td>\n",
       "      <td>0.037176</td>\n",
       "    </tr>\n",
       "    <tr>\n",
       "      <th>13</th>\n",
       "      <td>&lt; 30</td>\n",
       "      <td>0.035284</td>\n",
       "    </tr>\n",
       "    <tr>\n",
       "      <th>14</th>\n",
       "      <td>month</td>\n",
       "      <td>0.033975</td>\n",
       "    </tr>\n",
       "    <tr>\n",
       "      <th>15</th>\n",
       "      <td>gas_transport</td>\n",
       "      <td>0.033693</td>\n",
       "    </tr>\n",
       "    <tr>\n",
       "      <th>16</th>\n",
       "      <td>food_dining</td>\n",
       "      <td>0.031970</td>\n",
       "    </tr>\n",
       "    <tr>\n",
       "      <th>17</th>\n",
       "      <td>&gt; 75</td>\n",
       "      <td>0.028950</td>\n",
       "    </tr>\n",
       "    <tr>\n",
       "      <th>18</th>\n",
       "      <td>M</td>\n",
       "      <td>0.024185</td>\n",
       "    </tr>\n",
       "    <tr>\n",
       "      <th>19</th>\n",
       "      <td>grocery_net</td>\n",
       "      <td>0.021052</td>\n",
       "    </tr>\n",
       "    <tr>\n",
       "      <th>20</th>\n",
       "      <td>home</td>\n",
       "      <td>0.019484</td>\n",
       "    </tr>\n",
       "    <tr>\n",
       "      <th>21</th>\n",
       "      <td>kids_pets</td>\n",
       "      <td>0.019193</td>\n",
       "    </tr>\n",
       "    <tr>\n",
       "      <th>22</th>\n",
       "      <td>46-60</td>\n",
       "      <td>0.016331</td>\n",
       "    </tr>\n",
       "    <tr>\n",
       "      <th>23</th>\n",
       "      <td>city_pop</td>\n",
       "      <td>0.012250</td>\n",
       "    </tr>\n",
       "    <tr>\n",
       "      <th>24</th>\n",
       "      <td>zip</td>\n",
       "      <td>0.012156</td>\n",
       "    </tr>\n",
       "    <tr>\n",
       "      <th>25</th>\n",
       "      <td>long_2</td>\n",
       "      <td>0.011675</td>\n",
       "    </tr>\n",
       "    <tr>\n",
       "      <th>26</th>\n",
       "      <td>lat_2</td>\n",
       "      <td>0.011172</td>\n",
       "    </tr>\n",
       "    <tr>\n",
       "      <th>27</th>\n",
       "      <td>weekday</td>\n",
       "      <td>0.010263</td>\n",
       "    </tr>\n",
       "  </tbody>\n",
       "</table>\n",
       "</div>"
      ],
      "text/plain": [
       "           feature  feature_importance\n",
       "0              amt            0.088958\n",
       "1             hour            0.073283\n",
       "2              net            0.064489\n",
       "3   health_fitness            0.058786\n",
       "4         misc_net            0.052944\n",
       "5           travel            0.052420\n",
       "6      grocery_pos            0.045107\n",
       "7     shopping_net            0.044755\n",
       "8              pos            0.043315\n",
       "9    personal_care            0.039264\n",
       "10           61-75            0.039238\n",
       "11    shopping_pos            0.038631\n",
       "12        misc_pos            0.037176\n",
       "13            < 30            0.035284\n",
       "14           month            0.033975\n",
       "15   gas_transport            0.033693\n",
       "16     food_dining            0.031970\n",
       "17            > 75            0.028950\n",
       "18               M            0.024185\n",
       "19     grocery_net            0.021052\n",
       "20            home            0.019484\n",
       "21       kids_pets            0.019193\n",
       "22           46-60            0.016331\n",
       "23        city_pop            0.012250\n",
       "24             zip            0.012156\n",
       "25          long_2            0.011675\n",
       "26           lat_2            0.011172\n",
       "27         weekday            0.010263"
      ]
     },
     "execution_count": 306,
     "metadata": {},
     "output_type": "execute_result"
    }
   ],
   "source": [
    "feature_importances = xgb_model.feature_importances_\n",
    "\n",
    "X = df_cleaned[['amt', 'zip', 'city_pop', 'food_dining',\n",
    "       'gas_transport', 'grocery_net', 'grocery_pos', 'health_fitness', 'home',\n",
    "       'kids_pets', 'misc_net', 'misc_pos', 'personal_care', 'shopping_net',\n",
    "       'shopping_pos', 'travel', 'M','month', 'weekday', 'hour',\n",
    "       'net', 'pos', 'lat_2', 'long_2', '46-60', '61-75', '< 30', '> 75']]\n",
    "\n",
    "#dataframe with the values\n",
    "feat_imp = pd.DataFrame(\n",
    "    {\n",
    "        'feature': X.columns,\n",
    "     'feature_importance': feature_importances\n",
    "     }\n",
    ")\n",
    "\n",
    "feat_imp = feat_imp.sort_values('feature_importance', ascending=False).reset_index(drop=True)\n",
    "feat_imp"
   ]
  },
  {
   "cell_type": "markdown",
   "id": "2d4bd44c",
   "metadata": {},
   "source": [
    "**[8.13.3] variables:**\n",
    "\n",
    "'cc_num', 'acct_num', 'amt', 'city_pop', \n",
    "                'entertainment', 'food_dining', 'gas_transport', 'grocery_net', 'grocery_pos', \n",
    "                'health_fitness', 'home', 'kids_pets', 'misc_net', 'misc_pos', 'personal_care', 'shopping_net',\n",
    "                'shopping_pos', 'travel', 'F', 'M', 'city_fraud_percentage', 'AK', 'AL', 'AR', 'AZ', 'CA', 'CO',\n",
    "                'CT', 'DC', 'DE', 'FL', 'GA', 'HI', 'IA', 'ID', 'IL', 'IN', 'KS', 'KY', 'LA', 'MA', 'MD', 'ME', \n",
    "                'MI', 'MN', 'MO', 'MS', 'MT', 'NC', 'ND', 'NE', 'NH', 'NJ', 'NM', 'NV', 'NY', 'OH', 'OK', 'OR', \n",
    "                'PA', 'RI', 'SC', 'SD', 'TN', 'TX', 'UT', 'VA', 'VT', 'WA', 'WI', 'WV', 'WY', 'Job_fraud_percentage', \n",
    "                'zip_fraud_percentage', 'month', 'weekday', 'hour', 'net', 'other', 'pos', \n",
    "                'lat_2', 'long_2', '30-45', '46-60', '61-75', '< 30', '> 75'"
   ]
  },
  {
   "cell_type": "code",
   "execution_count": 83,
   "id": "38c7bf86",
   "metadata": {},
   "outputs": [
    {
     "data": {
      "text/plain": [
       "XGBClassifier(base_score=None, booster=None, callbacks=None,\n",
       "              colsample_bylevel=None, colsample_bynode=None,\n",
       "              colsample_bytree=0.8227637857953034, early_stopping_rounds=None,\n",
       "              enable_categorical=False, eval_metric=None, feature_types=None,\n",
       "              gamma=0.334151884264991, gpu_id=None, grow_policy=None,\n",
       "              importance_type=None, interaction_constraints=None,\n",
       "              learning_rate=0.3069476399304901, max_bin=None,\n",
       "              max_cat_threshold=None, max_cat_to_onehot=None,\n",
       "              max_delta_step=None, max_depth=5, max_leaves=None,\n",
       "              min_child_weight=None, missing=nan, monotone_constraints=None,\n",
       "              n_estimators=144, n_jobs=None, num_parallel_tree=None,\n",
       "              predictor=None, random_state=42, ...)"
      ]
     },
     "execution_count": 83,
     "metadata": {},
     "output_type": "execute_result"
    }
   ],
   "source": [
    "xgb_model = xgb.XGBClassifier(objective=\"binary:logistic\", random_state=42, colsample_bytree= 0.818698050035146,\n",
    "                                     gamma= 0.1336647470095445,\n",
    "                                     learning_rate= 0.27968679129212826,\n",
    "                                     n_estimators= 132,\n",
    "                                     subsample= 0.8343691639112242)\n",
    "xgb_model.fit(X_train, y_train)"
   ]
  },
  {
   "cell_type": "code",
   "execution_count": 84,
   "id": "5c951ab6",
   "metadata": {},
   "outputs": [],
   "source": [
    "y_train_preds = xgb_model.predict(X_train)"
   ]
  },
  {
   "cell_type": "code",
   "execution_count": 87,
   "id": "627b1a14",
   "metadata": {},
   "outputs": [
    {
     "name": "stdout",
     "output_type": "stream",
     "text": [
      "0.9996270596975847\n",
      "0.9996008664759264\n",
      "0.9574209245742092\n",
      "0.7213565536205316\n",
      "0.6909762946564336\n",
      "0.7587736212880835\n"
     ]
    }
   ],
   "source": [
    "#score for the train set\n",
    "print(accuracy_score(y_train, y_train_preds))\n",
    "print(f1_score(y_train, y_train_preds, average='weighted'))\n",
    "print(precision_score(y_train, y_train_preds))\n",
    "print(recall_score(y_train, y_train_preds))\n",
    "print(average_precision_score(y_train, y_train_preds))\n",
    "print(fbeta_score(y_train, y_train_preds, beta=2, pos_label=1, average='binary'))"
   ]
  },
  {
   "cell_type": "code",
   "execution_count": 88,
   "id": "1a47b981",
   "metadata": {},
   "outputs": [
    {
     "name": "stdout",
     "output_type": "stream",
     "text": [
      "0.9994910120352918\n",
      "0.9994450190836129\n",
      "0.8891013384321224\n",
      "0.616710875331565\n",
      "0.5487423768495128\n",
      "0.6569652444193274\n"
     ]
    }
   ],
   "source": [
    "#score for the validation set\n",
    "y_val_preds = xgb_model.predict(X_val)\n",
    "print(accuracy_score(y_val, y_val_preds))\n",
    "print(f1_score(y_val, y_val_preds, average='weighted'))\n",
    "print(precision_score(y_val, y_val_preds))\n",
    "print(recall_score(y_val, y_val_preds))\n",
    "print(average_precision_score(y_val, y_val_preds))\n",
    "print(fbeta_score(y_val, y_val_preds, beta=2, pos_label=1, average='binary'))"
   ]
  },
  {
   "cell_type": "code",
   "execution_count": 89,
   "id": "3f18becb",
   "metadata": {},
   "outputs": [
    {
     "name": "stdout",
     "output_type": "stream",
     "text": [
      "0.9994660758688588\n",
      "0.9994155090555906\n",
      "0.902332361516035\n",
      "0.6146971201588878\n",
      "0.5551164063860813\n",
      "0.6565549427238014\n"
     ]
    }
   ],
   "source": [
    "#score for the test set\n",
    "y_test_preds = xgb_model.predict(X_test)\n",
    "print(accuracy_score(y_test, y_test_preds))\n",
    "print(f1_score(y_test, y_test_preds, average='weighted'))\n",
    "print(precision_score(y_test, y_test_preds))\n",
    "print(recall_score(y_test, y_test_preds))\n",
    "print(average_precision_score(y_test, y_test_preds))\n",
    "print(fbeta_score(y_test, y_test_preds, beta=2, pos_label=1, average='binary'))"
   ]
  },
  {
   "cell_type": "code",
   "execution_count": 90,
   "id": "bdab60c1",
   "metadata": {},
   "outputs": [
    {
     "data": {
      "text/html": [
       "<div>\n",
       "<style scoped>\n",
       "    .dataframe tbody tr th:only-of-type {\n",
       "        vertical-align: middle;\n",
       "    }\n",
       "\n",
       "    .dataframe tbody tr th {\n",
       "        vertical-align: top;\n",
       "    }\n",
       "\n",
       "    .dataframe thead th {\n",
       "        text-align: right;\n",
       "    }\n",
       "</style>\n",
       "<table border=\"1\" class=\"dataframe\">\n",
       "  <thead>\n",
       "    <tr style=\"text-align: right;\">\n",
       "      <th></th>\n",
       "      <th>feature</th>\n",
       "      <th>feature_importance</th>\n",
       "    </tr>\n",
       "  </thead>\n",
       "  <tbody>\n",
       "    <tr>\n",
       "      <th>0</th>\n",
       "      <td>other</td>\n",
       "      <td>0.070217</td>\n",
       "    </tr>\n",
       "    <tr>\n",
       "      <th>1</th>\n",
       "      <td>amt</td>\n",
       "      <td>0.060683</td>\n",
       "    </tr>\n",
       "    <tr>\n",
       "      <th>2</th>\n",
       "      <td>zip_fraud_percentage</td>\n",
       "      <td>0.058051</td>\n",
       "    </tr>\n",
       "    <tr>\n",
       "      <th>3</th>\n",
       "      <td>hour</td>\n",
       "      <td>0.052783</td>\n",
       "    </tr>\n",
       "    <tr>\n",
       "      <th>4</th>\n",
       "      <td>travel</td>\n",
       "      <td>0.046240</td>\n",
       "    </tr>\n",
       "    <tr>\n",
       "      <th>...</th>\n",
       "      <td>...</td>\n",
       "      <td>...</td>\n",
       "    </tr>\n",
       "    <tr>\n",
       "      <th>82</th>\n",
       "      <td>KS</td>\n",
       "      <td>0.000000</td>\n",
       "    </tr>\n",
       "    <tr>\n",
       "      <th>83</th>\n",
       "      <td>MT</td>\n",
       "      <td>0.000000</td>\n",
       "    </tr>\n",
       "    <tr>\n",
       "      <th>84</th>\n",
       "      <td>AR</td>\n",
       "      <td>0.000000</td>\n",
       "    </tr>\n",
       "    <tr>\n",
       "      <th>85</th>\n",
       "      <td>AL</td>\n",
       "      <td>0.000000</td>\n",
       "    </tr>\n",
       "    <tr>\n",
       "      <th>86</th>\n",
       "      <td>AK</td>\n",
       "      <td>0.000000</td>\n",
       "    </tr>\n",
       "  </tbody>\n",
       "</table>\n",
       "<p>87 rows × 2 columns</p>\n",
       "</div>"
      ],
      "text/plain": [
       "                 feature  feature_importance\n",
       "0                  other            0.070217\n",
       "1                    amt            0.060683\n",
       "2   zip_fraud_percentage            0.058051\n",
       "3                   hour            0.052783\n",
       "4                 travel            0.046240\n",
       "..                   ...                 ...\n",
       "82                    KS            0.000000\n",
       "83                    MT            0.000000\n",
       "84                    AR            0.000000\n",
       "85                    AL            0.000000\n",
       "86                    AK            0.000000\n",
       "\n",
       "[87 rows x 2 columns]"
      ]
     },
     "execution_count": 90,
     "metadata": {},
     "output_type": "execute_result"
    }
   ],
   "source": [
    "feature_importances = xgb_model.feature_importances_\n",
    "\n",
    "X = df_cleaned[['cc_num', 'acct_num', 'amt', 'city_pop', 'entertainment', 'food_dining', 'gas_transport', \n",
    "                'grocery_net', 'grocery_pos', 'health_fitness', 'home', 'kids_pets', 'misc_net', 'misc_pos',\n",
    "                'personal_care', 'shopping_net', 'shopping_pos', 'travel', 'F', 'M', 'city_fraud_percentage', \n",
    "                'AK', 'AL', 'AR', 'AZ', 'CA', 'CO', 'CT', 'DC', 'DE', 'FL', 'GA', 'HI', 'IA', 'ID', 'IL', 'IN', \n",
    "                'KS', 'KY', 'LA', 'MA', 'MD', 'ME', 'MI', 'MN', 'MO', 'MS', 'MT', 'NC', 'ND', 'NE', 'NH', 'NJ', \n",
    "                'NM', 'NV', 'NY', 'OH', 'OK', 'OR', 'PA', 'RI', 'SC', 'SD', 'TN', 'TX', 'UT', 'VA', 'VT', 'WA', \n",
    "                'WI', 'WV', 'WY', 'Job_fraud_percentage', 'zip_fraud_percentage', 'month', 'weekday', 'hour', \n",
    "                'net', 'other', 'pos', 'lat_2', 'long_2', '30-45', '46-60', '61-75', '< 30', '> 75']]\n",
    "\n",
    "#dataframe with the values\n",
    "feat_imp = pd.DataFrame(\n",
    "    {\n",
    "        'feature': X.columns,\n",
    "     'feature_importance': feature_importances\n",
    "     }\n",
    ")\n",
    "\n",
    "feat_imp = feat_imp.sort_values('feature_importance', ascending=False).reset_index(drop=True)\n"
   ]
  },
  {
   "cell_type": "code",
   "execution_count": 97,
   "id": "64410abc",
   "metadata": {
    "scrolled": true
   },
   "outputs": [
    {
     "name": "stdout",
     "output_type": "stream",
     "text": [
      "                  feature  feature_importance\n",
      "0                   other               0.070\n",
      "1                     amt               0.061\n",
      "2    zip_fraud_percentage               0.058\n",
      "3                    hour               0.053\n",
      "4                  travel               0.046\n",
      "5             grocery_pos               0.041\n",
      "6                     net               0.034\n",
      "7           personal_care               0.033\n",
      "8           gas_transport               0.030\n",
      "9                misc_pos               0.029\n",
      "10         health_fitness               0.028\n",
      "11           shopping_pos               0.026\n",
      "12                  30-45               0.023\n",
      "13               misc_net               0.022\n",
      "14           shopping_net               0.021\n",
      "15  city_fraud_percentage               0.021\n",
      "16          entertainment               0.019\n",
      "17                  month               0.019\n",
      "18                   < 30               0.017\n",
      "19                     AZ               0.017\n",
      "20                      M               0.014\n",
      "21                      F               0.014\n",
      "22                  61-75               0.013\n",
      "23                  46-60               0.012\n",
      "24            grocery_net               0.011\n",
      "25                   home               0.011\n",
      "26                     NC               0.011\n",
      "27                     KY               0.010\n",
      "28                     IA               0.009\n",
      "29            food_dining               0.009\n",
      "30                     NJ               0.009\n",
      "31                     PA               0.009\n",
      "32                   > 75               0.008\n",
      "33              kids_pets               0.008\n",
      "34                     WI               0.008\n",
      "35   Job_fraud_percentage               0.008\n",
      "36                     FL               0.008\n",
      "37                     NY               0.007\n",
      "38                     IN               0.007\n",
      "39                weekday               0.007\n",
      "40                     OK               0.006\n",
      "41                  lat_2               0.006\n",
      "42                 cc_num               0.006\n",
      "43                 long_2               0.006\n",
      "44               acct_num               0.006\n",
      "45                     TX               0.006\n",
      "46                     MA               0.006\n",
      "47               city_pop               0.006\n",
      "48                     LA               0.006\n",
      "49                     GA               0.006\n",
      "50                     MO               0.005\n",
      "51                     CT               0.005\n",
      "52                     CA               0.005\n",
      "53                     DE               0.005\n",
      "54                     IL               0.005\n",
      "55                     UT               0.005\n",
      "56                    pos               0.004\n",
      "57                     MS               0.004\n",
      "58                     MI               0.004\n",
      "59                     ME               0.004\n",
      "60                     WA               0.003\n",
      "61                     HI               0.003\n",
      "62                     MN               0.003\n",
      "63                     TN               0.003\n",
      "64                     MD               0.003\n",
      "65                     WY               0.003\n",
      "66                     CO               0.002\n",
      "67                     NM               0.002\n",
      "68                     NE               0.002\n",
      "69                     VA               0.002\n",
      "70                     DC               0.001\n",
      "71                     OR               0.001\n",
      "72                     NV               0.001\n",
      "73                     OH               0.001\n",
      "74                     SD               0.001\n",
      "75                     ID               0.000\n",
      "76                     SC               0.000\n",
      "77                     NH               0.000\n",
      "78                     WV               0.000\n",
      "79                     VT               0.000\n",
      "80                     ND               0.000\n",
      "81                     RI               0.000\n",
      "82                     KS               0.000\n",
      "83                     MT               0.000\n",
      "84                     AR               0.000\n",
      "85                     AL               0.000\n",
      "86                     AK               0.000\n"
     ]
    }
   ],
   "source": [
    "with pd.option_context('display.max_rows', None,\n",
    "                       'display.max_columns', None,\n",
    "                       'display.precision', 3,\n",
    "                       ):\n",
    "    print(feat_imp)"
   ]
  },
  {
   "cell_type": "markdown",
   "id": "2527f6c6",
   "metadata": {},
   "source": [
    "**[8.13.4] variables:**\n",
    "\n",
    "'cc_num', 'acct_num', 'amt', 'city_pop', \n",
    "                'city_fraud_percentage', 'Job_fraud_percentage', \n",
    "                'zip_fraud_percentage', 'month', 'weekday', 'hour', 'net', 'other', 'pos', \n",
    "                'lat_2', 'long_2', 'category_oe', 'merchant_oe', 'gender_oe', \n",
    "                'city_oe', 'state_oe', 'zip_oe', 'job_oe', 'age_bin_oe'"
   ]
  },
  {
   "cell_type": "code",
   "execution_count": 38,
   "id": "9387a9f5",
   "metadata": {},
   "outputs": [
    {
     "data": {
      "text/plain": [
       "XGBClassifier(base_score=None, booster=None, callbacks=None,\n",
       "              colsample_bylevel=None, colsample_bynode=None,\n",
       "              colsample_bytree=0.8227637857953034, early_stopping_rounds=None,\n",
       "              enable_categorical=False, eval_metric=None, feature_types=None,\n",
       "              gamma=0.334151884264991, gpu_id=None, grow_policy=None,\n",
       "              importance_type=None, interaction_constraints=None,\n",
       "              learning_rate=0.3069476399304901, max_bin=None,\n",
       "              max_cat_threshold=None, max_cat_to_onehot=None,\n",
       "              max_delta_step=None, max_depth=5, max_leaves=None,\n",
       "              min_child_weight=None, missing=nan, monotone_constraints=None,\n",
       "              n_estimators=144, n_jobs=None, num_parallel_tree=None,\n",
       "              predictor=None, random_state=42, ...)"
      ]
     },
     "execution_count": 38,
     "metadata": {},
     "output_type": "execute_result"
    }
   ],
   "source": [
    "xgb_model = xgb.XGBClassifier(objective=\"binary:logistic\", random_state=42, colsample_bytree= 0.818698050035146,\n",
    "                                     gamma= 0.1336647470095445,\n",
    "                                     learning_rate= 0.27968679129212826,\n",
    "                                     n_estimators= 132,\n",
    "                                     subsample= 0.8343691639112242)\n",
    "xgb_model.fit(X_train, y_train)"
   ]
  },
  {
   "cell_type": "code",
   "execution_count": 39,
   "id": "fbbef71a",
   "metadata": {},
   "outputs": [],
   "source": [
    "y_train_preds = xgb_model.predict(X_train)"
   ]
  },
  {
   "cell_type": "code",
   "execution_count": 40,
   "id": "7ba8dd4e",
   "metadata": {},
   "outputs": [
    {
     "name": "stdout",
     "output_type": "stream",
     "text": [
      "0.999617158627609\n",
      "0.9995887004007982\n",
      "0.9595876288659794\n",
      "0.7109685304002444\n",
      "0.6825835104405429\n",
      "0.7498227750209447\n"
     ]
    }
   ],
   "source": [
    "#score for the train set\n",
    "print(accuracy_score(y_train, y_train_preds))\n",
    "print(f1_score(y_train, y_train_preds, average='weighted'))\n",
    "print(precision_score(y_train, y_train_preds))\n",
    "print(recall_score(y_train, y_train_preds))\n",
    "print(average_precision_score(y_train, y_train_preds))\n",
    "print(fbeta_score(y_train, y_train_preds, beta=2, pos_label=1, average='binary'))"
   ]
  },
  {
   "cell_type": "code",
   "execution_count": 41,
   "id": "9c14eab4",
   "metadata": {},
   "outputs": [
    {
     "name": "stdout",
     "output_type": "stream",
     "text": [
      "0.9994572750808587\n",
      "0.9994033975251009\n",
      "0.8809523809523809\n",
      "0.5888594164456233\n",
      "0.5192118204367956\n",
      "0.6306818181818183\n"
     ]
    }
   ],
   "source": [
    "#score for the validation set\n",
    "y_val_preds = xgb_model.predict(X_val)\n",
    "print(accuracy_score(y_val, y_val_preds))\n",
    "print(f1_score(y_val, y_val_preds, average='weighted'))\n",
    "print(precision_score(y_val, y_val_preds))\n",
    "print(recall_score(y_val, y_val_preds))\n",
    "print(average_precision_score(y_val, y_val_preds))\n",
    "print(fbeta_score(y_val, y_val_preds, beta=2, pos_label=1, average='binary'))"
   ]
  },
  {
   "cell_type": "code",
   "execution_count": 42,
   "id": "2ae79a85",
   "metadata": {},
   "outputs": [
    {
     "name": "stdout",
     "output_type": "stream",
     "text": [
      "0.999414443645188\n",
      "0.9993535590841012\n",
      "0.8848484848484849\n",
      "0.579940417080437\n",
      "0.51365577277904\n",
      "0.6228668941979524\n"
     ]
    }
   ],
   "source": [
    "#score for the test set\n",
    "y_test_preds = xgb_model.predict(X_test)\n",
    "print(accuracy_score(y_test, y_test_preds))\n",
    "print(f1_score(y_test, y_test_preds, average='weighted'))\n",
    "print(precision_score(y_test, y_test_preds))\n",
    "print(recall_score(y_test, y_test_preds))\n",
    "print(average_precision_score(y_test, y_test_preds))\n",
    "print(fbeta_score(y_test, y_test_preds, beta=2, pos_label=1, average='binary'))"
   ]
  },
  {
   "cell_type": "code",
   "execution_count": 43,
   "id": "01c3d5b6",
   "metadata": {},
   "outputs": [],
   "source": [
    "feature_importances = xgb_model.feature_importances_\n",
    "\n",
    "X = df_cleaned[['cc_num', 'acct_num', 'amt', 'city_pop', \n",
    "                'city_fraud_percentage', 'Job_fraud_percentage', \n",
    "                'zip_fraud_percentage', 'month', 'weekday', 'hour', 'net', 'other', 'pos', \n",
    "                'lat_2', 'long_2', 'category_oe', 'merchant_oe', 'gender_oe', \n",
    "                'city_oe', 'state_oe', 'zip_oe', 'job_oe', 'age_bin_oe']]\n",
    "\n",
    "#dataframe with the values\n",
    "feat_imp = pd.DataFrame(\n",
    "    {\n",
    "        'feature': X.columns,\n",
    "     'feature_importance': feature_importances\n",
    "     }\n",
    ")\n",
    "\n",
    "feat_imp = feat_imp.sort_values('feature_importance', ascending=False).reset_index(drop=True)\n"
   ]
  },
  {
   "cell_type": "code",
   "execution_count": 44,
   "id": "b3b90ede",
   "metadata": {
    "scrolled": true
   },
   "outputs": [
    {
     "name": "stdout",
     "output_type": "stream",
     "text": [
      "                  feature  feature_importance\n",
      "0                     amt               0.133\n",
      "1    zip_fraud_percentage               0.116\n",
      "2                   other               0.100\n",
      "3                    hour               0.098\n",
      "4                     net               0.078\n",
      "5             category_oe               0.064\n",
      "6                     pos               0.060\n",
      "7   city_fraud_percentage               0.055\n",
      "8              age_bin_oe               0.047\n",
      "9               gender_oe               0.043\n",
      "10                  month               0.030\n",
      "11   Job_fraud_percentage               0.026\n",
      "12                weekday               0.019\n",
      "13                 job_oe               0.017\n",
      "14               city_pop               0.014\n",
      "15                 zip_oe               0.014\n",
      "16                city_oe               0.014\n",
      "17                 cc_num               0.014\n",
      "18                  lat_2               0.013\n",
      "19               acct_num               0.013\n",
      "20                 long_2               0.013\n",
      "21               state_oe               0.010\n",
      "22            merchant_oe               0.009\n"
     ]
    }
   ],
   "source": [
    "with pd.option_context('display.max_rows', None,\n",
    "                       'display.max_columns', None,\n",
    "                       'display.precision', 3,\n",
    "                       ):\n",
    "    print(feat_imp)"
   ]
  },
  {
   "cell_type": "markdown",
   "id": "4fbd01e7",
   "metadata": {},
   "source": [
    "**[8.13.5] variables:**\n",
    "\n",
    "'cc_num', 'acct_num', 'amt', 'merch_lat', \n",
    "                'merch_long', 'city_pop', \n",
    "                'food_dining', 'gas_transport', 'grocery_net', 'grocery_pos', 'health_fitness', \n",
    "                'home', 'kids_pets', 'misc_net', 'misc_pos', 'personal_care', 'shopping_net', 'shopping_pos', \n",
    "                'travel', 'M', 'city_fraud_percentage', 'AK', 'AL', 'AR', 'AZ', 'CA', 'CO', 'CT', 'DC', 'DE', \n",
    "                'FL', 'GA', 'HI', 'IA', 'ID', 'IL', 'IN', 'KS', 'KY', 'LA', 'MA', 'MD', 'ME', 'MI', 'MN', 'MO', \n",
    "                'MS', 'MT', 'NC', 'ND', 'NE', 'NH', 'NJ', 'NM', 'NV', 'NY', 'OH', 'OK', 'OR', 'PA', 'RI', 'SC', \n",
    "                'SD', 'TN', 'TX', 'UT', 'VA', 'VT', 'WA', 'WI', 'WV', 'WY', 'Job_fraud_percentage', \n",
    "                'month', 'weekday', 'hour', 'net', 'other', 'pos', 'lat_2', 'long_2', \n",
    "                '30-45', '46-60', '61-75', '< 30', '> 75'"
   ]
  },
  {
   "cell_type": "code",
   "execution_count": 496,
   "id": "9125ffd4",
   "metadata": {},
   "outputs": [
    {
     "data": {
      "text/plain": [
       "XGBClassifier(base_score=None, booster=None, callbacks=None,\n",
       "              colsample_bylevel=None, colsample_bynode=None,\n",
       "              colsample_bytree=None, early_stopping_rounds=None,\n",
       "              enable_categorical=False, eval_metric=None, feature_types=None,\n",
       "              gamma=None, gpu_id=None, grow_policy=None, importance_type=None,\n",
       "              interaction_constraints=None, learning_rate=None, max_bin=None,\n",
       "              max_cat_threshold=None, max_cat_to_onehot=None,\n",
       "              max_delta_step=None, max_depth=None, max_leaves=None,\n",
       "              min_child_weight=None, missing=nan, monotone_constraints=None,\n",
       "              n_estimators=100, n_jobs=None, num_parallel_tree=None,\n",
       "              predictor=None, random_state=42, ...)"
      ]
     },
     "execution_count": 496,
     "metadata": {},
     "output_type": "execute_result"
    }
   ],
   "source": [
    "xgb_model = xgb.XGBClassifier(objective=\"binary:logistic\", random_state=42)\n",
    "xgb_model.fit(X_train, y_train)"
   ]
  },
  {
   "cell_type": "code",
   "execution_count": 497,
   "id": "58da8991",
   "metadata": {},
   "outputs": [],
   "source": [
    "y_train_preds = xgb_model.predict(X_train)"
   ]
  },
  {
   "cell_type": "code",
   "execution_count": 498,
   "id": "f5b92191",
   "metadata": {},
   "outputs": [
    {
     "name": "stdout",
     "output_type": "stream",
     "text": [
      "0.9995881888302729\n",
      "0.9995553582344261\n",
      "0.9532040472175379\n",
      "0.6908035441490987\n",
      "0.6588478408860785\n",
      "0.7310527677185723\n"
     ]
    }
   ],
   "source": [
    "#score for the train set\n",
    "print(accuracy_score(y_train, y_train_preds))\n",
    "print(f1_score(y_train, y_train_preds, average='weighted'))\n",
    "print(precision_score(y_train, y_train_preds))\n",
    "print(recall_score(y_train, y_train_preds))\n",
    "print(average_precision_score(y_train, y_train_preds))\n",
    "print(fbeta_score(y_train, y_train_preds, beta=2, pos_label=1, average='binary'))"
   ]
  },
  {
   "cell_type": "code",
   "execution_count": 499,
   "id": "9baf0811",
   "metadata": {},
   "outputs": [
    {
     "name": "stdout",
     "output_type": "stream",
     "text": [
      "0.9994440736639066\n",
      "0.9993854090046396\n",
      "0.8818737270875764\n",
      "0.5742705570291777\n",
      "0.5069049670219372\n",
      "0.6173367550613059\n"
     ]
    }
   ],
   "source": [
    "#score for the validation set\n",
    "y_val_preds = xgb_model.predict(X_val)\n",
    "print(accuracy_score(y_val, y_val_preds))\n",
    "print(f1_score(y_val, y_val_preds, average='weighted'))\n",
    "print(precision_score(y_val, y_val_preds))\n",
    "print(recall_score(y_val, y_val_preds))\n",
    "print(average_precision_score(y_val, y_val_preds))\n",
    "print(fbeta_score(y_val, y_val_preds, beta=2, pos_label=1, average='binary'))"
   ]
  },
  {
   "cell_type": "code",
   "execution_count": 500,
   "id": "63defde6",
   "metadata": {},
   "outputs": [
    {
     "name": "stdout",
     "output_type": "stream",
     "text": [
      "0.9994120967259303\n",
      "0.9993466590206965\n",
      "0.8953125\n",
      "0.5690168818272096\n",
      "0.5099572084898581\n",
      "0.6137532133676092\n"
     ]
    }
   ],
   "source": [
    "#score for the test set\n",
    "y_test_preds = xgb_model.predict(X_test)\n",
    "print(accuracy_score(y_test, y_test_preds))\n",
    "print(f1_score(y_test, y_test_preds, average='weighted'))\n",
    "print(precision_score(y_test, y_test_preds))\n",
    "print(recall_score(y_test, y_test_preds))\n",
    "print(average_precision_score(y_test, y_test_preds))\n",
    "print(fbeta_score(y_test, y_test_preds, beta=2, pos_label=1, average='binary'))"
   ]
  },
  {
   "cell_type": "markdown",
   "id": "7cf0e9be",
   "metadata": {},
   "source": [
    "**[8.13.6] variables:**\n",
    "\n",
    " 'amt', 'hour', 'category_oe', 'merchant_oe', 'job_oe'"
   ]
  },
  {
   "cell_type": "code",
   "execution_count": 60,
   "id": "f628a83a",
   "metadata": {},
   "outputs": [
    {
     "data": {
      "text/plain": [
       "XGBClassifier(base_score=None, booster=None, callbacks=None,\n",
       "              colsample_bylevel=None, colsample_bynode=None,\n",
       "              colsample_bytree=0.8227637857953034, early_stopping_rounds=None,\n",
       "              enable_categorical=False, eval_metric=None, feature_types=None,\n",
       "              gamma=0.334151884264991, gpu_id=None, grow_policy=None,\n",
       "              importance_type=None, interaction_constraints=None,\n",
       "              learning_rate=0.3069476399304901, max_bin=None,\n",
       "              max_cat_threshold=None, max_cat_to_onehot=None,\n",
       "              max_delta_step=None, max_depth=5, max_leaves=None,\n",
       "              min_child_weight=None, missing=nan, monotone_constraints=None,\n",
       "              n_estimators=144, n_jobs=None, num_parallel_tree=None,\n",
       "              predictor=None, random_state=42, ...)"
      ]
     },
     "execution_count": 60,
     "metadata": {},
     "output_type": "execute_result"
    }
   ],
   "source": [
    "xgb_model = xgb.XGBClassifier(objective=\"binary:logistic\", random_state=42, colsample_bytree= 0.818698050035146,\n",
    "                                     gamma= 0.1336647470095445,\n",
    "                                     learning_rate= 0.27968679129212826,\n",
    "                                     n_estimators= 132,\n",
    "                                     subsample= 0.8343691639112242)\n",
    "xgb_model.fit(X_train, y_train)"
   ]
  },
  {
   "cell_type": "code",
   "execution_count": 61,
   "id": "50ab911d",
   "metadata": {},
   "outputs": [],
   "source": [
    "y_train_preds = xgb_model.predict(X_train)"
   ]
  },
  {
   "cell_type": "code",
   "execution_count": 62,
   "id": "7f6468e1",
   "metadata": {},
   "outputs": [
    {
     "name": "stdout",
     "output_type": "stream",
     "text": [
      "0.9991701436535242\n",
      "0.9990163857745159\n",
      "0.8362183754993342\n",
      "0.3837457989611977\n",
      "0.3216349352098358\n",
      "0.4303138276003837\n"
     ]
    }
   ],
   "source": [
    "#score for the train set\n",
    "print(accuracy_score(y_train, y_train_preds))\n",
    "print(f1_score(y_train, y_train_preds, average='weighted'))\n",
    "print(precision_score(y_train, y_train_preds))\n",
    "print(recall_score(y_train, y_train_preds))\n",
    "print(average_precision_score(y_train, y_train_preds))\n",
    "print(fbeta_score(y_train, y_train_preds, beta=2, pos_label=1, average='binary'))"
   ]
  },
  {
   "cell_type": "code",
   "execution_count": 63,
   "id": "e83498be",
   "metadata": {},
   "outputs": [
    {
     "name": "stdout",
     "output_type": "stream",
     "text": [
      "0.9991257728329508\n",
      "0.9989691697130515\n",
      "0.7219101123595506\n",
      "0.34084880636604775\n",
      "0.24679121168190854\n",
      "0.381079478054567\n"
     ]
    }
   ],
   "source": [
    "#score for the validation set\n",
    "y_val_preds = xgb_model.predict(X_val)\n",
    "print(accuracy_score(y_val, y_val_preds))\n",
    "print(f1_score(y_val, y_val_preds, average='weighted'))\n",
    "print(precision_score(y_val, y_val_preds))\n",
    "print(recall_score(y_val, y_val_preds))\n",
    "print(average_precision_score(y_val, y_val_preds))\n",
    "print(fbeta_score(y_val, y_val_preds, beta=2, pos_label=1, average='binary'))"
   ]
  },
  {
   "cell_type": "code",
   "execution_count": 64,
   "id": "6648a00f",
   "metadata": {},
   "outputs": [
    {
     "name": "stdout",
     "output_type": "stream",
     "text": [
      "0.9990588853776369\n",
      "0.9988696424976137\n",
      "0.7389277389277389\n",
      "0.31479642502482624\n",
      "0.23342149771005868\n",
      "0.3556203724478349\n"
     ]
    }
   ],
   "source": [
    "#score for the test set\n",
    "y_test_preds = xgb_model.predict(X_test)\n",
    "print(accuracy_score(y_test, y_test_preds))\n",
    "print(f1_score(y_test, y_test_preds, average='weighted'))\n",
    "print(precision_score(y_test, y_test_preds))\n",
    "print(recall_score(y_test, y_test_preds))\n",
    "print(average_precision_score(y_test, y_test_preds))\n",
    "print(fbeta_score(y_test, y_test_preds, beta=2, pos_label=1, average='binary'))"
   ]
  },
  {
   "cell_type": "markdown",
   "id": "b0998445",
   "metadata": {},
   "source": [
    "**[8.14]** Grid search k value with SMOTE for imbalanced classification"
   ]
  },
  {
   "cell_type": "markdown",
   "id": "4682df82",
   "metadata": {},
   "source": [
    "based on: (Brownlee, 2020d), (imbalanced-learn developers, 2023a), (imbalanced-learn developers, 2023b), (LOCPHAM201, 2022) and (Muralidhar, 2021)"
   ]
  },
  {
   "cell_type": "code",
   "execution_count": 83,
   "id": "2a9c09e8",
   "metadata": {},
   "outputs": [],
   "source": [
    "import xgboost as xgb\n",
    "from sklearn.metrics import fbeta_score, make_scorer\n",
    "\n",
    "from scipy.stats import randint\n",
    "from sklearn.model_selection import RandomizedSearchCV\n",
    "\n",
    "from sklearn.metrics import fbeta_score, make_scorer\n",
    "from sklearn.model_selection import StratifiedKFold\n",
    "from sklearn.model_selection import cross_val_score\n",
    "from sklearn.model_selection import RepeatedStratifiedKFold\n",
    "\n",
    "import xgboost as xgb\n",
    "from xgboost import XGBClassifier\n",
    "\n",
    "from sklearn.metrics import accuracy_score, precision_score, recall_score, f1_score, average_precision_score\n",
    "from sklearn.metrics import auc, precision_recall_curve\n",
    "\n",
    "from numpy import mean\n",
    "from imblearn.pipeline import Pipeline\n",
    "from imblearn.over_sampling import SMOTE\n",
    "from imblearn.under_sampling import RandomUnderSampler"
   ]
  },
  {
   "cell_type": "markdown",
   "id": "3e8827c2",
   "metadata": {},
   "source": [
    "**varables:**\n",
    "\n",
    "'cc_num', 'acct_num', 'amt',\n",
    "                'merch_lat', 'merch_long', 'city_pop', 'entertainment', 'food_dining', 'gas_transport',\n",
    "                'grocery_net', 'grocery_pos', 'health_fitness', 'home', 'kids_pets', 'misc_net',\n",
    "                'misc_pos', 'personal_care', 'shopping_net', 'shopping_pos', 'travel', 'F', 'M',\n",
    "                'city_fraud_percentage', 'Job_fraud_percentage',\n",
    "                'zip_fraud_percentage', 'month', 'weekday', 'hour', 'net', 'other', 'pos',\n",
    "                'lat_2', 'long_2', 'merchant_oe', 'city_oe', 'state_oe', 'zip_oe', 'job_oe', 'age_bin_oe'"
   ]
  },
  {
   "cell_type": "code",
   "execution_count": 84,
   "id": "65db959a",
   "metadata": {},
   "outputs": [],
   "source": [
    "#!pip install imbalanced-learn"
   ]
  },
  {
   "cell_type": "code",
   "execution_count": 85,
   "id": "6e060c9d",
   "metadata": {},
   "outputs": [],
   "source": [
    "#custon metric for performance\n",
    "f2_scorer = make_scorer(fbeta_score, beta=2, pos_label=1, average='binary')"
   ]
  },
  {
   "cell_type": "code",
   "execution_count": 86,
   "id": "cd867d10",
   "metadata": {},
   "outputs": [
    {
     "name": "stdout",
     "output_type": "stream",
     "text": [
      "> k=1, Mean f2: 0.741\n",
      "> k=3, Mean f2: 0.737\n",
      "> k=5, Mean f2: 0.744\n",
      "> k=7, Mean f2: 0.751\n"
     ]
    }
   ],
   "source": [
    "# values to evaluate\n",
    "k_values = [1, 3, 5, 7]\n",
    "for k in k_values:\n",
    "    # define pipeline\n",
    "    xgb_model = xgb.XGBClassifier(objective=\"binary:logistic\", random_state=42, colsample_bytree= 0.818698050035146,\n",
    "                                     gamma= 0.1336647470095445,\n",
    "                                     learning_rate= 0.27968679129212826,\n",
    "                                     n_estimators= 132,\n",
    "                                     subsample= 0.8343691639112242)\n",
    "\n",
    "    over = SMOTE(sampling_strategy=0.1, k_neighbors=k)\n",
    "    under = RandomUnderSampler(sampling_strategy=0.5)\n",
    "    steps = [('over', over), ('under', under), ('model', xgb_model)]\n",
    "    pipeline = Pipeline(steps=steps)\n",
    "    \n",
    "    # evaluate pipeline\n",
    "    cv = RepeatedStratifiedKFold(n_splits=3, n_repeats=2, random_state=1)\n",
    "    scores = cross_val_score(pipeline, X_train, y_train, scoring=f2_scorer, cv=cv, n_jobs=-1)\n",
    "    score = mean(scores)\n",
    "    print('> k=%d, Mean f2: %.3f' % (k, score))"
   ]
  },
  {
   "cell_type": "code",
   "execution_count": 87,
   "id": "e4fd8cb2",
   "metadata": {},
   "outputs": [
    {
     "name": "stdout",
     "output_type": "stream",
     "text": [
      "> k=9, Mean f2: 0.755\n",
      "> k=11, Mean f2: 0.767\n",
      "> k=13, Mean f2: 0.766\n"
     ]
    }
   ],
   "source": [
    "# values to evaluate\n",
    "k_values = [9, 11, 13]\n",
    "for k in k_values:\n",
    "    # define pipeline\n",
    "    xgb_model = xgb.XGBClassifier(objective=\"binary:logistic\", random_state=42, colsample_bytree= 0.818698050035146,\n",
    "                                     gamma= 0.1336647470095445,\n",
    "                                     learning_rate= 0.27968679129212826,\n",
    "                                     n_estimators= 132,\n",
    "                                     subsample= 0.8343691639112242)\n",
    "\n",
    "    over = SMOTE(sampling_strategy=0.1, k_neighbors=k)\n",
    "    under = RandomUnderSampler(sampling_strategy=0.5)\n",
    "    steps = [('over', over), ('under', under), ('model', xgb_model)]\n",
    "    pipeline = Pipeline(steps=steps)\n",
    "    \n",
    "    # evaluate pipeline\n",
    "    cv = RepeatedStratifiedKFold(n_splits=3, n_repeats=2, random_state=1)\n",
    "    scores = cross_val_score(pipeline, X_train, y_train, scoring=f2_scorer, cv=cv, n_jobs=-1)\n",
    "    score = mean(scores)\n",
    "    print('> k=%d, Mean f2: %.3f' % (k, score))"
   ]
  },
  {
   "cell_type": "markdown",
   "id": "2e303c15",
   "metadata": {},
   "source": [
    "**[8.15]** XGBoost Classifier with Grid Search and SMOTE"
   ]
  },
  {
   "cell_type": "markdown",
   "id": "5af93a1a",
   "metadata": {},
   "source": [
    "based on: (Brownlee, 2020d), (imbalanced-learn developers, 2023a), (imbalanced-learn developers, 2023b), (LOCPHAM201, 2022) and (Muralidhar, 2021)"
   ]
  },
  {
   "cell_type": "markdown",
   "id": "b40d90a4",
   "metadata": {},
   "source": [
    "**variables:**\n",
    "\n",
    "'cc_num', 'acct_num', 'amt',\n",
    "                'city_pop', 'entertainment', 'food_dining', 'gas_transport',\n",
    "                'grocery_net', 'grocery_pos', 'health_fitness', 'home', 'kids_pets', 'misc_net',\n",
    "                'misc_pos', 'personal_care', 'shopping_net', 'shopping_pos', 'travel', 'F', 'M',\n",
    "                'city_fraud_percentage', 'Job_fraud_percentage',\n",
    "                'zip_fraud_percentage', 'month', 'weekday', 'hour', 'net', 'other', 'pos',\n",
    "                'merchant_oe', 'city_oe', 'state_oe', 'zip_oe', 'job_oe', 'age_bin_oe', \n",
    "                'dist_from_customer_km'"
   ]
  },
  {
   "cell_type": "code",
   "execution_count": 77,
   "id": "8a9ea91d",
   "metadata": {},
   "outputs": [],
   "source": [
    "from sklearn.model_selection import GridSearchCV\n",
    "from sklearn.metrics import fbeta_score, make_scorer\n",
    "\n",
    "from scipy.stats import randint\n",
    "from sklearn.model_selection import RandomizedSearchCV\n",
    "\n",
    "from sklearn.model_selection import StratifiedKFold\n",
    "from sklearn.model_selection import cross_val_score\n",
    "from sklearn.model_selection import RepeatedStratifiedKFold\n",
    "\n",
    "import xgboost as xgb\n",
    "from xgboost import XGBClassifier\n",
    "\n",
    "from sklearn.metrics import accuracy_score, precision_score, recall_score, f1_score, average_precision_score, fbeta_score\n",
    "from sklearn.metrics import auc, precision_recall_curve\n",
    "\n",
    "from numpy import mean\n",
    "from imblearn.pipeline import Pipeline\n",
    "from imblearn.over_sampling import SMOTE\n",
    "from imblearn.under_sampling import RandomUnderSampler\n",
    "from array import array"
   ]
  },
  {
   "cell_type": "code",
   "execution_count": 78,
   "id": "7b6a8031",
   "metadata": {},
   "outputs": [
    {
     "data": {
      "text/plain": [
       "{'classifier__max_depth': [3, 5, 10],\n",
       " 'classifier__scale_pos_weight': [5, 10, 15]}"
      ]
     },
     "execution_count": 78,
     "metadata": {},
     "output_type": "execute_result"
    }
   ],
   "source": [
    "hyperparams_grid = {\n",
    "    \"classifier__max_depth\": [3, 5, 10], # default 3\n",
    "    \"classifier__scale_pos_weight\": [5, 10, 15]\n",
    "    }\n",
    "\n",
    "hyperparams_grid"
   ]
  },
  {
   "cell_type": "markdown",
   "id": "89458517",
   "metadata": {},
   "source": [
    "note:\n",
    "    \n",
    "    * colsample_bytree (Optional[float]) – Subsample ratio of columns when constructing each tree.\n",
    "    * gamma (Optional[float]) – (min_split_loss) Minimum loss reduction required to make a further partition on a leaf node of the tree.\n",
    "    * learning_rate (Optional[float]) – Boosting learning rate (xgb’s “eta”)\n",
    "    * max_depth (Optional[int]) – Maximum tree depth for base learners.\n",
    "    * n_estimators (int) – Number of gradient boosted trees. Equivalent to number of boosting rounds.\n",
    "    * subsample (Optional[float]) – Subsample ratio of the training instance.\n",
    "    * scale_pos_weight (Optional[float]) – Balancing of positive and negative weights."
   ]
  },
  {
   "cell_type": "code",
   "execution_count": 79,
   "id": "3cf5f8b9",
   "metadata": {},
   "outputs": [],
   "source": [
    "#instantiate the Classifier \n",
    "xgb_model = XGBClassifier(objective=\"binary:logistic\", random_state=42, colsample_bytree= 0.818698050035146,\n",
    "                                     gamma= 0.1336647470095445,\n",
    "                                     learning_rate= 0.27968679129212826,\n",
    "                                     n_estimators= 132,\n",
    "                                     subsample= 0.8343691639112242)"
   ]
  },
  {
   "cell_type": "code",
   "execution_count": 80,
   "id": "3f8156bb",
   "metadata": {},
   "outputs": [],
   "source": [
    "#custon metric for performance\n",
    "f2_scorer = make_scorer(fbeta_score, beta=2, pos_label=1, average='binary')"
   ]
  },
  {
   "cell_type": "code",
   "execution_count": 81,
   "id": "5ea58391",
   "metadata": {},
   "outputs": [],
   "source": [
    "over = SMOTE(sampling_strategy=0.1, k_neighbors=11)\n",
    "under = RandomUnderSampler(sampling_strategy=0.5)\n",
    "steps = [('over', over), ('under', under), ('classifier', xgb_model)]\n",
    "pipeline = Pipeline(steps=steps)"
   ]
  },
  {
   "cell_type": "code",
   "execution_count": 82,
   "id": "0954b175",
   "metadata": {},
   "outputs": [],
   "source": [
    "#Instantiate a KFold \n",
    "cv = RepeatedStratifiedKFold(n_splits=2, n_repeats=2, random_state=42)"
   ]
  },
  {
   "cell_type": "code",
   "execution_count": 83,
   "id": "d9a94ec2",
   "metadata": {},
   "outputs": [],
   "source": [
    "#Instantiate a GridSearchCV\n",
    "grid_search = GridSearchCV(pipeline, hyperparams_grid, cv=cv, scoring=f2_scorer, verbose=2, return_train_score = True, n_jobs= -1)"
   ]
  },
  {
   "cell_type": "code",
   "execution_count": 84,
   "id": "f5c8f83d",
   "metadata": {
    "scrolled": true
   },
   "outputs": [
    {
     "name": "stdout",
     "output_type": "stream",
     "text": [
      "Fitting 4 folds for each of 9 candidates, totalling 36 fits\n"
     ]
    },
    {
     "data": {
      "text/plain": [
       "GridSearchCV(cv=RepeatedStratifiedKFold(n_repeats=2, n_splits=2, random_state=42),\n",
       "             estimator=Pipeline(steps=[('over',\n",
       "                                        SMOTE(k_neighbors=11,\n",
       "                                              sampling_strategy=0.1)),\n",
       "                                       ('under',\n",
       "                                        RandomUnderSampler(sampling_strategy=0.5)),\n",
       "                                       ('classifier',\n",
       "                                        XGBClassifier(base_score=None,\n",
       "                                                      booster=None,\n",
       "                                                      callbacks=None,\n",
       "                                                      colsample_bylevel=None,\n",
       "                                                      colsample_bynode=None,\n",
       "                                                      colsample_bytree=0.818...\n",
       "                                                      max_leaves=None,\n",
       "                                                      min_child_weight=None,\n",
       "                                                      missing=nan,\n",
       "                                                      monotone_constraints=None,\n",
       "                                                      n_estimators=132,\n",
       "                                                      n_jobs=None,\n",
       "                                                      num_parallel_tree=None,\n",
       "                                                      predictor=None,\n",
       "                                                      random_state=42, ...))]),\n",
       "             n_jobs=-1,\n",
       "             param_grid={'classifier__max_depth': [3, 5, 10],\n",
       "                         'classifier__scale_pos_weight': [5, 10, 15]},\n",
       "             return_train_score=True,\n",
       "             scoring=make_scorer(fbeta_score, beta=2, pos_label=1, average=binary),\n",
       "             verbose=2)"
      ]
     },
     "execution_count": 84,
     "metadata": {},
     "output_type": "execute_result"
    }
   ],
   "source": [
    "#Fit the GridSearchCV on the training set\n",
    "grid_search.fit(X_train, y_train)"
   ]
  },
  {
   "cell_type": "code",
   "execution_count": 85,
   "id": "3b7b1bbc",
   "metadata": {},
   "outputs": [
    {
     "data": {
      "text/plain": [
       "0.6600109477145526"
      ]
     },
     "execution_count": 85,
     "metadata": {},
     "output_type": "execute_result"
    }
   ],
   "source": [
    "grid_search.best_score_"
   ]
  },
  {
   "cell_type": "code",
   "execution_count": 86,
   "id": "234fb10d",
   "metadata": {},
   "outputs": [
    {
     "data": {
      "text/plain": [
       "{'classifier__max_depth': 10, 'classifier__scale_pos_weight': 5}"
      ]
     },
     "execution_count": 86,
     "metadata": {},
     "output_type": "execute_result"
    }
   ],
   "source": [
    "grid_search.best_params_"
   ]
  },
  {
   "cell_type": "code",
   "execution_count": 87,
   "id": "ae5d2b62",
   "metadata": {},
   "outputs": [
    {
     "name": "stdout",
     "output_type": "stream",
     "text": [
      "0.288365 (0.008232) with: {'classifier__max_depth': 3, 'classifier__scale_pos_weight': 5}\n",
      "0.210750 (0.013463) with: {'classifier__max_depth': 3, 'classifier__scale_pos_weight': 10}\n",
      "0.179456 (0.013128) with: {'classifier__max_depth': 3, 'classifier__scale_pos_weight': 15}\n",
      "0.498692 (0.014872) with: {'classifier__max_depth': 5, 'classifier__scale_pos_weight': 5}\n",
      "0.439936 (0.024233) with: {'classifier__max_depth': 5, 'classifier__scale_pos_weight': 10}\n",
      "0.399036 (0.016653) with: {'classifier__max_depth': 5, 'classifier__scale_pos_weight': 15}\n",
      "0.660011 (0.008328) with: {'classifier__max_depth': 10, 'classifier__scale_pos_weight': 5}\n",
      "0.655426 (0.006355) with: {'classifier__max_depth': 10, 'classifier__scale_pos_weight': 10}\n",
      "0.649009 (0.005175) with: {'classifier__max_depth': 10, 'classifier__scale_pos_weight': 15}\n"
     ]
    }
   ],
   "source": [
    "# report all configurations\n",
    "means = grid_search.cv_results_['mean_test_score']\n",
    "stds = grid_search.cv_results_['std_test_score']\n",
    "params = grid_search.cv_results_['params']\n",
    "for mean, stdev, param in zip(means, stds, params):\n",
    "    print(\"%f (%f) with: %r\" % (mean, stdev, param))"
   ]
  },
  {
   "cell_type": "code",
   "execution_count": 89,
   "id": "65f38535",
   "metadata": {},
   "outputs": [
    {
     "name": "stdout",
     "output_type": "stream",
     "text": [
      "0.8826860841423949\n",
      "0.7121141253507951\n",
      "0.7025305255706954\n"
     ]
    }
   ],
   "source": [
    "print(grid_search.score(X_train, y_train))\n",
    "print(grid_search.score(X_val, y_val))\n",
    "print(grid_search.score(X_test, y_test))"
   ]
  },
  {
   "cell_type": "markdown",
   "id": "352c5017",
   "metadata": {},
   "source": [
    "# 9. Conclusion"
   ]
  },
  {
   "cell_type": "markdown",
   "id": "5b48cdce",
   "metadata": {},
   "source": [
    "The model [8.15] based on xgboost and using the SMOTE oversampling and undersampling technique was the best resulting model with an f2 score value of 88% in training and around 70% in tests.\n",
    "This model included hyperparameter tuning through grid search and selecting the variables to be used in the training process through iterative training for different groups of variables.\n",
    "\n",
    "Despite the model presenting a slight degree of overfitting, a score of 70% considering the positive class (fraud event) is a promising result that will help the compliance team identify fraudulent behaviours with a higher degree of accuracy.\n",
    "\n",
    "In future studies, the proposed model can be improved by implementing unsupervised techniques that help collect similar behaviours for each study group (fraud and non-fraud). Later this knowledge can be incorporated into the classification model.\n",
    "Additionally, the model can be improved by including new explanatory variables of fraud in the purchase process.\n",
    "\n",
    "Finally, other algorithms, such as neural networks, can be tested for the case study, where it is expected to perform better in handling multiple variables resulting from the one hot encoding process for categorical variables.\n"
   ]
  },
  {
   "cell_type": "markdown",
   "id": "e172ec09",
   "metadata": {},
   "source": [
    "# 10. References"
   ]
  },
  {
   "cell_type": "markdown",
   "id": "870a64a0",
   "metadata": {},
   "source": [
    "Brownlee, J. (2020a, January 5). ROC Curves and Precision-Recall Curves for Imbalanced Classification. MachineLearningMastery.Com. https://machinelearningmastery.com/roc-curves-and-precision-recall-curves-for-imbalanced-classification/\n",
    "\n",
    "Brownlee, J. (2020b, January 7). Tour of Evaluation Metrics for Imbalanced Classification. MachineLearningMastery.Com. https://machinelearningmastery.com/tour-of-evaluation-metrics-for-imbalanced-classification/\n",
    "\n",
    "Brownlee, J. (2020c, January 12). How to Fix k-Fold Cross-Validation for Imbalanced Classification. MachineLearningMastery.Com. https://machinelearningmastery.com/cross-validation-for-imbalanced-classification/\n",
    "\n",
    "Brownlee, J. (2020d, January 16). SMOTE for Imbalanced Classification with Python. MachineLearningMastery.Com. https://machinelearningmastery.com/smote-oversampling-for-imbalanced-classification/\n",
    "\n",
    "Brownlee, J. (2020e, February 4). How to Configure XGBoost for Imbalanced Classification. MachineLearningMastery.Com. https://machinelearningmastery.com/xgboost-for-imbalanced-classification/\n",
    "\n",
    "Brownlee, J. (2020f, June 11). Ordinal and One-Hot Encodings for Categorical Data. MachineLearningMastery.Com. https://machinelearningmastery.com/one-hot-encoding-for-categorical-data/\n",
    "\n",
    "Brownlee, J. (2021, March 21). A Gentle Introduction to XGBoost Loss Functions. MachineLearningMastery.Com. https://machinelearningmastery.com/xgboost-loss-functions/\n",
    "\n",
    "Czakon, J. (2022, July 21). F1 Score vs ROC AUC vs Accuracy vs PR AUC: Which Evaluation Metric Should You Choose? Neptune.Ai. https://neptune.ai/blog/f1-score-accuracy-roc-auc-pr-auc\n",
    "\n",
    "Filho, M. (2023, March 24). Do Decision Trees Need Feature Scaling Or Normalization? https://forecastegy.com/posts/do-decision-trees-need-feature-scaling-or-normalization/\n",
    "\n",
    "H2O Driverless AI. (2023). Scorers—Using Driverless AI 1.10.5 documentation. https://docs.h2o.ai/driverless-ai/1-10-lts/docs/userguide/scorers.html\n",
    "\n",
    "hmong.wiki. (2023). Grados decimales PrecisiónyEjemplo. https://hmong.es/wiki/Decimal_degrees\n",
    "\n",
    "imbalanced-learn developers. (2023a). RandomUnderSampler—Version 0.10.1. https://imbalanced-learn.org/stable/references/generated/imblearn.under_sampling.RandomUnderSampler.html\n",
    "\n",
    "imbalanced-learn developers. (2023b). SMOTE — Version 0.10.1. https://imbalanced-learn.org/stable/references/generated/imblearn.over_sampling.SMOTE.html\n",
    "\n",
    "LOCPHAM201. (2022). Fraud Detection using RandomForest+SMOTE+Tuning. https://kaggle.com/code/locpham2001/fraud-detection-using-randomforest-smote-tuning\n",
    "\n",
    "Malato, G. (2021, June 7). Precision, recall, accuracy. How to choose? Your Data Teacher. https://www.yourdatateacher.com/2021/06/07/precision-recall-accuracy-how-to-choose/\n",
    "\n",
    "Muralidhar, K. S. V. (2021, March 31). The right way of using SMOTE with Cross-validation. Medium. https://towardsdatascience.com/the-right-way-of-using-smote-with-cross-validation-92a8d09d00c7\n",
    "\n",
    "Olugbenga, M. (2022, July 22). Balanced Accuracy: When Should You Use It? Neptune.Ai. https://neptune.ai/blog/balanced-accuracy\n",
    "\n",
    "Saxena, S. (2020, August 13). Here’s All you Need to Know About Encoding Categorical Data (with Python code). Analytics Vidhya. https://www.analyticsvidhya.com/blog/2020/08/types-of-categorical-data-encoding/\n",
    "\n",
    "scikit-learn developers. (2023a). 3.1. Cross-validation: Evaluating estimator performance. Scikit-Learn. https://scikit-learn/stable/modules/cross_validation.html\n",
    "\n",
    "scikit-learn developers. (2023b). Sklearn.preprocessing.OrdinalEncoder. Scikit-Learn. https://scikit-learn/stable/modules/generated/sklearn.preprocessing.OrdinalEncoder.html\n",
    "\n",
    "scikit-learn developers. (2023c). Sklearn.model_selection.RepeatedStratifiedKFold. Scikit-Learn. https://scikit-learn/stable/modules/generated/sklearn.model_selection.RepeatedStratifiedKFold.html\n",
    "\n",
    "So, A. (2023). Course Modules: 36106 Machine Learning Algorithms and Applications—Autumn 2023. Lab Solutions. https://canvas.uts.edu.au/courses/26202/modules\n",
    "\n",
    "xgboost developers. (2022). Python API Reference—Xgboost 1.7.5 documentation. https://xgboost.readthedocs.io/en/stable/python/python_api.html#module-xgboost.sklearn\n"
   ]
  },
  {
   "cell_type": "code",
   "execution_count": null,
   "id": "881436be",
   "metadata": {},
   "outputs": [],
   "source": []
  }
 ],
 "metadata": {
  "kernelspec": {
   "display_name": "Python 3 (ipykernel)",
   "language": "python",
   "name": "python3"
  },
  "language_info": {
   "codemirror_mode": {
    "name": "ipython",
    "version": 3
   },
   "file_extension": ".py",
   "mimetype": "text/x-python",
   "name": "python",
   "nbconvert_exporter": "python",
   "pygments_lexer": "ipython3",
   "version": "3.9.13"
  }
 },
 "nbformat": 4,
 "nbformat_minor": 5
}
